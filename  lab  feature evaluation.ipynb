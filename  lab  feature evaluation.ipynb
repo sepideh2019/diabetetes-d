{
 "cells": [
  {
   "cell_type": "code",
   "execution_count": 18,
   "metadata": {},
   "outputs": [],
   "source": [
    "import numpy as np\n",
    "import pandas as pd\n",
    "import matplotlib.pyplot as plt\n",
    "from matplotlib import rcParams\n",
    "from matplotlib.cm import rainbow\n",
    "%matplotlib inline\n",
    "import warnings\n",
    "warnings.filterwarnings('ignore')\n",
    "#import plotly.graph_objs as go\n",
    "#import plotly.tools as tls\n",
    "import os\n",
    "import gc\n",
    "from sklearn.model_selection import train_test_split\n",
    "from sklearn.preprocessing import StandardScaler\n",
    "from sklearn.neighbors import KNeighborsClassifier\n",
    "from sklearn.svm import SVC\n",
    "from sklearn.tree import DecisionTreeClassifier\n",
    "from sklearn.ensemble import RandomForestClassifier\n",
    "import numpy as np\n",
    "import pandas as pd\n",
    "import matplotlib.pyplot as plt\n",
    "from matplotlib import rcParams\n",
    "from matplotlib.cm import rainbow\n",
    "%matplotlib inline\n",
    "import warnings\n",
    "warnings.filterwarnings('ignore')\n",
    "from sklearn.tree import export_graphviz\n",
    "from sklearn.model_selection import train_test_split\n",
    "from sklearn.preprocessing import StandardScaler\n",
    "from sklearn.neighbors import KNeighborsClassifier\n",
    "from sklearn.svm import SVC\n",
    "from sklearn.tree import DecisionTreeClassifier\n",
    "from sklearn.ensemble import RandomForestClassifier\n",
    "\n",
    "\n",
    "\n",
    "\n",
    "\n",
    "\n",
    "\n",
    "\n",
    "import time\n",
    "import random\n",
    "import warnings\n",
    "warnings.filterwarnings(\"ignore\")\n",
    "from math import *\n",
    "import operator\n",
    "import pandas as pd\n",
    "import numpy as np\n",
    "pd.set_option(\"display.max_columns\", 10000)\n",
    "import string\n",
    "from pprint import pprint\n",
    "\n",
    "# import plotting libraries\n",
    "import matplotlib\n",
    "import matplotlib.pyplot as plt\n",
    "from pandas.plotting import scatter_matrix\n",
    "from matplotlib import style\n",
    "%matplotlib inline \n",
    "\n",
    "import seaborn as sns\n",
    "sns.set(style=\"white\", color_codes=True)\n",
    "sns.set(font_scale=1.5)\n",
    "\n",
    "# load make_blobs to simulate data\n",
    "from sklearn.datasets import make_blobs\n",
    "from sklearn.datasets import make_classification\n",
    "\n",
    "# import the ML algorithm\n",
    "from sklearn.neighbors import KNeighborsClassifier\n",
    "from sklearn.linear_model import LogisticRegression\n",
    "from sklearn.naive_bayes import GaussianNB\n",
    "from sklearn.naive_bayes import MultinomialNB\n",
    "from sklearn.tree import DecisionTreeClassifier\n",
    "from sklearn.ensemble import RandomForestClassifier\n",
    "from sklearn.ensemble import GradientBoostingClassifier\n",
    "from sklearn.cluster import KMeans\n",
    "import xgboost as xgb\n",
    "from xgboost import XGBClassifier\n",
    "from xgboost import plot_importance\n",
    "from sklearn.svm import SVC\n",
    "from sklearn.model_selection import GridSearchCV\n",
    "import graphviz\n",
    "from IPython.display import display\n",
    "\n",
    "\n",
    "# pre-processing\n",
    "#from sklearn.preprocessing import Imputer\n",
    "from sklearn.feature_selection import SelectKBest\n",
    "from sklearn.feature_selection import RFE\n",
    "from sklearn.feature_selection import RFECV\n",
    "\n",
    "\n",
    "# import libraries for model validation\n",
    "from sklearn.model_selection import cross_val_score\n",
    "from sklearn.model_selection import train_test_split\n",
    "from sklearn.model_selection import KFold \n",
    "\n",
    "# import libraries for metrics and reporting\n",
    "from sklearn.linear_model import LogisticRegression\n",
    "\n",
    "from sklearn.metrics import confusion_matrix\n",
    "from sklearn.metrics import classification_report\n",
    "from sklearn.metrics import accuracy_score\n",
    "from sklearn.metrics import precision_score\n",
    "from sklearn.metrics import recall_score\n",
    "from sklearn.metrics import f1_score\n",
    "from sklearn import metrics\n",
    "from sklearn.metrics import classification_report\n",
    "from sklearn.metrics import roc_curve, auc\n",
    "from sklearn.metrics import adjusted_rand_score\n",
    "from sklearn.model_selection import GridSearchCV\n",
    "from statsmodels.stats.outliers_influence import variance_inflation_factor\n",
    "from scipy.stats import pearsonr\n",
    "import statistics"
   ]
  },
  {
   "cell_type": "code",
   "execution_count": 19,
   "metadata": {},
   "outputs": [
    {
     "data": {
      "text/html": [
       "<div>\n",
       "<style scoped>\n",
       "    .dataframe tbody tr th:only-of-type {\n",
       "        vertical-align: middle;\n",
       "    }\n",
       "\n",
       "    .dataframe tbody tr th {\n",
       "        vertical-align: top;\n",
       "    }\n",
       "\n",
       "    .dataframe thead th {\n",
       "        text-align: right;\n",
       "    }\n",
       "</style>\n",
       "<table border=\"1\" class=\"dataframe\">\n",
       "  <thead>\n",
       "    <tr style=\"text-align: right;\">\n",
       "      <th></th>\n",
       "      <th>Pregnancies</th>\n",
       "      <th>Glucose</th>\n",
       "      <th>BloodPressure</th>\n",
       "      <th>SkinThickness</th>\n",
       "      <th>Insulin</th>\n",
       "      <th>BMI</th>\n",
       "      <th>DiabetesPedigreeFunction</th>\n",
       "      <th>Age</th>\n",
       "      <th>Outcome</th>\n",
       "    </tr>\n",
       "  </thead>\n",
       "  <tbody>\n",
       "    <tr>\n",
       "      <td>0</td>\n",
       "      <td>6</td>\n",
       "      <td>148</td>\n",
       "      <td>72</td>\n",
       "      <td>35</td>\n",
       "      <td>0</td>\n",
       "      <td>33.6</td>\n",
       "      <td>0.627</td>\n",
       "      <td>50</td>\n",
       "      <td>1</td>\n",
       "    </tr>\n",
       "    <tr>\n",
       "      <td>1</td>\n",
       "      <td>1</td>\n",
       "      <td>85</td>\n",
       "      <td>66</td>\n",
       "      <td>29</td>\n",
       "      <td>0</td>\n",
       "      <td>26.6</td>\n",
       "      <td>0.351</td>\n",
       "      <td>31</td>\n",
       "      <td>0</td>\n",
       "    </tr>\n",
       "    <tr>\n",
       "      <td>2</td>\n",
       "      <td>8</td>\n",
       "      <td>183</td>\n",
       "      <td>64</td>\n",
       "      <td>0</td>\n",
       "      <td>0</td>\n",
       "      <td>23.3</td>\n",
       "      <td>0.672</td>\n",
       "      <td>32</td>\n",
       "      <td>1</td>\n",
       "    </tr>\n",
       "    <tr>\n",
       "      <td>3</td>\n",
       "      <td>1</td>\n",
       "      <td>89</td>\n",
       "      <td>66</td>\n",
       "      <td>23</td>\n",
       "      <td>94</td>\n",
       "      <td>28.1</td>\n",
       "      <td>0.167</td>\n",
       "      <td>21</td>\n",
       "      <td>0</td>\n",
       "    </tr>\n",
       "    <tr>\n",
       "      <td>4</td>\n",
       "      <td>0</td>\n",
       "      <td>137</td>\n",
       "      <td>40</td>\n",
       "      <td>35</td>\n",
       "      <td>168</td>\n",
       "      <td>43.1</td>\n",
       "      <td>2.288</td>\n",
       "      <td>33</td>\n",
       "      <td>1</td>\n",
       "    </tr>\n",
       "  </tbody>\n",
       "</table>\n",
       "</div>"
      ],
      "text/plain": [
       "   Pregnancies  Glucose  BloodPressure  SkinThickness  Insulin   BMI  \\\n",
       "0            6      148             72             35        0  33.6   \n",
       "1            1       85             66             29        0  26.6   \n",
       "2            8      183             64              0        0  23.3   \n",
       "3            1       89             66             23       94  28.1   \n",
       "4            0      137             40             35      168  43.1   \n",
       "\n",
       "   DiabetesPedigreeFunction  Age  Outcome  \n",
       "0                     0.627   50        1  \n",
       "1                     0.351   31        0  \n",
       "2                     0.672   32        1  \n",
       "3                     0.167   21        0  \n",
       "4                     2.288   33        1  "
      ]
     },
     "execution_count": 19,
     "metadata": {},
     "output_type": "execute_result"
    }
   ],
   "source": [
    "dataset = pd.read_csv('E:/diabetes.csv')\n",
    "dataset.head()"
   ]
  },
  {
   "cell_type": "code",
   "execution_count": 20,
   "metadata": {},
   "outputs": [],
   "source": [
    "feature_names = ['Glucose', 'BloodPressure', 'SkinThickness', 'Insulin']\n",
    "X = dataset[feature_names]\n",
    "y = dataset.Outcome"
   ]
  },
  {
   "cell_type": "code",
   "execution_count": 21,
   "metadata": {},
   "outputs": [],
   "source": [
    "from sklearn.model_selection import train_test_split\n",
    "X_train,X_test,y_train, y_test=train_test_split(X,y,random_state=0)"
   ]
  },
  {
   "cell_type": "code",
   "execution_count": 22,
   "metadata": {},
   "outputs": [
    {
     "data": {
      "text/plain": [
       "LogisticRegression()"
      ]
     },
     "execution_count": 22,
     "metadata": {},
     "output_type": "execute_result"
    }
   ],
   "source": [
    "from sklearn.linear_model import LinearRegression\n",
    "\n",
    "logreg=LogisticRegression()\n",
    "logreg.fit(X_train,y_train)"
   ]
  },
  {
   "cell_type": "code",
   "execution_count": 23,
   "metadata": {},
   "outputs": [],
   "source": [
    "y_pred_class=logreg.predict(X_test)"
   ]
  },
  {
   "cell_type": "code",
   "execution_count": 24,
   "metadata": {},
   "outputs": [
    {
     "name": "stdout",
     "output_type": "stream",
     "text": [
      "LR Accuracy :  0.7239583333333334\n"
     ]
    }
   ],
   "source": [
    "from sklearn.metrics import accuracy_score\n",
    "\n",
    "ac_lr=accuracy_score(y_test,y_pred_class)\n",
    "print ('LR Accuracy : ', ac_lr)"
   ]
  },
  {
   "cell_type": "code",
   "execution_count": 25,
   "metadata": {},
   "outputs": [],
   "source": [
    "import numpy as np\n",
    "import pandas as pd\n",
    "import matplotlib.pyplot as plt\n",
    "from matplotlib import rcParams\n",
    "from matplotlib.cm import rainbow\n",
    "%matplotlib inline\n",
    "import warnings\n",
    "warnings.filterwarnings('ignore')\n",
    "#import plotly.graph_objs as go\n",
    "#import plotly.tools as tls\n",
    "import os\n",
    "import gc\n",
    "from sklearn.model_selection import train_test_split\n",
    "from sklearn.preprocessing import StandardScaler\n",
    "from sklearn.neighbors import KNeighborsClassifier\n",
    "from sklearn.svm import SVC\n",
    "from sklearn.tree import DecisionTreeClassifier\n",
    "from sklearn.ensemble import RandomForestClassifier\n",
    "import numpy as np\n",
    "import pandas as pd\n",
    "import matplotlib.pyplot as plt\n",
    "from matplotlib import rcParams\n",
    "from matplotlib.cm import rainbow\n",
    "%matplotlib inline\n",
    "import warnings\n",
    "warnings.filterwarnings('ignore')\n",
    "from sklearn.tree import export_graphviz\n",
    "from sklearn.model_selection import train_test_split\n",
    "from sklearn.preprocessing import StandardScaler\n",
    "from sklearn.neighbors import KNeighborsClassifier\n",
    "from sklearn.svm import SVC\n",
    "from sklearn.tree import DecisionTreeClassifier\n",
    "from sklearn.ensemble import RandomForestClassifier\n"
   ]
  },
  {
   "cell_type": "code",
   "execution_count": 29,
   "metadata": {},
   "outputs": [],
   "source": [
    "\n",
    "import time\n",
    "import random\n",
    "import warnings\n",
    "warnings.filterwarnings(\"ignore\")\n",
    "from math import *\n",
    "import operator\n",
    "import pandas as pd\n",
    "import numpy as np\n",
    "pd.set_option(\"display.max_columns\", 10000)\n",
    "import string\n",
    "from pprint import pprint\n",
    "\n",
    "# import plotting libraries\n",
    "import matplotlib\n",
    "import matplotlib.pyplot as plt\n",
    "from pandas.plotting import scatter_matrix\n",
    "from matplotlib import style\n",
    "%matplotlib inline \n",
    "\n",
    "import seaborn as sns\n",
    "sns.set(style=\"white\", color_codes=True)\n",
    "sns.set(font_scale=1.5)\n",
    "\n",
    "# load make_blobs to simulate data\n",
    "from sklearn.datasets import make_blobs\n",
    "from sklearn.datasets import make_classification\n",
    "\n",
    "# import the ML algorithm\n",
    "from sklearn.neighbors import KNeighborsClassifier\n",
    "from sklearn.linear_model import LogisticRegression\n",
    "from sklearn.naive_bayes import GaussianNB\n",
    "from sklearn.naive_bayes import MultinomialNB\n",
    "from sklearn.tree import DecisionTreeClassifier\n",
    "from sklearn.ensemble import RandomForestClassifier\n",
    "from sklearn.ensemble import GradientBoostingClassifier\n",
    "from sklearn.cluster import KMeans\n",
    "import xgboost as xgb\n",
    "from xgboost import XGBClassifier\n",
    "from xgboost import plot_importance\n",
    "from sklearn.svm import SVC\n",
    "from sklearn.model_selection import GridSearchCV\n",
    "import graphviz\n",
    "from IPython.display import display\n",
    "\n",
    "\n",
    "# pre-processing\n",
    "#from sklearn.preprocessing import Imputer\n",
    "from sklearn.feature_selection import SelectKBest\n",
    "from sklearn.feature_selection import RFE\n",
    "from sklearn.feature_selection import RFECV\n",
    "\n",
    "\n",
    "# import libraries for model validation\n",
    "from sklearn.model_selection import cross_val_score\n",
    "from sklearn.model_selection import train_test_split\n",
    "from sklearn.model_selection import KFold \n",
    "\n",
    "# import libraries for metrics and reporting\n",
    "from sklearn.linear_model import LogisticRegression\n",
    "\n",
    "from sklearn.metrics import confusion_matrix\n",
    "from sklearn.metrics import classification_report\n",
    "from sklearn.metrics import accuracy_score\n",
    "from sklearn.metrics import precision_score\n",
    "from sklearn.metrics import recall_score\n",
    "from sklearn.metrics import f1_score\n",
    "from sklearn import metrics\n",
    "from sklearn.metrics import classification_report\n",
    "from sklearn.metrics import roc_curve, auc\n",
    "from sklearn.metrics import adjusted_rand_score\n",
    "from sklearn.model_selection import GridSearchCV\n",
    "from statsmodels.stats.outliers_influence import variance_inflation_factor\n",
    "from scipy.stats import pearsonr\n",
    "import statistics\n"
   ]
  },
  {
   "cell_type": "code",
   "execution_count": 33,
   "metadata": {},
   "outputs": [],
   "source": [
    "import datetime\n",
    "import pandas as pd\n",
    "import seaborn as sns\n",
    "import numpy as np\n",
    "import sklearn\n",
    "from sklearn.model_selection import train_test_split\n",
    "from sklearn.linear_model import LogisticRegression\n",
    "from sklearn.ensemble import RandomForestClassifier\n",
    "from sklearn.dummy import DummyClassifier\n",
    "from sklearn.manifold import TSNE\n",
    "from sklearn.metrics import roc_auc_score\n",
    "from sklearn.metrics import make_scorer\n",
    "from sklearn.metrics import classification_report\n",
    "from sklearn.model_selection import cross_val_score\n",
    "from sklearn.model_selection import RepeatedKFold\n",
    "from sklearn.model_selection import ShuffleSplit\n",
    "from sklearn.model_selection import learning_curve\n",
    "from xgboost import XGBClassifier\n",
    "#import skopt\n",
    "#from skopt import BayesSearchCV\n",
    "\n",
    "from yellowbrick import ROCAUC\n",
    "from yellowbrick.classifier import ConfusionMatrix, ClassificationReport\n",
    "#from eli5 import explain_weights\n",
    "#from eli5.sklearn import PermutationImportance\n",
    "#import eli5\n",
    "#from lime import lime_tabular # via pip install git+https://github.com/marcotcr/lime.git\n",
    "\n",
    "import matplotlib.pyplot as plt\n",
    "import matplotlib as mpl\n",
    "%matplotlib inline"
   ]
  },
  {
   "cell_type": "code",
   "execution_count": 35,
   "metadata": {},
   "outputs": [
    {
     "data": {
      "image/png": "[encoded data removed]",
      "text/plain": [
       "<Figure size 432x288 with 2 Axes>"
      ]
     },
     "metadata": {
      "needs_background": "light"
     },
     "output_type": "display_data"
    }
   ],
   "source": [
    "from sklearn.metrics import classification_report\n",
    "\n",
    "from sklearn.metrics import classification_report\n",
    "\n",
    "fig, ax = plt.subplots()\n",
    "visualizer = ClassificationReport(logreg, classes=[0, 1], ax=ax)\n",
    "ax.grid(False)\n",
    "\n",
    "visualizer.fit(X_train, y_train)  # Fit the training data to the visualizer\n",
    "visualizer.score(X_test, y_test)  # Evaluate the model on the test data\n",
    "g = visualizer.poof() "
   ]
  },
  {
   "cell_type": "code",
   "execution_count": 36,
   "metadata": {},
   "outputs": [],
   "source": [
    "from sklearn.neighbors import KNeighborsClassifier\n",
    "classifier = KNeighborsClassifier(n_neighbors = 5, metric = 'minkowski', p = 2)\n",
    "classifier.fit(X_train, y_train)\n",
    "y_pred = classifier.predict(X_test)"
   ]
  },
  {
   "cell_type": "code",
   "execution_count": 37,
   "metadata": {},
   "outputs": [
    {
     "name": "stdout",
     "output_type": "stream",
     "text": [
      "K_mean Accuracy :  0.7239583333333334\n"
     ]
    }
   ],
   "source": [
    "from sklearn.metrics import accuracy_score\n",
    "\n",
    "ac_kmean= accuracy_score(y_test,y_pred)\n",
    "print ('K_mean Accuracy : ', ac_kmean)"
   ]
  },
  {
   "cell_type": "code",
   "execution_count": 40,
   "metadata": {},
   "outputs": [
    {
     "data": {
      "image/png": "[encoded data removed]",
      "text/plain": [
       "<Figure size 432x288 with 2 Axes>"
      ]
     },
     "metadata": {
      "needs_background": "light"
     },
     "output_type": "display_data"
    }
   ],
   "source": [
    "from sklearn.metrics import classification_report\n",
    "\n",
    "from sklearn.metrics import classification_report\n",
    "\n",
    "fig, ax = plt.subplots()\n",
    "visualizer = ClassificationReport(classifier, classes=[0, 1], ax=ax)\n",
    "ax.grid(False)\n",
    "\n",
    "visualizer.fit(X_train, y_train)  # Fit the training data to the visualizer\n",
    "visualizer.score(X_test, y_test)  # Evaluate the model on the test data\n",
    "g = visualizer.poof() "
   ]
  },
  {
   "cell_type": "code",
   "execution_count": 41,
   "metadata": {},
   "outputs": [
    {
     "data": {
      "text/plain": [
       "DecisionTreeClassifier(criterion='entropy', random_state=0)"
      ]
     },
     "execution_count": 41,
     "metadata": {},
     "output_type": "execute_result"
    }
   ],
   "source": [
    "from sklearn.tree import DecisionTreeClassifier\n",
    "classifierdt = DecisionTreeClassifier(criterion = 'entropy', random_state = 0)\n",
    "classifierdt.fit(X_train, y_train)"
   ]
  },
  {
   "cell_type": "code",
   "execution_count": 42,
   "metadata": {},
   "outputs": [],
   "source": [
    "y_preddt = classifierdt.predict(X_test)"
   ]
  },
  {
   "cell_type": "code",
   "execution_count": 43,
   "metadata": {},
   "outputs": [
    {
     "name": "stdout",
     "output_type": "stream",
     "text": [
      "Decision tree Accuracy :  0.6666666666666666\n"
     ]
    }
   ],
   "source": [
    "from sklearn.metrics import accuracy_score\n",
    "\n",
    "ac_dt= accuracy_score(y_test,y_preddt)\n",
    "print ('Decision tree Accuracy : ', ac_dt)"
   ]
  },
  {
   "cell_type": "code",
   "execution_count": 46,
   "metadata": {},
   "outputs": [
    {
     "data": {
      "image/png": "[encoded data removed]",
      "text/plain": [
       "<Figure size 432x288 with 2 Axes>"
      ]
     },
     "metadata": {
      "needs_background": "light"
     },
     "output_type": "display_data"
    }
   ],
   "source": [
    "from sklearn.metrics import classification_report\n",
    "\n",
    "from sklearn.metrics import classification_report\n",
    "\n",
    "fig, ax = plt.subplots()\n",
    "visualizer = ClassificationReport(classifierdt, classes=[0, 1], ax=ax)\n",
    "ax.grid(False)\n",
    "\n",
    "visualizer.fit(X_train, y_train)  # Fit the training data to the visualizer\n",
    "visualizer.score(X_test, y_test)  # Evaluate the model on the test data\n",
    "g = visualizer.poof() "
   ]
  },
  {
   "cell_type": "code",
   "execution_count": 48,
   "metadata": {},
   "outputs": [
    {
     "data": {
      "text/plain": [
       "RandomForestClassifier(criterion='entropy', n_estimators=10, random_state=0)"
      ]
     },
     "execution_count": 48,
     "metadata": {},
     "output_type": "execute_result"
    }
   ],
   "source": [
    "from sklearn.ensemble import RandomForestClassifier\n",
    "classifierrf = RandomForestClassifier(n_estimators = 10, criterion = 'entropy', random_state = 0)\n",
    "classifierrf.fit(X_train, y_train)"
   ]
  },
  {
   "cell_type": "code",
   "execution_count": 49,
   "metadata": {},
   "outputs": [],
   "source": [
    "y_predrf = classifierrf.predict(X_test)\n"
   ]
  },
  {
   "cell_type": "code",
   "execution_count": 50,
   "metadata": {},
   "outputs": [
    {
     "name": "stdout",
     "output_type": "stream",
     "text": [
      "Random Forest Accuracy :  0.7395833333333334\n"
     ]
    }
   ],
   "source": [
    "from sklearn.metrics import accuracy_score\n",
    "\n",
    "ac_rf= accuracy_score(y_test,y_predrf)\n",
    "print ('Random Forest Accuracy : ', ac_rf)"
   ]
  },
  {
   "cell_type": "code",
   "execution_count": 52,
   "metadata": {},
   "outputs": [
    {
     "data": {
      "image/png": "[encoded data removed]",
      "text/plain": [
       "<Figure size 432x288 with 2 Axes>"
      ]
     },
     "metadata": {
      "needs_background": "light"
     },
     "output_type": "display_data"
    }
   ],
   "source": [
    "from sklearn.metrics import classification_report\n",
    "\n",
    "from sklearn.metrics import classification_report\n",
    "\n",
    "fig, ax = plt.subplots()\n",
    "visualizer = ClassificationReport(classifierrf, classes=[0, 1], ax=ax)\n",
    "ax.grid(False)\n",
    "\n",
    "visualizer.fit(X_train, y_train)  # Fit the training data to the visualizer\n",
    "visualizer.score(X_test, y_test)  # Evaluate the model on the test data\n",
    "g = visualizer.poof() "
   ]
  },
  {
   "cell_type": "code",
   "execution_count": 53,
   "metadata": {},
   "outputs": [
    {
     "data": {
      "text/plain": [
       "SVC(kernel='linear', random_state=0)"
      ]
     },
     "execution_count": 53,
     "metadata": {},
     "output_type": "execute_result"
    }
   ],
   "source": [
    "from sklearn.svm import SVC\n",
    "classifiersv = SVC(kernel = 'linear', random_state = 0)\n",
    "classifiersv.fit(X_train, y_train)\n"
   ]
  },
  {
   "cell_type": "code",
   "execution_count": 54,
   "metadata": {},
   "outputs": [],
   "source": [
    "y_predsv = classifiersv.predict(X_test)\n"
   ]
  },
  {
   "cell_type": "code",
   "execution_count": 55,
   "metadata": {},
   "outputs": [
    {
     "name": "stdout",
     "output_type": "stream",
     "text": [
      "SVM Accuracy :  0.734375\n"
     ]
    }
   ],
   "source": [
    "from sklearn.metrics import accuracy_score\n",
    "\n",
    "ac_svm= accuracy_score(y_test,y_predsv)\n",
    "print ('SVM Accuracy : ', ac_svm)"
   ]
  },
  {
   "cell_type": "code",
   "execution_count": 57,
   "metadata": {},
   "outputs": [
    {
     "data": {
      "image/png": "[encoded data removed]",
      "text/plain": [
       "<Figure size 432x288 with 2 Axes>"
      ]
     },
     "metadata": {
      "needs_background": "light"
     },
     "output_type": "display_data"
    }
   ],
   "source": [
    "from sklearn.metrics import classification_report\n",
    "\n",
    "from sklearn.metrics import classification_report\n",
    "\n",
    "fig, ax = plt.subplots()\n",
    "visualizer = ClassificationReport(classifiersv, classes=[0, 1], ax=ax)\n",
    "ax.grid(False)\n",
    "\n",
    "visualizer.fit(X_train, y_train)  # Fit the training data to the visualizer\n",
    "visualizer.score(X_test, y_test)  # Evaluate the model on the test data\n",
    "g = visualizer.poof() "
   ]
  },
  {
   "cell_type": "code",
   "execution_count": 58,
   "metadata": {},
   "outputs": [
    {
     "data": {
      "text/plain": [
       "XGBClassifier(base_score=0.5, booster='gbtree', colsample_bylevel=1,\n",
       "              colsample_bynode=1, colsample_bytree=1, gamma=0, gpu_id=-1,\n",
       "              importance_type='gain', interaction_constraints='',\n",
       "              learning_rate=0.300000012, max_delta_step=0, max_depth=6,\n",
       "              min_child_weight=1, missing=nan, monotone_constraints='()',\n",
       "              n_estimators=100, n_jobs=0, num_parallel_tree=1, random_state=0,\n",
       "              reg_alpha=0, reg_lambda=1, scale_pos_weight=1, subsample=1,\n",
       "              tree_method='exact', validate_parameters=1, verbosity=None)"
      ]
     },
     "execution_count": 58,
     "metadata": {},
     "output_type": "execute_result"
    }
   ],
   "source": [
    "from xgboost import XGBClassifier\n",
    "\n",
    "# fit model to training data\n",
    "xgb_model = XGBClassifier(random_state = 0 )\n",
    "xgb_model.fit(X_train, y_train)"
   ]
  },
  {
   "cell_type": "code",
   "execution_count": 59,
   "metadata": {},
   "outputs": [
    {
     "name": "stdout",
     "output_type": "stream",
     "text": [
      "XGB Baseline Model Accuracy: 0.6822916666666666\n",
      "XGB Baseline Model F1 Score: 0.48739495798319327\n"
     ]
    }
   ],
   "source": [
    "y_predxgb = xgb_model.predict(X_test)\n",
    "\n",
    "xgb_ac = accuracy_score(y_test, y_predxgb)\n",
    "xgb_fscore = f1_score(y_test ,y_predxgb)\n",
    "\n",
    "print(\"XGB Baseline Model Accuracy:\", xgb_ac)\n",
    "print(\"XGB Baseline Model F1 Score:\", xgb_fscore)"
   ]
  },
  {
   "cell_type": "code",
   "execution_count": 60,
   "metadata": {},
   "outputs": [
    {
     "data": {
      "text/plain": [
       "GradientBoostingClassifier()"
      ]
     },
     "execution_count": 60,
     "metadata": {},
     "output_type": "execute_result"
    }
   ],
   "source": [
    "from sklearn.datasets import make_classification\n",
    "from sklearn.ensemble import GradientBoostingClassifier\n",
    "# define the model\n",
    "model = GradientBoostingClassifier()\n",
    "# fit the model on the whole dataset\n",
    "model.fit(X, y)\n"
   ]
  },
  {
   "cell_type": "code",
   "execution_count": 62,
   "metadata": {},
   "outputs": [
    {
     "name": "stdout",
     "output_type": "stream",
     "text": [
      "gradiant boost Accuracy :  0.8385416666666666\n"
     ]
    }
   ],
   "source": [
    "y_predgbm = model.predict(X_test)\n",
    "\n",
    "from sklearn.metrics import accuracy_score\n",
    "\n",
    "ac_gbm= accuracy_score(y_test,y_predgbm)\n",
    "print ('gradiant boost Accuracy : ', ac_gbm)"
   ]
  },
  {
   "cell_type": "code",
   "execution_count": 63,
   "metadata": {},
   "outputs": [
    {
     "data": {
      "image/png": "[encoded data removed]",
      "text/plain": [
       "<Figure size 432x288 with 2 Axes>"
      ]
     },
     "metadata": {
      "needs_background": "light"
     },
     "output_type": "display_data"
    }
   ],
   "source": [
    "from sklearn.metrics import classification_report\n",
    "\n",
    "from sklearn.metrics import classification_report\n",
    "\n",
    "fig, ax = plt.subplots()\n",
    "visualizer = ClassificationReport(model, classes=[0, 1], ax=ax)\n",
    "ax.grid(False)\n",
    "\n",
    "visualizer.fit(X_train, y_train)  # Fit the training data to the visualizer\n",
    "visualizer.score(X_test, y_test)  # Evaluate the model on the test data\n",
    "g = visualizer.poof() "
   ]
  },
  {
   "cell_type": "code",
   "execution_count": 76,
   "metadata": {},
   "outputs": [
    {
     "name": "stdout",
     "output_type": "stream",
     "text": [
      "[[113  17]\n",
      " [ 31  31]]\n"
     ]
    }
   ],
   "source": [
    "#confusion matrix for LR\n",
    "print (metrics.confusion_matrix(y_test,y_pred_class))"
   ]
  },
  {
   "cell_type": "code",
   "execution_count": 77,
   "metadata": {},
   "outputs": [
    {
     "name": "stdout",
     "output_type": "stream",
     "text": [
      "[[107  23]\n",
      " [ 30  32]]\n"
     ]
    }
   ],
   "source": [
    "#confusion matrix for K_mean\n",
    "print (metrics.confusion_matrix(y_test,y_pred))"
   ]
  },
  {
   "cell_type": "code",
   "execution_count": 78,
   "metadata": {},
   "outputs": [
    {
     "name": "stdout",
     "output_type": "stream",
     "text": [
      "[[89 41]\n",
      " [23 39]]\n"
     ]
    }
   ],
   "source": [
    "# confusion matrix for Decision Tree\n",
    "print (metrics.confusion_matrix(y_test,y_preddt))\n"
   ]
  },
  {
   "cell_type": "code",
   "execution_count": 79,
   "metadata": {},
   "outputs": [
    {
     "name": "stdout",
     "output_type": "stream",
     "text": [
      "[[109  21]\n",
      " [ 29  33]]\n"
     ]
    }
   ],
   "source": [
    "# confusion matrix for Random forest\n",
    "print (metrics.confusion_matrix(y_test,y_predrf))\n"
   ]
  },
  {
   "cell_type": "code",
   "execution_count": 80,
   "metadata": {},
   "outputs": [
    {
     "name": "stdout",
     "output_type": "stream",
     "text": [
      "[[113  17]\n",
      " [ 34  28]]\n"
     ]
    }
   ],
   "source": [
    "# confusion matrix for SVM\n",
    "print (metrics.confusion_matrix(y_test,y_predsv))\n"
   ]
  },
  {
   "cell_type": "code",
   "execution_count": 81,
   "metadata": {},
   "outputs": [
    {
     "name": "stdout",
     "output_type": "stream",
     "text": [
      "[[102  28]\n",
      " [ 33  29]]\n"
     ]
    }
   ],
   "source": [
    "# confusion matrix for XGBOOST\n",
    "print (metrics.confusion_matrix(y_test,y_predxgb))\n"
   ]
  },
  {
   "cell_type": "code",
   "execution_count": 82,
   "metadata": {},
   "outputs": [
    {
     "name": "stdout",
     "output_type": "stream",
     "text": [
      "[[122   8]\n",
      " [ 23  39]]\n"
     ]
    }
   ],
   "source": [
    "# confusion matrix for Gradiant Boost Model\n",
    "print (metrics.confusion_matrix(y_test,y_predgbm))\n"
   ]
  },
  {
   "cell_type": "code",
   "execution_count": 83,
   "metadata": {},
   "outputs": [
    {
     "name": "stdout",
     "output_type": "stream",
     "text": [
      "True [1 0 0 1 0 0 1 1 0 0 1 1 0 0 0 0 1 0 0 0 1 1 0 0 0]\n",
      "pred [1 0 0 1 0 0 1 1 0 0 1 1 0 0 0 0 1 0 0 0 1 0 0 0 0]\n"
     ]
    }
   ],
   "source": [
    "# printing the first 25 actual and predicted responses in LR\n",
    "print ('True',y_test.values[0:25])\n",
    "print ('pred',y_pred_class[0:25])\n"
   ]
  },
  {
   "cell_type": "code",
   "execution_count": 84,
   "metadata": {},
   "outputs": [
    {
     "name": "stdout",
     "output_type": "stream",
     "text": [
      "True [1 0 0 1 0 0 1 1 0 0 1 1 0 0 0 0 1 0 0 0 1 1 0 0 0]\n",
      "pred [1 0 0 1 0 0 1 1 0 0 0 1 0 0 0 0 1 0 0 0 0 1 0 0 0]\n"
     ]
    }
   ],
   "source": [
    "# printing the first 25 actual and predicted responses in Kmean\n",
    "print ('True',y_test.values[0:25])\n",
    "print ('pred',y_pred[0:25])\n"
   ]
  },
  {
   "cell_type": "code",
   "execution_count": 85,
   "metadata": {},
   "outputs": [
    {
     "name": "stdout",
     "output_type": "stream",
     "text": [
      "True [1 0 0 1 0 0 1 1 0 0 1 1 0 0 0 0 1 0 0 0 1 1 0 0 0]\n",
      "pred [1 1 0 1 0 0 1 1 0 1 1 1 1 0 0 0 1 0 0 0 1 0 1 1 0]\n"
     ]
    }
   ],
   "source": [
    "# printing the first 25 actual and predicted responses in DT\n",
    "print ('True',y_test.values[0:25])\n",
    "print ('pred',y_preddt[0:25])\n"
   ]
  },
  {
   "cell_type": "code",
   "execution_count": 86,
   "metadata": {},
   "outputs": [
    {
     "name": "stdout",
     "output_type": "stream",
     "text": [
      "True [1 0 0 1 0 0 1 1 0 0 1 1 0 0 0 0 1 0 0 0 1 1 0 0 0]\n",
      "pred [1 0 0 0 0 0 1 1 0 0 0 1 0 0 0 0 1 0 0 0 0 0 0 0 0]\n"
     ]
    }
   ],
   "source": [
    "# printing the first 25 actual and predicted responses in RF\n",
    "print ('True',y_test.values[0:25])\n",
    "print ('pred',y_predrf[0:25])\n"
   ]
  },
  {
   "cell_type": "code",
   "execution_count": 87,
   "metadata": {},
   "outputs": [
    {
     "name": "stdout",
     "output_type": "stream",
     "text": [
      "True [1 0 0 1 0 0 1 1 0 0 1 1 0 0 0 0 1 0 0 0 1 1 0 0 0]\n",
      "pred [1 0 0 1 0 0 1 1 0 0 1 1 0 0 0 0 1 0 0 0 1 0 0 0 0]\n"
     ]
    }
   ],
   "source": [
    "# printing the first 25 actual and predicted responses in SVM\n",
    "print ('True',y_test.values[0:25])\n",
    "print ('pred',y_predsv[0:25])\n"
   ]
  },
  {
   "cell_type": "code",
   "execution_count": 88,
   "metadata": {},
   "outputs": [
    {
     "name": "stdout",
     "output_type": "stream",
     "text": [
      "True [1 0 0 1 0 0 1 1 0 0 1 1 0 0 0 0 1 0 0 0 1 1 0 0 0]\n",
      "pred [1 0 0 0 0 0 0 1 0 0 1 1 0 0 0 0 1 0 0 0 0 0 0 0 0]\n"
     ]
    }
   ],
   "source": [
    "# printing the first 25 actual and predicted responses in XGBOOST\n",
    "print ('True',y_test.values[0:25])\n",
    "print ('pred',y_predxgb[0:25])\n"
   ]
  },
  {
   "cell_type": "code",
   "execution_count": 89,
   "metadata": {},
   "outputs": [
    {
     "name": "stdout",
     "output_type": "stream",
     "text": [
      "True [1 0 0 1 0 0 1 1 0 0 1 1 0 0 0 0 1 0 0 0 1 1 0 0 0]\n",
      "pred [1 0 0 1 0 0 1 1 0 0 1 1 0 0 0 0 1 0 0 0 1 0 0 0 0]\n"
     ]
    }
   ],
   "source": [
    "# printing the first 25 actual and predicted responses in GBM\n",
    "print ('True',y_test.values[0:25])\n",
    "print ('pred',y_predgbm[0:25])\n"
   ]
  },
  {
   "cell_type": "code",
   "execution_count": 90,
   "metadata": {},
   "outputs": [
    {
     "name": "stdout",
     "output_type": "stream",
     "text": [
      "0.5\n",
      "LR Sensitivity: 0.5\n"
     ]
    }
   ],
   "source": [
    "#save confusion matrix and slice into four pieces in LR\n",
    "from sklearn.metrics import confusion_matrix\n",
    "\n",
    "confusionlr=metrics.confusion_matrix(y_test,y_pred_class)\n",
    "TP=confusionlr[1,1]\n",
    "TN=confusionlr[0,0]\n",
    "FP=confusionlr[0,1]\n",
    "FN=confusionlr[1,0]\n",
    "# Sensitivity\n",
    "print(TP / float(TP + FN))\n",
    "print('LR Sensitivity:',metrics.recall_score(y_test, y_pred_class))"
   ]
  },
  {
   "cell_type": "code",
   "execution_count": 91,
   "metadata": {},
   "outputs": [
    {
     "name": "stdout",
     "output_type": "stream",
     "text": [
      "0.5161290322580645\n",
      "Kmeans Sensitivity: 0.5161290322580645\n"
     ]
    }
   ],
   "source": [
    "#save confusion matrix and slice into four pieces in Kmeans\n",
    "from sklearn.metrics import confusion_matrix\n",
    "\n",
    "confusionkm=metrics.confusion_matrix(y_test,y_pred)\n",
    "TP1=confusionkm[1,1]\n",
    "TN1=confusionkm[0,0]\n",
    "FP1=confusionkm[0,1]\n",
    "FN1=confusionkm[1,0]\n",
    "# Sensitivity\n",
    "print(TP1 / float(TP1 + FN1))\n",
    "print('Kmeans Sensitivity:',metrics.recall_score(y_test, y_pred))"
   ]
  },
  {
   "cell_type": "code",
   "execution_count": 92,
   "metadata": {},
   "outputs": [
    {
     "name": "stdout",
     "output_type": "stream",
     "text": [
      "0.6290322580645161\n",
      "DT Sensitivity: 0.6290322580645161\n"
     ]
    }
   ],
   "source": [
    "#save confusion matrix and slice into four pieces in DT\n",
    "from sklearn.metrics import confusion_matrix\n",
    "\n",
    "confusiondt=metrics.confusion_matrix(y_test,y_preddt)\n",
    "TP2=confusiondt[1,1]\n",
    "TN2=confusiondt[0,0]\n",
    "FP2=confusiondt[0,1]\n",
    "FN2=confusiondt[1,0]\n",
    "# Sensitivity\n",
    "print(TP2 / float(TP2 + FN2))\n",
    "print('DT Sensitivity:',metrics.recall_score(y_test, y_preddt))"
   ]
  },
  {
   "cell_type": "code",
   "execution_count": 93,
   "metadata": {},
   "outputs": [
    {
     "name": "stdout",
     "output_type": "stream",
     "text": [
      "0.532258064516129\n",
      "RF Sensitivity: 0.532258064516129\n"
     ]
    }
   ],
   "source": [
    "#save confusion matrix and slice into four pieces in RF\n",
    "from sklearn.metrics import confusion_matrix\n",
    "\n",
    "confusionrf=metrics.confusion_matrix(y_test,y_predrf)\n",
    "TP3=confusionrf[1,1]\n",
    "TN3=confusionrf[0,0]\n",
    "FP3=confusionrf[0,1]\n",
    "FN3=confusionrf[1,0]\n",
    "# Sensitivity\n",
    "print(TP3 / float(TP3 + FN3))\n",
    "print('RF Sensitivity:',metrics.recall_score(y_test, y_predrf))"
   ]
  },
  {
   "cell_type": "code",
   "execution_count": 94,
   "metadata": {},
   "outputs": [
    {
     "name": "stdout",
     "output_type": "stream",
     "text": [
      "0.45161290322580644\n",
      "SVM Sensitivity: 0.45161290322580644\n"
     ]
    }
   ],
   "source": [
    "#save confusion matrix and slice into four pieces in SVM\n",
    "from sklearn.metrics import confusion_matrix\n",
    "\n",
    "confusionsv=metrics.confusion_matrix(y_test,y_predsv)\n",
    "TP4=confusionsv[1,1]\n",
    "TN4=confusionsv[0,0]\n",
    "FP4=confusionsv[0,1]\n",
    "FN4=confusionsv[1,0]\n",
    "# Sensitivity\n",
    "print(TP4 / float(TP4 + FN4))\n",
    "print('SVM Sensitivity:',metrics.recall_score(y_test, y_predsv))"
   ]
  },
  {
   "cell_type": "code",
   "execution_count": 95,
   "metadata": {},
   "outputs": [
    {
     "name": "stdout",
     "output_type": "stream",
     "text": [
      "0.46774193548387094\n",
      "XGB Sensitivity: 0.46774193548387094\n"
     ]
    }
   ],
   "source": [
    "#save confusion matrix and slice into four pieces in XGBOOST\n",
    "from sklearn.metrics import confusion_matrix\n",
    "\n",
    "confusionxgb=metrics.confusion_matrix(y_test,y_predxgb)\n",
    "TP5=confusionxgb[1,1]\n",
    "TN5=confusionxgb[0,0]\n",
    "FP5=confusionxgb[0,1]\n",
    "FN5=confusionxgb[1,0]\n",
    "# Sensitivity\n",
    "print(TP5 / float(TP5 + FN5))\n",
    "print('XGB Sensitivity:',metrics.recall_score(y_test, y_predxgb))"
   ]
  },
  {
   "cell_type": "code",
   "execution_count": 20,
   "metadata": {},
   "outputs": [
    {
     "name": "stdout",
     "output_type": "stream",
     "text": [
      "0.6290322580645161\n"
     ]
    },
    {
     "ename": "NameError",
     "evalue": "name 'matrics' is not defined",
     "output_type": "error",
     "traceback": [
      "\u001b[1;31m---------------------------------------------------------------------------\u001b[0m",
      "\u001b[1;31mNameError\u001b[0m                                 Traceback (most recent call last)",
      "\u001b[1;32m<ipython-input-20-f6477e90452e>\u001b[0m in \u001b[0;36m<module>\u001b[1;34m\u001b[0m\n\u001b[0;32m     25\u001b[0m \u001b[1;31m# Sensitivity\u001b[0m\u001b[1;33m\u001b[0m\u001b[1;33m\u001b[0m\u001b[1;33m\u001b[0m\u001b[0m\n\u001b[0;32m     26\u001b[0m \u001b[0mprint\u001b[0m\u001b[1;33m(\u001b[0m\u001b[0mTP6\u001b[0m \u001b[1;33m/\u001b[0m \u001b[0mfloat\u001b[0m\u001b[1;33m(\u001b[0m\u001b[0mTP6\u001b[0m \u001b[1;33m+\u001b[0m \u001b[0mFN6\u001b[0m\u001b[1;33m)\u001b[0m\u001b[1;33m)\u001b[0m\u001b[1;33m\u001b[0m\u001b[1;33m\u001b[0m\u001b[0m\n\u001b[1;32m---> 27\u001b[1;33m \u001b[0mprint\u001b[0m\u001b[1;33m(\u001b[0m\u001b[1;34m'LR Sensitivity:'\u001b[0m\u001b[1;33m,\u001b[0m\u001b[0mmatrics\u001b[0m\u001b[1;33m.\u001b[0m\u001b[0mrecall_score\u001b[0m\u001b[1;33m(\u001b[0m\u001b[0my_test\u001b[0m\u001b[1;33m,\u001b[0m \u001b[0my_predgbm\u001b[0m\u001b[1;33m)\u001b[0m\u001b[1;33m)\u001b[0m\u001b[1;33m\u001b[0m\u001b[1;33m\u001b[0m\u001b[0m\n\u001b[0m",
      "\u001b[1;31mNameError\u001b[0m: name 'matrics' is not defined"
     ]
    }
   ],
   "source": [
    "#save confusion matrix and slice into four pieces in GBM\n",
    "#from sklearn.metrics import confusion_matrix\n",
    "import pandas as pd\n",
    "\n",
    "from sklearn.model_selection import train_test_split\n",
    "dataset = pd.read_csv('E:/diabetes.csv')\n",
    "feature_names = ['Glucose', 'BloodPressure', 'SkinThickness', 'Insulin']\n",
    "\n",
    "X = dataset[feature_names]\n",
    "y = dataset.Outcome\n",
    "X_train,X_test,y_train, y_test=train_test_split(X,y,random_state=0)\n",
    "import sklearn.metrics as metrics\n",
    "from sklearn.datasets import make_classification\n",
    "from sklearn.ensemble import GradientBoostingClassifier\n",
    "# define the model\n",
    "model = GradientBoostingClassifier()\n",
    "# fit the model on the whole dataset\n",
    "model.fit(X, y)\n",
    "y_predgbm = model.predict(X_test)\n",
    "confusiongbm=metrics.confusion_matrix(y_test,y_predgbm)\n",
    "TP6=confusiongbm[1,1]\n",
    "TN6=confusiongbm[0,0]\n",
    "FP6=confusiongbm[0,1]\n",
    "FN6=confusiongbm[1,0]\n",
    "# Sensitivity\n",
    "print(TP6 / float(TP6 + FN6))\n",
    "print('LR Sensitivity:',matrics.recall_score(y_test, y_predgbm))"
   ]
  },
  {
   "cell_type": "markdown",
   "metadata": {},
   "source": [
    "# Specificity: When the actual value is negative, how often is the prediction correct?\n",
    "\n",
    "How \"specific\" (or \"selective\") is the classifier in predicting positive instances?"
   ]
  },
  {
   "cell_type": "code",
   "execution_count": 97,
   "metadata": {},
   "outputs": [
    {
     "name": "stdout",
     "output_type": "stream",
     "text": [
      "LR SPECIFITY: 0.8692307692307693\n"
     ]
    }
   ],
   "source": [
    "print('LR SPECIFITY:',TN / float(TN + FP))\n"
   ]
  },
  {
   "cell_type": "code",
   "execution_count": 98,
   "metadata": {},
   "outputs": [
    {
     "name": "stdout",
     "output_type": "stream",
     "text": [
      "Kmean SPECIFITY: 0.823076923076923\n"
     ]
    }
   ],
   "source": [
    "print('Kmean SPECIFITY:',TN1 / float(TN1 + FP1))\n"
   ]
  },
  {
   "cell_type": "code",
   "execution_count": 99,
   "metadata": {},
   "outputs": [
    {
     "name": "stdout",
     "output_type": "stream",
     "text": [
      "DT SPECIFITY: 0.6846153846153846\n"
     ]
    }
   ],
   "source": [
    "print('DT SPECIFITY:',TN2 / float(TN2 + FP2))\n"
   ]
  },
  {
   "cell_type": "code",
   "execution_count": 100,
   "metadata": {},
   "outputs": [
    {
     "name": "stdout",
     "output_type": "stream",
     "text": [
      "RF SPECIFITY: 0.8384615384615385\n"
     ]
    }
   ],
   "source": [
    "print('RF SPECIFITY:',TN3 / float(TN3 + FP3))\n"
   ]
  },
  {
   "cell_type": "code",
   "execution_count": 101,
   "metadata": {},
   "outputs": [
    {
     "name": "stdout",
     "output_type": "stream",
     "text": [
      "SVM SPECIFITY: 0.8692307692307693\n"
     ]
    }
   ],
   "source": [
    "print('SVM SPECIFITY:',TN4 / float(TN4 + FP4))\n"
   ]
  },
  {
   "cell_type": "code",
   "execution_count": 102,
   "metadata": {},
   "outputs": [
    {
     "name": "stdout",
     "output_type": "stream",
     "text": [
      "XGBOOST SPECIFITY: 0.7846153846153846\n"
     ]
    }
   ],
   "source": [
    "print('XGBOOST SPECIFITY:',TN5 / float(TN5 + FP5))\n"
   ]
  },
  {
   "cell_type": "code",
   "execution_count": 103,
   "metadata": {},
   "outputs": [
    {
     "name": "stdout",
     "output_type": "stream",
     "text": [
      "GBM SPECIFITY: 0.9384615384615385\n"
     ]
    }
   ],
   "source": [
    "print('GBM SPECIFITY:',TN6 / float(TN6 + FP6))\n"
   ]
  },
  {
   "cell_type": "markdown",
   "metadata": {},
   "source": [
    "# Adjusting the classification threshold¶\n"
   ]
  },
  {
   "cell_type": "code",
   "execution_count": 105,
   "metadata": {},
   "outputs": [
    {
     "data": {
      "text/plain": [
       "array([1, 0, 0, 1, 0, 0, 1, 1, 0, 0], dtype=int64)"
      ]
     },
     "execution_count": 105,
     "metadata": {},
     "output_type": "execute_result"
    }
   ],
   "source": [
    "# print the first 10 predicted responses\n",
    "logreg.predict(X_test)[0:10]"
   ]
  },
  {
   "cell_type": "code",
   "execution_count": 106,
   "metadata": {},
   "outputs": [
    {
     "data": {
      "text/plain": [
       "array([1, 1, 0, 1, 0, 0, 1, 1, 0, 1], dtype=int64)"
      ]
     },
     "execution_count": 106,
     "metadata": {},
     "output_type": "execute_result"
    }
   ],
   "source": [
    "classifier.predict(X_test)[0:10]"
   ]
  },
  {
   "cell_type": "code",
   "execution_count": 107,
   "metadata": {},
   "outputs": [
    {
     "data": {
      "text/plain": [
       "array([1, 1, 0, 1, 0, 0, 1, 1, 0, 1], dtype=int64)"
      ]
     },
     "execution_count": 107,
     "metadata": {},
     "output_type": "execute_result"
    }
   ],
   "source": [
    "classifierdt.predict(X_test)[0:10]"
   ]
  },
  {
   "cell_type": "code",
   "execution_count": 108,
   "metadata": {},
   "outputs": [
    {
     "data": {
      "text/plain": [
       "array([1, 0, 0, 0, 0, 0, 1, 1, 0, 0], dtype=int64)"
      ]
     },
     "execution_count": 108,
     "metadata": {},
     "output_type": "execute_result"
    }
   ],
   "source": [
    "classifierrf.predict(X_test)[0:10]"
   ]
  },
  {
   "cell_type": "code",
   "execution_count": 109,
   "metadata": {},
   "outputs": [
    {
     "data": {
      "text/plain": [
       "array([1, 0, 0, 1, 0, 0, 1, 1, 0, 0], dtype=int64)"
      ]
     },
     "execution_count": 109,
     "metadata": {},
     "output_type": "execute_result"
    }
   ],
   "source": [
    "classifiersv.predict(X_test)[0:10]"
   ]
  },
  {
   "cell_type": "code",
   "execution_count": 110,
   "metadata": {},
   "outputs": [
    {
     "data": {
      "text/plain": [
       "array([1, 0, 0, 0, 0, 0, 0, 1, 0, 0], dtype=int64)"
      ]
     },
     "execution_count": 110,
     "metadata": {},
     "output_type": "execute_result"
    }
   ],
   "source": [
    "xgb_model.predict(X_test)[0:10]"
   ]
  },
  {
   "cell_type": "code",
   "execution_count": 111,
   "metadata": {},
   "outputs": [
    {
     "data": {
      "text/plain": [
       "array([1, 0, 0, 1, 0, 0, 1, 1, 0, 0], dtype=int64)"
      ]
     },
     "execution_count": 111,
     "metadata": {},
     "output_type": "execute_result"
    }
   ],
   "source": [
    "model.predict(X_test)[0:10]"
   ]
  },
  {
   "cell_type": "code",
   "execution_count": 112,
   "metadata": {},
   "outputs": [],
   "source": [
    "# store the predicted probabilities for class 1\n",
    "y_pred_prob = logreg.predict_proba(X_test)[:, 1]"
   ]
  },
  {
   "cell_type": "code",
   "execution_count": 113,
   "metadata": {},
   "outputs": [],
   "source": [
    "# store the predicted probabilities for class 1\n",
    "y_pred_prob1 = classifier.predict_proba(X_test)[:, 1]"
   ]
  },
  {
   "cell_type": "code",
   "execution_count": 114,
   "metadata": {},
   "outputs": [],
   "source": [
    "# store the predicted probabilities for class 1\n",
    "y_pred_prob2 = classifierdt.predict_proba(X_test)[:, 1]"
   ]
  },
  {
   "cell_type": "code",
   "execution_count": 115,
   "metadata": {},
   "outputs": [],
   "source": [
    "# store the predicted probabilities for class 1\n",
    "y_pred_prob3 = classifierrf.predict_proba(X_test)[:, 1]"
   ]
  },
  {
   "cell_type": "code",
   "execution_count": 249,
   "metadata": {},
   "outputs": [],
   "source": [
    "# store the predicted probabilities for class 1\n",
    "y_pred_prob4 = xgb_model.predict_proba(X_test)[:, 1]"
   ]
  },
  {
   "cell_type": "raw",
   "metadata": {},
   "source": [
    "        clf=XGBClassifier(max_depth=10,colsample_bytree=0.8,learning_rate=0.02,n_estimators=500,nthread=-1)\n",
    "clf.fit(X_train,(y_train),eval_metric=\"logloss\",eval_set=[(X_test, y_test)])\n",
    "y_pred_prob5=clf.predict_proba(X_test)     \n",
    "\n",
    "#store the predicted probabilities for class 1\n",
    "#y_pred_prob5 = model.predict_proba(X_test)[:, 1]"
   ]
  },
  {
   "cell_type": "code",
   "execution_count": 250,
   "metadata": {},
   "outputs": [
    {
     "data": {
      "text/plain": [
       "array([0.35863589, 0.35863589, 0.35748989, 0.35863589, 0.35804015,\n",
       "       0.35863589, 0.35863589, 0.35863589, 0.35863589, 0.35863589])"
      ]
     },
     "execution_count": 250,
     "metadata": {},
     "output_type": "execute_result"
    }
   ],
   "source": [
    "from sklearn.calibration import CalibratedClassifierCV\n",
    "svm = SVC()\n",
    "classifiersv = CalibratedClassifierCV(svm)\n",
    "classifiersv.fit(X_train, y_train)\n",
    "CalibratedClassifierCV(base_estimator=SVC(C=1.0, cache_size=200, class_weight=None, coef0=0.0,\n",
    "  decision_function_shape='ovr', degree=3, gamma='auto', kernel='rbf',\n",
    "  max_iter=-1, probability=False, random_state=None, shrinking=True,\n",
    "  tol=0.001, verbose=False),\n",
    "            cv=3, method='sigmoid')\n",
    "classifiersv.predict_proba(X_test)[0:10,1]\n",
    "#classifiersv.predict_proba(X_test)[0:10, 1]\n"
   ]
  },
  {
   "cell_type": "code",
   "execution_count": 202,
   "metadata": {},
   "outputs": [],
   "source": [
    "y_pred_prob6 = classifiersv.predict_proba(X_test)[:, 1]\n"
   ]
  },
  {
   "cell_type": "code",
   "execution_count": 203,
   "metadata": {},
   "outputs": [],
   "source": [
    "# allow plots to appear in the notebook\n",
    "%matplotlib inline\n",
    "import matplotlib.pyplot as plt"
   ]
  },
  {
   "cell_type": "code",
   "execution_count": 204,
   "metadata": {},
   "outputs": [
    {
     "data": {
      "text/plain": [
       "Text(0, 0.5, 'Frequency')"
      ]
     },
     "execution_count": 204,
     "metadata": {},
     "output_type": "execute_result"
    },
    {
     "data": {
      "image/png": "[encoded data removed]",
      "text/plain": [
       "<Figure size 432x288 with 1 Axes>"
      ]
     },
     "metadata": {
      "needs_background": "light"
     },
     "output_type": "display_data"
    }
   ],
   "source": [
    "# histogram of predicted probabilities\n",
    "plt.hist(y_pred_prob, bins=4)\n",
    "plt.xlim(0,0.5)\n",
    "plt.title('Histogram of predicted probabilities')\n",
    "plt.xlabel('Predicted probability of diabetes')\n",
    "plt.ylabel('Frequency')"
   ]
  },
  {
   "cell_type": "code",
   "execution_count": 205,
   "metadata": {},
   "outputs": [
    {
     "data": {
      "text/plain": [
       "Text(0, 0.5, 'Frequency')"
      ]
     },
     "execution_count": 205,
     "metadata": {},
     "output_type": "execute_result"
    },
    {
     "data": {
      "image/png": "[encoded data removed]",
      "text/plain": [
       "<Figure size 432x288 with 1 Axes>"
      ]
     },
     "metadata": {
      "needs_background": "light"
     },
     "output_type": "display_data"
    }
   ],
   "source": [
    "# histogram of predicted probabilities\n",
    "plt.hist(y_pred_prob1, bins=4)\n",
    "plt.xlim(0,2)\n",
    "plt.title('Histogram of predicted probabilities')\n",
    "plt.xlabel('Predicted probability of diabetes')\n",
    "plt.ylabel('Frequency')"
   ]
  },
  {
   "cell_type": "code",
   "execution_count": 206,
   "metadata": {},
   "outputs": [
    {
     "data": {
      "text/plain": [
       "Text(0, 0.5, 'Frequency')"
      ]
     },
     "execution_count": 206,
     "metadata": {},
     "output_type": "execute_result"
    },
    {
     "data": {
      "image/png": "[encoded data removed]",
      "text/plain": [
       "<Figure size 432x288 with 1 Axes>"
      ]
     },
     "metadata": {
      "needs_background": "light"
     },
     "output_type": "display_data"
    }
   ],
   "source": [
    "# histogram of predicted probabilities\n",
    "plt.hist(y_pred_prob2, bins=4)\n",
    "plt.xlim(0,5)\n",
    "plt.title('Histogram of predicted probabilities')\n",
    "plt.xlabel('Predicted probability of diabetes')\n",
    "plt.ylabel('Frequency')"
   ]
  },
  {
   "cell_type": "code",
   "execution_count": 207,
   "metadata": {},
   "outputs": [
    {
     "data": {
      "text/plain": [
       "Text(0, 0.5, 'Frequency')"
      ]
     },
     "execution_count": 207,
     "metadata": {},
     "output_type": "execute_result"
    },
    {
     "data": {
      "image/png": "[encoded data removed]",
      "text/plain": [
       "<Figure size 432x288 with 1 Axes>"
      ]
     },
     "metadata": {
      "needs_background": "light"
     },
     "output_type": "display_data"
    }
   ],
   "source": [
    "# histogram of predicted probabilities\n",
    "plt.hist(y_pred_prob3, bins=4)\n",
    "plt.xlim(0,1)\n",
    "plt.title('Histogram of predicted probabilities')\n",
    "plt.xlabel('Predicted probability of diabetes')\n",
    "plt.ylabel('Frequency')"
   ]
  },
  {
   "cell_type": "code",
   "execution_count": 1,
   "metadata": {},
   "outputs": [
    {
     "ename": "NameError",
     "evalue": "name 'plt' is not defined",
     "output_type": "error",
     "traceback": [
      "\u001b[1;31m---------------------------------------------------------------------------\u001b[0m",
      "\u001b[1;31mNameError\u001b[0m                                 Traceback (most recent call last)",
      "\u001b[1;32m<ipython-input-1-d46c6d84dde6>\u001b[0m in \u001b[0;36m<module>\u001b[1;34m\u001b[0m\n\u001b[0;32m      1\u001b[0m \u001b[1;31m# histogram of predicted probabilities\u001b[0m\u001b[1;33m\u001b[0m\u001b[1;33m\u001b[0m\u001b[1;33m\u001b[0m\u001b[0m\n\u001b[1;32m----> 2\u001b[1;33m \u001b[0mplt\u001b[0m\u001b[1;33m.\u001b[0m\u001b[0mhist\u001b[0m\u001b[1;33m(\u001b[0m\u001b[0my_pred_prob4\u001b[0m\u001b[1;33m,\u001b[0m \u001b[0mbins\u001b[0m\u001b[1;33m=\u001b[0m\u001b[1;36m8\u001b[0m\u001b[1;33m)\u001b[0m\u001b[1;33m\u001b[0m\u001b[1;33m\u001b[0m\u001b[0m\n\u001b[0m\u001b[0;32m      3\u001b[0m \u001b[0mplt\u001b[0m\u001b[1;33m.\u001b[0m\u001b[0mxlim\u001b[0m\u001b[1;33m(\u001b[0m\u001b[1;36m0\u001b[0m\u001b[1;33m,\u001b[0m\u001b[1;36m1\u001b[0m\u001b[1;33m)\u001b[0m\u001b[1;33m\u001b[0m\u001b[1;33m\u001b[0m\u001b[0m\n\u001b[0;32m      4\u001b[0m \u001b[0mplt\u001b[0m\u001b[1;33m.\u001b[0m\u001b[0mtitle\u001b[0m\u001b[1;33m(\u001b[0m\u001b[1;34m'Histogram of predicted probabilities'\u001b[0m\u001b[1;33m)\u001b[0m\u001b[1;33m\u001b[0m\u001b[1;33m\u001b[0m\u001b[0m\n\u001b[0;32m      5\u001b[0m \u001b[0mplt\u001b[0m\u001b[1;33m.\u001b[0m\u001b[0mxlabel\u001b[0m\u001b[1;33m(\u001b[0m\u001b[1;34m'Predicted probability of diabetes'\u001b[0m\u001b[1;33m)\u001b[0m\u001b[1;33m\u001b[0m\u001b[1;33m\u001b[0m\u001b[0m\n",
      "\u001b[1;31mNameError\u001b[0m: name 'plt' is not defined"
     ]
    }
   ],
   "source": [
    "# histogram of predicted probabilities\n",
    "plt.hist(y_pred_prob4, bins=8)\n",
    "plt.xlim(0,1)\n",
    "plt.title('Histogram of predicted probabilities')\n",
    "plt.xlabel('Predicted probability of diabetes')\n",
    "plt.ylabel('Frequency')"
   ]
  },
  {
   "cell_type": "code",
   "execution_count": 4,
   "metadata": {},
   "outputs": [
    {
     "ename": "NameError",
     "evalue": "name 'y_pred_prob6' is not defined",
     "output_type": "error",
     "traceback": [
      "\u001b[1;31m---------------------------------------------------------------------------\u001b[0m",
      "\u001b[1;31mNameError\u001b[0m                                 Traceback (most recent call last)",
      "\u001b[1;32m<ipython-input-4-f01a812e7a9a>\u001b[0m in \u001b[0;36m<module>\u001b[1;34m\u001b[0m\n\u001b[0;32m      1\u001b[0m \u001b[1;31m# histogram of predicted probabilities\u001b[0m\u001b[1;33m\u001b[0m\u001b[1;33m\u001b[0m\u001b[1;33m\u001b[0m\u001b[0m\n\u001b[1;32m----> 2\u001b[1;33m \u001b[0mplt\u001b[0m\u001b[1;33m.\u001b[0m\u001b[0mhist\u001b[0m\u001b[1;33m(\u001b[0m\u001b[0my_pred_prob6\u001b[0m\u001b[1;33m,\u001b[0m \u001b[0mbins\u001b[0m\u001b[1;33m=\u001b[0m\u001b[1;36m8\u001b[0m\u001b[1;33m)\u001b[0m\u001b[1;33m\u001b[0m\u001b[1;33m\u001b[0m\u001b[0m\n\u001b[0m\u001b[0;32m      3\u001b[0m \u001b[0mplt\u001b[0m\u001b[1;33m.\u001b[0m\u001b[0mxlim\u001b[0m\u001b[1;33m(\u001b[0m\u001b[1;36m0\u001b[0m\u001b[1;33m,\u001b[0m\u001b[1;36m1\u001b[0m\u001b[1;33m)\u001b[0m\u001b[1;33m\u001b[0m\u001b[1;33m\u001b[0m\u001b[0m\n\u001b[0;32m      4\u001b[0m \u001b[0mplt\u001b[0m\u001b[1;33m.\u001b[0m\u001b[0mtitle\u001b[0m\u001b[1;33m(\u001b[0m\u001b[1;34m'Histogram of predicted probabilities'\u001b[0m\u001b[1;33m)\u001b[0m\u001b[1;33m\u001b[0m\u001b[1;33m\u001b[0m\u001b[0m\n\u001b[0;32m      5\u001b[0m \u001b[0mplt\u001b[0m\u001b[1;33m.\u001b[0m\u001b[0mxlabel\u001b[0m\u001b[1;33m(\u001b[0m\u001b[1;34m'Predicted probability of diabetes'\u001b[0m\u001b[1;33m)\u001b[0m\u001b[1;33m\u001b[0m\u001b[1;33m\u001b[0m\u001b[0m\n",
      "\u001b[1;31mNameError\u001b[0m: name 'y_pred_prob6' is not defined"
     ]
    }
   ],
   "source": [
    "# histogram of predicted probabilities\n",
    "plt.hist(y_pred_prob6, bins=8)\n",
    "plt.xlim(0,1)\n",
    "plt.title('Histogram of predicted probabilities')\n",
    "plt.xlabel('Predicted probability of diabetes')\n",
    "plt.ylabel('Frequency')"
   ]
  },
  {
   "cell_type": "code",
   "execution_count": 222,
   "metadata": {
    "scrolled": false
   },
   "outputs": [
    {
     "name": "stdout",
     "output_type": "stream",
     "text": [
      "[0]\tvalidation_0-logloss:0.68737\n",
      "[1]\tvalidation_0-logloss:0.68169\n",
      "[2]\tvalidation_0-logloss:0.67616\n",
      "[3]\tvalidation_0-logloss:0.67279\n",
      "[4]\tvalidation_0-logloss:0.66710\n",
      "[5]\tvalidation_0-logloss:0.66174\n",
      "[6]\tvalidation_0-logloss:0.65743\n",
      "[7]\tvalidation_0-logloss:0.65424\n",
      "[8]\tvalidation_0-logloss:0.64935\n",
      "[9]\tvalidation_0-logloss:0.64541\n",
      "[10]\tvalidation_0-logloss:0.64251\n",
      "[11]\tvalidation_0-logloss:0.63836\n",
      "[12]\tvalidation_0-logloss:0.63482\n",
      "[13]\tvalidation_0-logloss:0.63228\n",
      "[14]\tvalidation_0-logloss:0.62815\n",
      "[15]\tvalidation_0-logloss:0.62570\n",
      "[16]\tvalidation_0-logloss:0.62224\n",
      "[17]\tvalidation_0-logloss:0.61857\n",
      "[18]\tvalidation_0-logloss:0.61566\n",
      "[19]\tvalidation_0-logloss:0.61259\n",
      "[20]\tvalidation_0-logloss:0.60994\n",
      "[21]\tvalidation_0-logloss:0.60756\n",
      "[22]\tvalidation_0-logloss:0.60491\n",
      "[23]\tvalidation_0-logloss:0.60274\n",
      "[24]\tvalidation_0-logloss:0.60025\n",
      "[25]\tvalidation_0-logloss:0.59816\n",
      "[26]\tvalidation_0-logloss:0.59576\n",
      "[27]\tvalidation_0-logloss:0.59338\n",
      "[28]\tvalidation_0-logloss:0.59101\n",
      "[29]\tvalidation_0-logloss:0.58903\n",
      "[30]\tvalidation_0-logloss:0.58722\n",
      "[31]\tvalidation_0-logloss:0.58557\n",
      "[32]\tvalidation_0-logloss:0.58330\n",
      "[33]\tvalidation_0-logloss:0.58174\n",
      "[34]\tvalidation_0-logloss:0.58034\n",
      "[35]\tvalidation_0-logloss:0.57856\n",
      "[36]\tvalidation_0-logloss:0.57654\n",
      "[37]\tvalidation_0-logloss:0.57552\n",
      "[38]\tvalidation_0-logloss:0.57372\n",
      "[39]\tvalidation_0-logloss:0.57203\n",
      "[40]\tvalidation_0-logloss:0.57075\n",
      "[41]\tvalidation_0-logloss:0.56957\n",
      "[42]\tvalidation_0-logloss:0.56795\n",
      "[43]\tvalidation_0-logloss:0.56668\n",
      "[44]\tvalidation_0-logloss:0.56541\n",
      "[45]\tvalidation_0-logloss:0.56386\n",
      "[46]\tvalidation_0-logloss:0.56268\n",
      "[47]\tvalidation_0-logloss:0.56117\n",
      "[48]\tvalidation_0-logloss:0.56075\n",
      "[49]\tvalidation_0-logloss:0.55934\n",
      "[50]\tvalidation_0-logloss:0.55800\n",
      "[51]\tvalidation_0-logloss:0.55709\n",
      "[52]\tvalidation_0-logloss:0.55601\n",
      "[53]\tvalidation_0-logloss:0.55575\n",
      "[54]\tvalidation_0-logloss:0.55454\n",
      "[55]\tvalidation_0-logloss:0.55371\n",
      "[56]\tvalidation_0-logloss:0.55248\n",
      "[57]\tvalidation_0-logloss:0.55111\n",
      "[58]\tvalidation_0-logloss:0.55047\n",
      "[59]\tvalidation_0-logloss:0.55039\n",
      "[60]\tvalidation_0-logloss:0.54926\n",
      "[61]\tvalidation_0-logloss:0.54844\n",
      "[62]\tvalidation_0-logloss:0.54766\n",
      "[63]\tvalidation_0-logloss:0.54791\n",
      "[64]\tvalidation_0-logloss:0.54731\n",
      "[65]\tvalidation_0-logloss:0.54726\n",
      "[66]\tvalidation_0-logloss:0.54659\n",
      "[67]\tvalidation_0-logloss:0.54577\n",
      "[68]\tvalidation_0-logloss:0.54561\n",
      "[69]\tvalidation_0-logloss:0.54514\n",
      "[70]\tvalidation_0-logloss:0.54492\n",
      "[71]\tvalidation_0-logloss:0.54451\n",
      "[72]\tvalidation_0-logloss:0.54412\n",
      "[73]\tvalidation_0-logloss:0.54376\n",
      "[74]\tvalidation_0-logloss:0.54371\n",
      "[75]\tvalidation_0-logloss:0.54329\n",
      "[76]\tvalidation_0-logloss:0.54307\n",
      "[77]\tvalidation_0-logloss:0.54226\n",
      "[78]\tvalidation_0-logloss:0.54208\n",
      "[79]\tvalidation_0-logloss:0.54217\n",
      "[80]\tvalidation_0-logloss:0.54222\n",
      "[81]\tvalidation_0-logloss:0.54159\n",
      "[82]\tvalidation_0-logloss:0.54096\n",
      "[83]\tvalidation_0-logloss:0.54090\n",
      "[84]\tvalidation_0-logloss:0.54080\n",
      "[85]\tvalidation_0-logloss:0.54062\n",
      "[86]\tvalidation_0-logloss:0.53985\n",
      "[87]\tvalidation_0-logloss:0.53974\n",
      "[88]\tvalidation_0-logloss:0.53982\n",
      "[89]\tvalidation_0-logloss:0.53969\n",
      "[90]\tvalidation_0-logloss:0.53899\n",
      "[91]\tvalidation_0-logloss:0.53835\n",
      "[92]\tvalidation_0-logloss:0.53838\n",
      "[93]\tvalidation_0-logloss:0.53821\n",
      "[94]\tvalidation_0-logloss:0.53819\n",
      "[95]\tvalidation_0-logloss:0.53758\n",
      "[96]\tvalidation_0-logloss:0.53754\n",
      "[97]\tvalidation_0-logloss:0.53693\n",
      "[98]\tvalidation_0-logloss:0.53709\n",
      "[99]\tvalidation_0-logloss:0.53654\n",
      "[100]\tvalidation_0-logloss:0.53641\n",
      "[101]\tvalidation_0-logloss:0.53593\n",
      "[102]\tvalidation_0-logloss:0.53628\n",
      "[103]\tvalidation_0-logloss:0.53606\n",
      "[104]\tvalidation_0-logloss:0.53586\n",
      "[105]\tvalidation_0-logloss:0.53582\n",
      "[106]\tvalidation_0-logloss:0.53599\n",
      "[107]\tvalidation_0-logloss:0.53581\n",
      "[108]\tvalidation_0-logloss:0.53576\n",
      "[109]\tvalidation_0-logloss:0.53575\n",
      "[110]\tvalidation_0-logloss:0.53563\n",
      "[111]\tvalidation_0-logloss:0.53556\n",
      "[112]\tvalidation_0-logloss:0.53556\n",
      "[113]\tvalidation_0-logloss:0.53562\n",
      "[114]\tvalidation_0-logloss:0.53585\n",
      "[115]\tvalidation_0-logloss:0.53563\n",
      "[116]\tvalidation_0-logloss:0.53582\n",
      "[117]\tvalidation_0-logloss:0.53592\n",
      "[118]\tvalidation_0-logloss:0.53607\n",
      "[119]\tvalidation_0-logloss:0.53656\n",
      "[120]\tvalidation_0-logloss:0.53653\n",
      "[121]\tvalidation_0-logloss:0.53727\n",
      "[122]\tvalidation_0-logloss:0.53726\n",
      "[123]\tvalidation_0-logloss:0.53741\n",
      "[124]\tvalidation_0-logloss:0.53757\n",
      "[125]\tvalidation_0-logloss:0.53774\n",
      "[126]\tvalidation_0-logloss:0.53788\n",
      "[127]\tvalidation_0-logloss:0.53793\n",
      "[128]\tvalidation_0-logloss:0.53822\n",
      "[129]\tvalidation_0-logloss:0.53843\n",
      "[130]\tvalidation_0-logloss:0.53856\n",
      "[131]\tvalidation_0-logloss:0.53895\n",
      "[132]\tvalidation_0-logloss:0.53956\n",
      "[133]\tvalidation_0-logloss:0.54005\n",
      "[134]\tvalidation_0-logloss:0.54024\n",
      "[135]\tvalidation_0-logloss:0.54052\n",
      "[136]\tvalidation_0-logloss:0.54065\n",
      "[137]\tvalidation_0-logloss:0.54098\n",
      "[138]\tvalidation_0-logloss:0.54114\n",
      "[139]\tvalidation_0-logloss:0.54110\n",
      "[140]\tvalidation_0-logloss:0.54162\n",
      "[141]\tvalidation_0-logloss:0.54181\n",
      "[142]\tvalidation_0-logloss:0.54236\n",
      "[143]\tvalidation_0-logloss:0.54269\n",
      "[144]\tvalidation_0-logloss:0.54267\n",
      "[145]\tvalidation_0-logloss:0.54267\n",
      "[146]\tvalidation_0-logloss:0.54283\n",
      "[147]\tvalidation_0-logloss:0.54279\n",
      "[148]\tvalidation_0-logloss:0.54277\n",
      "[149]\tvalidation_0-logloss:0.54294\n",
      "[150]\tvalidation_0-logloss:0.54326\n",
      "[151]\tvalidation_0-logloss:0.54364\n",
      "[152]\tvalidation_0-logloss:0.54411\n",
      "[153]\tvalidation_0-logloss:0.54474\n",
      "[154]\tvalidation_0-logloss:0.54490\n",
      "[155]\tvalidation_0-logloss:0.54511\n",
      "[156]\tvalidation_0-logloss:0.54557\n",
      "[157]\tvalidation_0-logloss:0.54613\n",
      "[158]\tvalidation_0-logloss:0.54655\n",
      "[159]\tvalidation_0-logloss:0.54719\n",
      "[160]\tvalidation_0-logloss:0.54712\n",
      "[161]\tvalidation_0-logloss:0.54719\n",
      "[162]\tvalidation_0-logloss:0.54740\n",
      "[163]\tvalidation_0-logloss:0.54751\n",
      "[164]\tvalidation_0-logloss:0.54809\n",
      "[165]\tvalidation_0-logloss:0.54822\n",
      "[166]\tvalidation_0-logloss:0.54864\n",
      "[167]\tvalidation_0-logloss:0.54888\n",
      "[168]\tvalidation_0-logloss:0.54858\n",
      "[169]\tvalidation_0-logloss:0.54881\n",
      "[170]\tvalidation_0-logloss:0.54888\n",
      "[171]\tvalidation_0-logloss:0.54891\n",
      "[172]\tvalidation_0-logloss:0.54937\n",
      "[173]\tvalidation_0-logloss:0.54931\n",
      "[174]\tvalidation_0-logloss:0.54920\n",
      "[175]\tvalidation_0-logloss:0.54921\n",
      "[176]\tvalidation_0-logloss:0.54915\n",
      "[177]\tvalidation_0-logloss:0.54886\n",
      "[178]\tvalidation_0-logloss:0.54900\n",
      "[179]\tvalidation_0-logloss:0.54896\n",
      "[180]\tvalidation_0-logloss:0.54928\n",
      "[181]\tvalidation_0-logloss:0.54929\n",
      "[182]\tvalidation_0-logloss:0.54903\n",
      "[183]\tvalidation_0-logloss:0.54936\n",
      "[184]\tvalidation_0-logloss:0.55003\n",
      "[185]\tvalidation_0-logloss:0.55053\n",
      "[186]\tvalidation_0-logloss:0.55055\n",
      "[187]\tvalidation_0-logloss:0.55078\n",
      "[188]\tvalidation_0-logloss:0.55113\n",
      "[189]\tvalidation_0-logloss:0.55167\n",
      "[190]\tvalidation_0-logloss:0.55188\n",
      "[191]\tvalidation_0-logloss:0.55148\n",
      "[192]\tvalidation_0-logloss:0.55127\n",
      "[193]\tvalidation_0-logloss:0.55133\n",
      "[194]\tvalidation_0-logloss:0.55120\n",
      "[195]\tvalidation_0-logloss:0.55092\n",
      "[196]\tvalidation_0-logloss:0.55107\n",
      "[197]\tvalidation_0-logloss:0.55155\n",
      "[198]\tvalidation_0-logloss:0.55149\n",
      "[199]\tvalidation_0-logloss:0.55164\n",
      "[200]\tvalidation_0-logloss:0.55217\n",
      "[201]\tvalidation_0-logloss:0.55229\n",
      "[202]\tvalidation_0-logloss:0.55209\n",
      "[203]\tvalidation_0-logloss:0.55234\n",
      "[204]\tvalidation_0-logloss:0.55290\n",
      "[205]\tvalidation_0-logloss:0.55280\n",
      "[206]\tvalidation_0-logloss:0.55268\n",
      "[207]\tvalidation_0-logloss:0.55318\n",
      "[208]\tvalidation_0-logloss:0.55336\n",
      "[209]\tvalidation_0-logloss:0.55370\n",
      "[210]\tvalidation_0-logloss:0.55375\n",
      "[211]\tvalidation_0-logloss:0.55341\n",
      "[212]\tvalidation_0-logloss:0.55366\n",
      "[213]\tvalidation_0-logloss:0.55385\n",
      "[214]\tvalidation_0-logloss:0.55352\n",
      "[215]\tvalidation_0-logloss:0.55406\n",
      "[216]\tvalidation_0-logloss:0.55461\n",
      "[217]\tvalidation_0-logloss:0.55517\n",
      "[218]\tvalidation_0-logloss:0.55574\n",
      "[219]\tvalidation_0-logloss:0.55642\n",
      "[220]\tvalidation_0-logloss:0.55709\n",
      "[221]\tvalidation_0-logloss:0.55762\n",
      "[222]\tvalidation_0-logloss:0.55829\n",
      "[223]\tvalidation_0-logloss:0.55845\n",
      "[224]\tvalidation_0-logloss:0.55917\n",
      "[225]\tvalidation_0-logloss:0.55958\n",
      "[226]\tvalidation_0-logloss:0.55992\n",
      "[227]\tvalidation_0-logloss:0.56008\n",
      "[228]\tvalidation_0-logloss:0.56048\n",
      "[229]\tvalidation_0-logloss:0.56101\n",
      "[230]\tvalidation_0-logloss:0.56158\n",
      "[231]\tvalidation_0-logloss:0.56163\n",
      "[232]\tvalidation_0-logloss:0.56208\n",
      "[233]\tvalidation_0-logloss:0.56252\n",
      "[234]\tvalidation_0-logloss:0.56308\n",
      "[235]\tvalidation_0-logloss:0.56338\n",
      "[236]\tvalidation_0-logloss:0.56360\n",
      "[237]\tvalidation_0-logloss:0.56436\n"
     ]
    },
    {
     "name": "stdout",
     "output_type": "stream",
     "text": [
      "[238]\tvalidation_0-logloss:0.56494\n",
      "[239]\tvalidation_0-logloss:0.56514\n",
      "[240]\tvalidation_0-logloss:0.56520\n",
      "[241]\tvalidation_0-logloss:0.56581\n",
      "[242]\tvalidation_0-logloss:0.56634\n",
      "[243]\tvalidation_0-logloss:0.56672\n",
      "[244]\tvalidation_0-logloss:0.56661\n",
      "[245]\tvalidation_0-logloss:0.56674\n",
      "[246]\tvalidation_0-logloss:0.56683\n",
      "[247]\tvalidation_0-logloss:0.56724\n",
      "[248]\tvalidation_0-logloss:0.56724\n",
      "[249]\tvalidation_0-logloss:0.56766\n",
      "[250]\tvalidation_0-logloss:0.56807\n",
      "[251]\tvalidation_0-logloss:0.56804\n",
      "[252]\tvalidation_0-logloss:0.56861\n",
      "[253]\tvalidation_0-logloss:0.56899\n",
      "[254]\tvalidation_0-logloss:0.56920\n",
      "[255]\tvalidation_0-logloss:0.56919\n",
      "[256]\tvalidation_0-logloss:0.56976\n",
      "[257]\tvalidation_0-logloss:0.56980\n",
      "[258]\tvalidation_0-logloss:0.56993\n",
      "[259]\tvalidation_0-logloss:0.57006\n",
      "[260]\tvalidation_0-logloss:0.57015\n",
      "[261]\tvalidation_0-logloss:0.57029\n",
      "[262]\tvalidation_0-logloss:0.57062\n",
      "[263]\tvalidation_0-logloss:0.57071\n",
      "[264]\tvalidation_0-logloss:0.57088\n",
      "[265]\tvalidation_0-logloss:0.57101\n",
      "[266]\tvalidation_0-logloss:0.57115\n",
      "[267]\tvalidation_0-logloss:0.57140\n",
      "[268]\tvalidation_0-logloss:0.57168\n",
      "[269]\tvalidation_0-logloss:0.57199\n",
      "[270]\tvalidation_0-logloss:0.57222\n",
      "[271]\tvalidation_0-logloss:0.57264\n",
      "[272]\tvalidation_0-logloss:0.57289\n",
      "[273]\tvalidation_0-logloss:0.57297\n",
      "[274]\tvalidation_0-logloss:0.57301\n",
      "[275]\tvalidation_0-logloss:0.57327\n",
      "[276]\tvalidation_0-logloss:0.57365\n",
      "[277]\tvalidation_0-logloss:0.57383\n",
      "[278]\tvalidation_0-logloss:0.57393\n",
      "[279]\tvalidation_0-logloss:0.57442\n",
      "[280]\tvalidation_0-logloss:0.57525\n",
      "[281]\tvalidation_0-logloss:0.57539\n",
      "[282]\tvalidation_0-logloss:0.57549\n",
      "[283]\tvalidation_0-logloss:0.57541\n",
      "[284]\tvalidation_0-logloss:0.57581\n",
      "[285]\tvalidation_0-logloss:0.57590\n",
      "[286]\tvalidation_0-logloss:0.57611\n",
      "[287]\tvalidation_0-logloss:0.57617\n",
      "[288]\tvalidation_0-logloss:0.57688\n",
      "[289]\tvalidation_0-logloss:0.57698\n",
      "[290]\tvalidation_0-logloss:0.57705\n",
      "[291]\tvalidation_0-logloss:0.57706\n",
      "[292]\tvalidation_0-logloss:0.57732\n",
      "[293]\tvalidation_0-logloss:0.57795\n",
      "[294]\tvalidation_0-logloss:0.57792\n",
      "[295]\tvalidation_0-logloss:0.57791\n",
      "[296]\tvalidation_0-logloss:0.57797\n",
      "[297]\tvalidation_0-logloss:0.57846\n",
      "[298]\tvalidation_0-logloss:0.57856\n",
      "[299]\tvalidation_0-logloss:0.57867\n",
      "[300]\tvalidation_0-logloss:0.57933\n",
      "[301]\tvalidation_0-logloss:0.57927\n",
      "[302]\tvalidation_0-logloss:0.58001\n",
      "[303]\tvalidation_0-logloss:0.58001\n",
      "[304]\tvalidation_0-logloss:0.58056\n",
      "[305]\tvalidation_0-logloss:0.58060\n",
      "[306]\tvalidation_0-logloss:0.58064\n",
      "[307]\tvalidation_0-logloss:0.58084\n",
      "[308]\tvalidation_0-logloss:0.58112\n",
      "[309]\tvalidation_0-logloss:0.58164\n",
      "[310]\tvalidation_0-logloss:0.58174\n",
      "[311]\tvalidation_0-logloss:0.58231\n",
      "[312]\tvalidation_0-logloss:0.58286\n",
      "[313]\tvalidation_0-logloss:0.58291\n",
      "[314]\tvalidation_0-logloss:0.58295\n",
      "[315]\tvalidation_0-logloss:0.58311\n",
      "[316]\tvalidation_0-logloss:0.58342\n",
      "[317]\tvalidation_0-logloss:0.58369\n",
      "[318]\tvalidation_0-logloss:0.58420\n",
      "[319]\tvalidation_0-logloss:0.58449\n",
      "[320]\tvalidation_0-logloss:0.58524\n",
      "[321]\tvalidation_0-logloss:0.58536\n",
      "[322]\tvalidation_0-logloss:0.58590\n",
      "[323]\tvalidation_0-logloss:0.58602\n",
      "[324]\tvalidation_0-logloss:0.58628\n",
      "[325]\tvalidation_0-logloss:0.58658\n",
      "[326]\tvalidation_0-logloss:0.58691\n",
      "[327]\tvalidation_0-logloss:0.58704\n",
      "[328]\tvalidation_0-logloss:0.58733\n",
      "[329]\tvalidation_0-logloss:0.58742\n",
      "[330]\tvalidation_0-logloss:0.58778\n",
      "[331]\tvalidation_0-logloss:0.58829\n",
      "[332]\tvalidation_0-logloss:0.58865\n",
      "[333]\tvalidation_0-logloss:0.58879\n",
      "[334]\tvalidation_0-logloss:0.58932\n",
      "[335]\tvalidation_0-logloss:0.58953\n",
      "[336]\tvalidation_0-logloss:0.58967\n",
      "[337]\tvalidation_0-logloss:0.59008\n",
      "[338]\tvalidation_0-logloss:0.59017\n",
      "[339]\tvalidation_0-logloss:0.59045\n",
      "[340]\tvalidation_0-logloss:0.59062\n",
      "[341]\tvalidation_0-logloss:0.59078\n",
      "[342]\tvalidation_0-logloss:0.59095\n",
      "[343]\tvalidation_0-logloss:0.59147\n",
      "[344]\tvalidation_0-logloss:0.59177\n",
      "[345]\tvalidation_0-logloss:0.59187\n",
      "[346]\tvalidation_0-logloss:0.59248\n",
      "[347]\tvalidation_0-logloss:0.59252\n",
      "[348]\tvalidation_0-logloss:0.59332\n",
      "[349]\tvalidation_0-logloss:0.59376\n",
      "[350]\tvalidation_0-logloss:0.59393\n",
      "[351]\tvalidation_0-logloss:0.59417\n",
      "[352]\tvalidation_0-logloss:0.59493\n",
      "[353]\tvalidation_0-logloss:0.59507\n",
      "[354]\tvalidation_0-logloss:0.59522\n",
      "[355]\tvalidation_0-logloss:0.59555\n",
      "[356]\tvalidation_0-logloss:0.59591\n",
      "[357]\tvalidation_0-logloss:0.59623\n",
      "[358]\tvalidation_0-logloss:0.59626\n",
      "[359]\tvalidation_0-logloss:0.59639\n",
      "[360]\tvalidation_0-logloss:0.59664\n",
      "[361]\tvalidation_0-logloss:0.59714\n",
      "[362]\tvalidation_0-logloss:0.59735\n",
      "[363]\tvalidation_0-logloss:0.59756\n",
      "[364]\tvalidation_0-logloss:0.59787\n",
      "[365]\tvalidation_0-logloss:0.59808\n",
      "[366]\tvalidation_0-logloss:0.59821\n",
      "[367]\tvalidation_0-logloss:0.59825\n",
      "[368]\tvalidation_0-logloss:0.59843\n",
      "[369]\tvalidation_0-logloss:0.59873\n",
      "[370]\tvalidation_0-logloss:0.59890\n",
      "[371]\tvalidation_0-logloss:0.59897\n",
      "[372]\tvalidation_0-logloss:0.59927\n",
      "[373]\tvalidation_0-logloss:0.59981\n",
      "[374]\tvalidation_0-logloss:0.60001\n",
      "[375]\tvalidation_0-logloss:0.60035\n",
      "[376]\tvalidation_0-logloss:0.60065\n",
      "[377]\tvalidation_0-logloss:0.60121\n",
      "[378]\tvalidation_0-logloss:0.60145\n",
      "[379]\tvalidation_0-logloss:0.60171\n",
      "[380]\tvalidation_0-logloss:0.60203\n",
      "[381]\tvalidation_0-logloss:0.60220\n",
      "[382]\tvalidation_0-logloss:0.60276\n",
      "[383]\tvalidation_0-logloss:0.60276\n",
      "[384]\tvalidation_0-logloss:0.60284\n",
      "[385]\tvalidation_0-logloss:0.60329\n",
      "[386]\tvalidation_0-logloss:0.60328\n",
      "[387]\tvalidation_0-logloss:0.60330\n",
      "[388]\tvalidation_0-logloss:0.60329\n",
      "[389]\tvalidation_0-logloss:0.60393\n",
      "[390]\tvalidation_0-logloss:0.60396\n",
      "[391]\tvalidation_0-logloss:0.60459\n",
      "[392]\tvalidation_0-logloss:0.60520\n",
      "[393]\tvalidation_0-logloss:0.60560\n",
      "[394]\tvalidation_0-logloss:0.60600\n",
      "[395]\tvalidation_0-logloss:0.60622\n",
      "[396]\tvalidation_0-logloss:0.60622\n",
      "[397]\tvalidation_0-logloss:0.60624\n",
      "[398]\tvalidation_0-logloss:0.60704\n",
      "[399]\tvalidation_0-logloss:0.60742\n",
      "[400]\tvalidation_0-logloss:0.60821\n",
      "[401]\tvalidation_0-logloss:0.60835\n",
      "[402]\tvalidation_0-logloss:0.60855\n",
      "[403]\tvalidation_0-logloss:0.60891\n",
      "[404]\tvalidation_0-logloss:0.60906\n",
      "[405]\tvalidation_0-logloss:0.60926\n",
      "[406]\tvalidation_0-logloss:0.60929\n",
      "[407]\tvalidation_0-logloss:0.60951\n",
      "[408]\tvalidation_0-logloss:0.60956\n",
      "[409]\tvalidation_0-logloss:0.60973\n",
      "[410]\tvalidation_0-logloss:0.61009\n",
      "[411]\tvalidation_0-logloss:0.61035\n",
      "[412]\tvalidation_0-logloss:0.61055\n",
      "[413]\tvalidation_0-logloss:0.61104\n",
      "[414]\tvalidation_0-logloss:0.61109\n",
      "[415]\tvalidation_0-logloss:0.61091\n",
      "[416]\tvalidation_0-logloss:0.61127\n",
      "[417]\tvalidation_0-logloss:0.61158\n",
      "[418]\tvalidation_0-logloss:0.61169\n",
      "[419]\tvalidation_0-logloss:0.61201\n",
      "[420]\tvalidation_0-logloss:0.61206\n",
      "[421]\tvalidation_0-logloss:0.61256\n",
      "[422]\tvalidation_0-logloss:0.61277\n",
      "[423]\tvalidation_0-logloss:0.61300\n",
      "[424]\tvalidation_0-logloss:0.61304\n",
      "[425]\tvalidation_0-logloss:0.61308\n",
      "[426]\tvalidation_0-logloss:0.61342\n",
      "[427]\tvalidation_0-logloss:0.61382\n",
      "[428]\tvalidation_0-logloss:0.61418\n",
      "[429]\tvalidation_0-logloss:0.61446\n",
      "[430]\tvalidation_0-logloss:0.61471\n",
      "[431]\tvalidation_0-logloss:0.61483\n",
      "[432]\tvalidation_0-logloss:0.61486\n",
      "[433]\tvalidation_0-logloss:0.61527\n",
      "[434]\tvalidation_0-logloss:0.61566\n",
      "[435]\tvalidation_0-logloss:0.61552\n",
      "[436]\tvalidation_0-logloss:0.61585\n",
      "[437]\tvalidation_0-logloss:0.61609\n",
      "[438]\tvalidation_0-logloss:0.61596\n",
      "[439]\tvalidation_0-logloss:0.61648\n",
      "[440]\tvalidation_0-logloss:0.61717\n",
      "[441]\tvalidation_0-logloss:0.61734\n",
      "[442]\tvalidation_0-logloss:0.61782\n",
      "[443]\tvalidation_0-logloss:0.61835\n",
      "[444]\tvalidation_0-logloss:0.61843\n",
      "[445]\tvalidation_0-logloss:0.61880\n",
      "[446]\tvalidation_0-logloss:0.61898\n",
      "[447]\tvalidation_0-logloss:0.61959\n",
      "[448]\tvalidation_0-logloss:0.61984\n",
      "[449]\tvalidation_0-logloss:0.61969\n",
      "[450]\tvalidation_0-logloss:0.62021\n",
      "[451]\tvalidation_0-logloss:0.62074\n",
      "[452]\tvalidation_0-logloss:0.62088\n",
      "[453]\tvalidation_0-logloss:0.62095\n",
      "[454]\tvalidation_0-logloss:0.62132\n",
      "[455]\tvalidation_0-logloss:0.62149\n",
      "[456]\tvalidation_0-logloss:0.62188\n",
      "[457]\tvalidation_0-logloss:0.62206\n",
      "[458]\tvalidation_0-logloss:0.62214\n",
      "[459]\tvalidation_0-logloss:0.62275\n",
      "[460]\tvalidation_0-logloss:0.62319\n",
      "[461]\tvalidation_0-logloss:0.62313\n",
      "[462]\tvalidation_0-logloss:0.62325\n",
      "[463]\tvalidation_0-logloss:0.62347\n",
      "[464]\tvalidation_0-logloss:0.62399\n",
      "[465]\tvalidation_0-logloss:0.62407\n",
      "[466]\tvalidation_0-logloss:0.62397\n",
      "[467]\tvalidation_0-logloss:0.62452\n",
      "[468]\tvalidation_0-logloss:0.62467\n",
      "[469]\tvalidation_0-logloss:0.62480\n",
      "[470]\tvalidation_0-logloss:0.62496\n",
      "[471]\tvalidation_0-logloss:0.62510\n",
      "[472]\tvalidation_0-logloss:0.62565\n"
     ]
    },
    {
     "name": "stdout",
     "output_type": "stream",
     "text": [
      "[473]\tvalidation_0-logloss:0.62616\n",
      "[474]\tvalidation_0-logloss:0.62640\n",
      "[475]\tvalidation_0-logloss:0.62630\n",
      "[476]\tvalidation_0-logloss:0.62680\n",
      "[477]\tvalidation_0-logloss:0.62689\n",
      "[478]\tvalidation_0-logloss:0.62724\n",
      "[479]\tvalidation_0-logloss:0.62774\n",
      "[480]\tvalidation_0-logloss:0.62803\n",
      "[481]\tvalidation_0-logloss:0.62788\n",
      "[482]\tvalidation_0-logloss:0.62812\n",
      "[483]\tvalidation_0-logloss:0.62805\n",
      "[484]\tvalidation_0-logloss:0.62823\n",
      "[485]\tvalidation_0-logloss:0.62840\n",
      "[486]\tvalidation_0-logloss:0.62884\n",
      "[487]\tvalidation_0-logloss:0.62873\n",
      "[488]\tvalidation_0-logloss:0.62896\n",
      "[489]\tvalidation_0-logloss:0.62885\n",
      "[490]\tvalidation_0-logloss:0.62908\n",
      "[491]\tvalidation_0-logloss:0.62903\n",
      "[492]\tvalidation_0-logloss:0.62924\n",
      "[493]\tvalidation_0-logloss:0.62913\n",
      "[494]\tvalidation_0-logloss:0.62964\n",
      "[495]\tvalidation_0-logloss:0.62965\n",
      "[496]\tvalidation_0-logloss:0.62976\n",
      "[497]\tvalidation_0-logloss:0.62969\n",
      "[498]\tvalidation_0-logloss:0.62974\n",
      "[499]\tvalidation_0-logloss:0.62978\n"
     ]
    }
   ],
   "source": [
    "clf=XGBClassifier(max_depth=10,colsample_bytree=0.8,learning_rate=0.02,n_estimators=500,nthread=-1)\n",
    "clf.fit(X_train,(y_train),eval_metric=\"logloss\",eval_set=[(X_test, y_test)])\n",
    "y_pred_prob0=clf.predict_proba(X_test)"
   ]
  },
  {
   "cell_type": "code",
   "execution_count": 2,
   "metadata": {},
   "outputs": [],
   "source": [
    "# allow plots to appear in the notebook\n",
    "%matplotlib inline\n",
    "import matplotlib.pyplot as plt"
   ]
  },
  {
   "cell_type": "markdown",
   "metadata": {},
   "source": [
    "# AUC is the percentage of the ROC plot that is underneath the curve:\n",
    "\n"
   ]
  },
  {
   "cell_type": "code",
   "execution_count": null,
   "metadata": {},
   "outputs": [],
   "source": []
  },
  {
   "cell_type": "code",
   "execution_count": 271,
   "metadata": {},
   "outputs": [
    {
     "name": "stdout",
     "output_type": "stream",
     "text": [
      "0.4453473945409429\n"
     ]
    }
   ],
   "source": [
    "# IMPORTANT: first argument is true values, second argument is predicted probabilities\n",
    "auclr=metrics.roc_auc_score(y_test, y_pred_prob)\n",
    "print(auclr)"
   ]
  },
  {
   "cell_type": "code",
   "execution_count": 274,
   "metadata": {},
   "outputs": [
    {
     "name": "stdout",
     "output_type": "stream",
     "text": [
      "0.6568238213399504\n"
     ]
    }
   ],
   "source": [
    "# IMPORTANT: first argument is true values, second argument is predicted probabilities\n",
    "auckm=metrics.roc_auc_score(y_test, y_pred_prob1)\n",
    "print(auckm)"
   ]
  },
  {
   "cell_type": "code",
   "execution_count": 275,
   "metadata": {},
   "outputs": [
    {
     "name": "stdout",
     "output_type": "stream",
     "text": [
      "0.6568238213399504\n"
     ]
    }
   ],
   "source": [
    "# IMPORTANT: first argument is true values, second argument is predicted probabilities\n",
    "aucdt=metrics.roc_auc_score(y_test, y_pred_prob2)\n",
    "print(aucdt)"
   ]
  },
  {
   "cell_type": "code",
   "execution_count": 279,
   "metadata": {},
   "outputs": [
    {
     "name": "stdout",
     "output_type": "stream",
     "text": [
      "0.7288461538461538\n"
     ]
    }
   ],
   "source": [
    "# IMPORTANT: first argument is true values, second argument is predicted probabilities\n",
    "aucrf=metrics.roc_auc_score(y_test, y_pred_prob3)\n",
    "print(aucrf)"
   ]
  },
  {
   "cell_type": "code",
   "execution_count": 278,
   "metadata": {},
   "outputs": [
    {
     "name": "stdout",
     "output_type": "stream",
     "text": [
      "0.7365384615384616\n"
     ]
    }
   ],
   "source": [
    "# IMPORTANT: first argument is true values, second argument is predicted probabilities\n",
    "aucxgboost=metrics.roc_auc_score(y_test, y_pred_prob4)\n",
    "print(aucxgboost)"
   ]
  },
  {
   "cell_type": "code",
   "execution_count": 276,
   "metadata": {},
   "outputs": [
    {
     "name": "stdout",
     "output_type": "stream",
     "text": [
      "0.4453473945409429\n"
     ]
    }
   ],
   "source": [
    "# IMPORTANT: first argument is true values, second argument is predicted probabilities\n",
    "aucsvm=metrics.roc_auc_score(y_test, y_pred_prob6)\n",
    "print(aucsvm)"
   ]
  },
  {
   "cell_type": "markdown",
   "metadata": {},
   "source": [
    "# ROC Curves and Area Under the Curve (AUC)\n"
   ]
  },
  {
   "cell_type": "code",
   "execution_count": null,
   "metadata": {},
   "outputs": [],
   "source": []
  },
  {
   "cell_type": "code",
   "execution_count": 287,
   "metadata": {},
   "outputs": [
    {
     "data": {
      "image/png": "[encoded data removed]",
      "text/plain": [
       "<Figure size 1000x1000 with 1 Axes>"
      ]
     },
     "metadata": {
      "needs_background": "light"
     },
     "output_type": "display_data"
    }
   ],
   "source": [
    "# IMPORTANT: first argument is true values, second argument is predicted probabilities\n",
    "fpr, tpr, thresholds = metrics.roc_curve(y_test, y_pred_prob)\n",
    "fpr1, tpr1, thresholds1 = metrics.roc_curve(y_test, y_pred_prob1)\n",
    "fpr2, tpr2, thresholds2 = metrics.roc_curve(y_test, y_pred_prob2)\n",
    "fpr3, tpr3, thresholds3 = metrics.roc_curve(y_test, y_pred_prob3)\n",
    "fpr4, tpr4, thresholds4 = metrics.roc_curve(y_test, y_pred_prob4)\n",
    "#fpr0, tpr0, thresholds5 = metrics.roc_curve(y_test, y_pred_prob0)\n",
    "fpr6, tpr6, thresholds6 = metrics.roc_curve(y_test, y_pred_prob6)\n",
    "\n",
    "\n",
    "plt.figure(figsize=(10, 10), dpi=100)\n",
    "plt.plot(fpr,tpr, linestyle='-', label='LR (auclr = %0.3f)' % auclr)\n",
    "plt.plot(fpr1,tpr1, marker='.', label='K_means (auckm = %0.3f)' % auckm)\n",
    "plt.plot(fpr2,tpr2, linestyle='solid', label='DT (aucdt = %0.3f)' % aucdt)\n",
    "plt.plot(fpr3,tpr3, linestyle='dashed', label='RF (aucrf = %0.3f)' % aucrf)\n",
    "plt.plot(fpr4,tpr4, linestyle='dotted', label='XGBOOST (aucxgboost = %0.3f)' % aucxgboost)\n",
    "plt.plot(fpr6,tpr6, linestyle='--', label='SVM (aucsvm = %0.3f)' % aucsvm)\n",
    "\n",
    "\n",
    "plt.xlabel('False Positive Rate -->')\n",
    "plt.ylabel('True Positive Rate -->')\n",
    "\n",
    "plt.legend()\n",
    "\n",
    "plt.show()\n",
    "\n",
    "\n",
    "\n",
    "\n",
    "\n",
    "#plt.plot(fpr, tpr)\n",
    "#plt.plot(fpr1, tpr1)\n",
    "#plt.plot(fpr2, tpr2)\n",
    "#plt.plot(fpr3, tpr3)\n",
    "#plt.plot(fpr4, tpr4)\n",
    "#plt.plot(fpr0, tpr0)\n",
    "#plt.plot(fpr6, tpr6)\n",
    "\n",
    "\n",
    "#plt.xlim([0.0, 1.0])\n",
    "#plt.ylim([0.0, 1.0])\n",
    "#plt.title('ROC curve for diabetes classifier')\n",
    "#plt.xlabel('False Positive Rate (1 - Specificity)')\n",
    "#plt.ylabel('True Positive Rate (Sensitivity)')\n",
    "#plt.grid(True)"
   ]
  },
  {
   "cell_type": "markdown",
   "metadata": {},
   "source": [
    "# Positive predictive value "
   ]
  },
  {
   "cell_type": "code",
   "execution_count": 233,
   "metadata": {},
   "outputs": [
    {
     "name": "stdout",
     "output_type": "stream",
     "text": [
      "0.6458333333333334\n",
      "ppv lr: 0.6458333333333334\n"
     ]
    }
   ],
   "source": [
    "print(TP / float(TP + FP))\n",
    "print('ppv lr:',metrics.precision_score(y_test, y_pred_class))\n",
    "\n"
   ]
  },
  {
   "cell_type": "code",
   "execution_count": 235,
   "metadata": {},
   "outputs": [
    {
     "name": "stdout",
     "output_type": "stream",
     "text": [
      "0.5818181818181818\n",
      "ppv Kmeans: 0.5818181818181818\n"
     ]
    }
   ],
   "source": [
    "print(TP1 / float(TP1 + FP1))\n",
    "print('ppv Kmeans:',metrics.precision_score(y_test, y_pred))\n"
   ]
  },
  {
   "cell_type": "code",
   "execution_count": 236,
   "metadata": {},
   "outputs": [
    {
     "name": "stdout",
     "output_type": "stream",
     "text": [
      "0.4875\n",
      "ppv DT: 0.4875\n"
     ]
    }
   ],
   "source": [
    "print(TP2 / float(TP2 + FP2))\n",
    "print('ppv DT:',metrics.precision_score(y_test, y_preddt))\n"
   ]
  },
  {
   "cell_type": "code",
   "execution_count": 238,
   "metadata": {},
   "outputs": [
    {
     "name": "stdout",
     "output_type": "stream",
     "text": [
      "0.6111111111111112\n",
      "ppv RF: 0.6111111111111112\n"
     ]
    }
   ],
   "source": [
    "print(TP3 / float(TP3 + FP3))\n",
    "print('ppv RF:',metrics.precision_score(y_test, y_predrf))\n"
   ]
  },
  {
   "cell_type": "code",
   "execution_count": 239,
   "metadata": {},
   "outputs": [
    {
     "name": "stdout",
     "output_type": "stream",
     "text": [
      "0.6222222222222222\n",
      "ppv SVM: 0.6222222222222222\n"
     ]
    }
   ],
   "source": [
    "print(TP4 / float(TP4 + FP4))\n",
    "print('ppv SVM:',metrics.precision_score(y_test, y_predsv))\n"
   ]
  },
  {
   "cell_type": "code",
   "execution_count": 240,
   "metadata": {},
   "outputs": [
    {
     "name": "stdout",
     "output_type": "stream",
     "text": [
      "0.5087719298245614\n",
      "ppv XGBOOST: 0.5087719298245614\n"
     ]
    }
   ],
   "source": [
    "print(TP5 / float(TP5 + FP5))\n",
    "print('ppv XGBOOST:',metrics.precision_score(y_test, y_predxgb))\n"
   ]
  },
  {
   "cell_type": "code",
   "execution_count": 241,
   "metadata": {},
   "outputs": [
    {
     "name": "stdout",
     "output_type": "stream",
     "text": [
      "0.8297872340425532\n",
      "ppv GBM: 0.8297872340425532\n"
     ]
    }
   ],
   "source": [
    "print(TP6 / float(TP6 + FP6))\n",
    "print('ppv GBM:',metrics.precision_score(y_test, y_predgbm))\n"
   ]
  },
  {
   "cell_type": "markdown",
   "metadata": {},
   "source": [
    "# Negative predictive value (NPV)\n"
   ]
  },
  {
   "cell_type": "code",
   "execution_count": 242,
   "metadata": {},
   "outputs": [
    {
     "name": "stdout",
     "output_type": "stream",
     "text": [
      "NPV LR: 0.7847222222222222\n"
     ]
    }
   ],
   "source": [
    "print('NPV LR:',TN / float(TN + FN))\n"
   ]
  },
  {
   "cell_type": "code",
   "execution_count": 243,
   "metadata": {},
   "outputs": [
    {
     "name": "stdout",
     "output_type": "stream",
     "text": [
      "NPV Kmeans: 0.781021897810219\n"
     ]
    }
   ],
   "source": [
    "print('NPV Kmeans:',TN1 / float(TN1 + FN1))\n"
   ]
  },
  {
   "cell_type": "code",
   "execution_count": 244,
   "metadata": {},
   "outputs": [
    {
     "name": "stdout",
     "output_type": "stream",
     "text": [
      "NPV DT: 0.7946428571428571\n"
     ]
    }
   ],
   "source": [
    "print('NPV DT:',TN2 / float(TN2 + FN2))\n"
   ]
  },
  {
   "cell_type": "code",
   "execution_count": 245,
   "metadata": {},
   "outputs": [
    {
     "name": "stdout",
     "output_type": "stream",
     "text": [
      "NPV RF: 0.7898550724637681\n"
     ]
    }
   ],
   "source": [
    "print('NPV RF:',TN3 / float(TN3 + FN3))\n"
   ]
  },
  {
   "cell_type": "code",
   "execution_count": 246,
   "metadata": {},
   "outputs": [
    {
     "name": "stdout",
     "output_type": "stream",
     "text": [
      "NPV SVM: 0.7687074829931972\n"
     ]
    }
   ],
   "source": [
    "print('NPV SVM:',TN4 / float(TN4 + FN4))\n"
   ]
  },
  {
   "cell_type": "code",
   "execution_count": 247,
   "metadata": {},
   "outputs": [
    {
     "name": "stdout",
     "output_type": "stream",
     "text": [
      "NPV XGBOOST: 0.7555555555555555\n"
     ]
    }
   ],
   "source": [
    "print('NPV XGBOOST:',TN5 / float(TN5 + FN5))\n"
   ]
  },
  {
   "cell_type": "code",
   "execution_count": 248,
   "metadata": {},
   "outputs": [
    {
     "name": "stdout",
     "output_type": "stream",
     "text": [
      "NPV GBM: 0.8413793103448276\n"
     ]
    }
   ],
   "source": [
    "print('NPV GBM:',TN6 / float(TN6 + FN6))\n"
   ]
  },
  {
   "cell_type": "code",
   "execution_count": 269,
   "metadata": {},
   "outputs": [
    {
     "data": {
      "image/png": "[encoded data removed]",
      "text/plain": [
       "<Figure size 432x288 with 1 Axes>"
      ]
     },
     "metadata": {
      "needs_background": "light"
     },
     "output_type": "display_data"
    }
   ],
   "source": [
    "from sklearn.metrics import precision_recall_curve\n",
    "precision, recall, tresholds= precision_recall_curve(y_test, y_pred_class)\n",
    "plt.plot(precision, recall)\n",
    "precision1, recall1, tresholds1= precision_recall_curve(y_test, y_pred)\n",
    "plt.plot(precision1, recall1)\n",
    "precision2, recall2, tresholds2= precision_recall_curve(y_test, y_preddt)\n",
    "plt.plot(precision2, recall2)\n",
    "precision3, recall3, tresholds3= precision_recall_curve(y_test, y_predrf)\n",
    "plt.plot(precision3, recall3)\n",
    "precision4, recall4, tresholds4= precision_recall_curve(y_test, y_predsv)\n",
    "plt.plot(precision4, recall4)\n",
    "precision5, recall5, tresholds5= precision_recall_curve(y_test, y_predxgb)\n",
    "plt.plot(precision5, recall5)\n",
    "precision6, recall6, tresholds6= precision_recall_curve(y_test, y_predgbm)\n",
    "plt.plot(precision6, recall6)\n",
    "\n",
    "plt.plot(precision, recall, linestyle='-', label='LR')\n",
    "plt.plot(precision1, recall1, linestyle='--', label='Kmeans')\n",
    "plt.plot(precision2, recall2, linestyle='-.', label='DT')\n",
    "plt.plot(precision3, recall3, linestyle=':', label='RF')\n",
    "plt.plot(precision4, recall4, linestyle='solid', label='SVM')\n",
    "plt.plot(precision5, recall5, linestyle='dashed', label='XGBOOST')\n",
    "plt.plot(precision6, recall6, linestyle='dashdot', label='GBM')\n",
    "\n",
    "\n",
    "\n",
    "#'-', '--', '-.', ':', 'None', ' ', '', 'solid', 'dashed', 'dashdot', 'dotted'\n",
    "\n",
    "\n",
    "\n",
    "\n",
    "plt.legend()\n",
    "\n",
    "plt.xlim([0.0, 1.0])\n",
    "plt.ylim([0.0, 1.0])\n",
    "plt.title('precision_recall_curve')\n",
    "plt.xlabel('Recall')\n",
    "plt.ylabel('Precision')\n",
    "plt.grid(True)"
   ]
  },
  {
   "cell_type": "code",
   "execution_count": null,
   "metadata": {},
   "outputs": [],
   "source": []
  }
 ],
 "metadata": {
  "kernelspec": {
   "display_name": "Python 3",
   "language": "python",
   "name": "python3"
  },
  "language_info": {
   "codemirror_mode": {
    "name": "ipython",
    "version": 3
   },
   "file_extension": ".py",
   "mimetype": "text/x-python",
   "name": "python",
   "nbconvert_exporter": "python",
   "pygments_lexer": "ipython3",
   "version": "3.7.4"
  }
 },
 "nbformat": 4,
 "nbformat_minor": 2
}
