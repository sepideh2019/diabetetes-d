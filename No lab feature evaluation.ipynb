{
 "cells": [
  {
   "cell_type": "code",
   "execution_count": 38,
   "metadata": {},
   "outputs": [
    {
     "ename": "ImportError",
     "evalue": "cannot import name 'Imputer' from 'sklearn.preprocessing' (C:\\Users\\sepideh\\AppData\\Roaming\\Python\\Python37\\site-packages\\sklearn\\preprocessing\\__init__.py)",
     "output_type": "error",
     "traceback": [
      "\u001b[1;31m---------------------------------------------------------------------------\u001b[0m",
      "\u001b[1;31mImportError\u001b[0m                               Traceback (most recent call last)",
      "\u001b[1;32m<ipython-input-38-b3be951cc5c4>\u001b[0m in \u001b[0;36m<module>\u001b[1;34m\u001b[0m\n\u001b[0;32m     86\u001b[0m \u001b[1;33m\u001b[0m\u001b[0m\n\u001b[0;32m     87\u001b[0m \u001b[1;31m# pre-processing\u001b[0m\u001b[1;33m\u001b[0m\u001b[1;33m\u001b[0m\u001b[1;33m\u001b[0m\u001b[0m\n\u001b[1;32m---> 88\u001b[1;33m \u001b[1;32mfrom\u001b[0m \u001b[0msklearn\u001b[0m\u001b[1;33m.\u001b[0m\u001b[0mpreprocessing\u001b[0m \u001b[1;32mimport\u001b[0m \u001b[0mImputer\u001b[0m\u001b[1;33m\u001b[0m\u001b[1;33m\u001b[0m\u001b[0m\n\u001b[0m\u001b[0;32m     89\u001b[0m \u001b[1;32mfrom\u001b[0m \u001b[0msklearn\u001b[0m\u001b[1;33m.\u001b[0m\u001b[0mfeature_selection\u001b[0m \u001b[1;32mimport\u001b[0m \u001b[0mSelectKBest\u001b[0m\u001b[1;33m\u001b[0m\u001b[1;33m\u001b[0m\u001b[0m\n\u001b[0;32m     90\u001b[0m \u001b[1;32mfrom\u001b[0m \u001b[0msklearn\u001b[0m\u001b[1;33m.\u001b[0m\u001b[0mfeature_selection\u001b[0m \u001b[1;32mimport\u001b[0m \u001b[0mRFE\u001b[0m\u001b[1;33m\u001b[0m\u001b[1;33m\u001b[0m\u001b[0m\n",
      "\u001b[1;31mImportError\u001b[0m: cannot import name 'Imputer' from 'sklearn.preprocessing' (C:\\Users\\sepideh\\AppData\\Roaming\\Python\\Python37\\site-packages\\sklearn\\preprocessing\\__init__.py)"
     ]
    }
   ],
   "source": [
    "import numpy as np\n",
    "import pandas as pd\n",
    "import matplotlib.pyplot as plt\n",
    "from matplotlib import rcParams\n",
    "from matplotlib.cm import rainbow\n",
    "%matplotlib inline\n",
    "import warnings\n",
    "warnings.filterwarnings('ignore')\n",
    "#import plotly.graph_objs as go\n",
    "#import plotly.tools as tls\n",
    "import os\n",
    "import gc\n",
    "from sklearn.model_selection import train_test_split\n",
    "from sklearn.preprocessing import StandardScaler\n",
    "from sklearn.neighbors import KNeighborsClassifier\n",
    "from sklearn.svm import SVC\n",
    "from sklearn.tree import DecisionTreeClassifier\n",
    "from sklearn.ensemble import RandomForestClassifier\n",
    "import numpy as np\n",
    "import pandas as pd\n",
    "import matplotlib.pyplot as plt\n",
    "from matplotlib import rcParams\n",
    "from matplotlib.cm import rainbow\n",
    "%matplotlib inline\n",
    "import warnings\n",
    "warnings.filterwarnings('ignore')\n",
    "from sklearn.tree import export_graphviz\n",
    "from sklearn.model_selection import train_test_split\n",
    "from sklearn.preprocessing import StandardScaler\n",
    "from sklearn.neighbors import KNeighborsClassifier\n",
    "from sklearn.svm import SVC\n",
    "from sklearn.tree import DecisionTreeClassifier\n",
    "from sklearn.ensemble import RandomForestClassifier\n",
    "\n",
    "\n",
    "\n",
    "\n",
    "\n",
    "\n",
    "\n",
    "\n",
    "import time\n",
    "import random\n",
    "import warnings\n",
    "warnings.filterwarnings(\"ignore\")\n",
    "from math import *\n",
    "import operator\n",
    "import pandas as pd\n",
    "import numpy as np\n",
    "pd.set_option(\"display.max_columns\", 10000)\n",
    "import string\n",
    "from pprint import pprint\n",
    "\n",
    "# import plotting libraries\n",
    "import matplotlib\n",
    "import matplotlib.pyplot as plt\n",
    "from pandas.plotting import scatter_matrix\n",
    "from matplotlib import style\n",
    "%matplotlib inline \n",
    "\n",
    "import seaborn as sns\n",
    "sns.set(style=\"white\", color_codes=True)\n",
    "sns.set(font_scale=1.5)\n",
    "\n",
    "# load make_blobs to simulate data\n",
    "from sklearn.datasets import make_blobs\n",
    "from sklearn.datasets import make_classification\n",
    "\n",
    "# import the ML algorithm\n",
    "from sklearn.neighbors import KNeighborsClassifier\n",
    "from sklearn.linear_model import LogisticRegression\n",
    "from sklearn.naive_bayes import GaussianNB\n",
    "from sklearn.naive_bayes import MultinomialNB\n",
    "from sklearn.tree import DecisionTreeClassifier\n",
    "from sklearn.ensemble import RandomForestClassifier\n",
    "from sklearn.ensemble import GradientBoostingClassifier\n",
    "from sklearn.cluster import KMeans\n",
    "import xgboost as xgb\n",
    "from xgboost import XGBClassifier\n",
    "from xgboost import plot_importance\n",
    "from sklearn.svm import SVC\n",
    "from sklearn.model_selection import GridSearchCV\n",
    "import graphviz\n",
    "from IPython.display import display\n",
    "\n",
    "\n",
    "# pre-processing\n",
    "from sklearn.preprocessing import Imputer\n",
    "from sklearn.feature_selection import SelectKBest\n",
    "from sklearn.feature_selection import RFE\n",
    "from sklearn.feature_selection import RFECV\n",
    "\n",
    "\n",
    "# import libraries for model validation\n",
    "from sklearn.model_selection import cross_val_score\n",
    "from sklearn.model_selection import train_test_split\n",
    "from sklearn.model_selection import KFold \n",
    "\n",
    "# import libraries for metrics and reporting\n",
    "from sklearn.linear_model import LogisticRegression\n",
    "\n",
    "from sklearn.metrics import confusion_matrix\n",
    "from sklearn.metrics import classification_report\n",
    "from sklearn.metrics import accuracy_score\n",
    "from sklearn.metrics import precision_score\n",
    "from sklearn.metrics import recall_score\n",
    "from sklearn.metrics import f1_score\n",
    "from sklearn import metrics\n",
    "from sklearn.metrics import classification_report\n",
    "from sklearn.metrics import roc_curve, auc\n",
    "from sklearn.metrics import adjusted_rand_score\n",
    "from sklearn.model_selection import GridSearchCV\n",
    "from statsmodels.stats.outliers_influence import variance_inflation_factor\n",
    "from scipy.stats import pearsonr\n",
    "import statistics"
   ]
  },
  {
   "cell_type": "code",
   "execution_count": 39,
   "metadata": {},
   "outputs": [
    {
     "data": {
      "text/html": [
       "<div>\n",
       "<style scoped>\n",
       "    .dataframe tbody tr th:only-of-type {\n",
       "        vertical-align: middle;\n",
       "    }\n",
       "\n",
       "    .dataframe tbody tr th {\n",
       "        vertical-align: top;\n",
       "    }\n",
       "\n",
       "    .dataframe thead th {\n",
       "        text-align: right;\n",
       "    }\n",
       "</style>\n",
       "<table border=\"1\" class=\"dataframe\">\n",
       "  <thead>\n",
       "    <tr style=\"text-align: right;\">\n",
       "      <th></th>\n",
       "      <th>Pregnancies</th>\n",
       "      <th>Glucose</th>\n",
       "      <th>BloodPressure</th>\n",
       "      <th>SkinThickness</th>\n",
       "      <th>Insulin</th>\n",
       "      <th>BMI</th>\n",
       "      <th>DiabetesPedigreeFunction</th>\n",
       "      <th>Age</th>\n",
       "      <th>Outcome</th>\n",
       "    </tr>\n",
       "  </thead>\n",
       "  <tbody>\n",
       "    <tr>\n",
       "      <td>0</td>\n",
       "      <td>6</td>\n",
       "      <td>148</td>\n",
       "      <td>72</td>\n",
       "      <td>35</td>\n",
       "      <td>0</td>\n",
       "      <td>33.6</td>\n",
       "      <td>0.627</td>\n",
       "      <td>50</td>\n",
       "      <td>1</td>\n",
       "    </tr>\n",
       "    <tr>\n",
       "      <td>1</td>\n",
       "      <td>1</td>\n",
       "      <td>85</td>\n",
       "      <td>66</td>\n",
       "      <td>29</td>\n",
       "      <td>0</td>\n",
       "      <td>26.6</td>\n",
       "      <td>0.351</td>\n",
       "      <td>31</td>\n",
       "      <td>0</td>\n",
       "    </tr>\n",
       "    <tr>\n",
       "      <td>2</td>\n",
       "      <td>8</td>\n",
       "      <td>183</td>\n",
       "      <td>64</td>\n",
       "      <td>0</td>\n",
       "      <td>0</td>\n",
       "      <td>23.3</td>\n",
       "      <td>0.672</td>\n",
       "      <td>32</td>\n",
       "      <td>1</td>\n",
       "    </tr>\n",
       "    <tr>\n",
       "      <td>3</td>\n",
       "      <td>1</td>\n",
       "      <td>89</td>\n",
       "      <td>66</td>\n",
       "      <td>23</td>\n",
       "      <td>94</td>\n",
       "      <td>28.1</td>\n",
       "      <td>0.167</td>\n",
       "      <td>21</td>\n",
       "      <td>0</td>\n",
       "    </tr>\n",
       "    <tr>\n",
       "      <td>4</td>\n",
       "      <td>0</td>\n",
       "      <td>137</td>\n",
       "      <td>40</td>\n",
       "      <td>35</td>\n",
       "      <td>168</td>\n",
       "      <td>43.1</td>\n",
       "      <td>2.288</td>\n",
       "      <td>33</td>\n",
       "      <td>1</td>\n",
       "    </tr>\n",
       "  </tbody>\n",
       "</table>\n",
       "</div>"
      ],
      "text/plain": [
       "   Pregnancies  Glucose  BloodPressure  SkinThickness  Insulin   BMI  \\\n",
       "0            6      148             72             35        0  33.6   \n",
       "1            1       85             66             29        0  26.6   \n",
       "2            8      183             64              0        0  23.3   \n",
       "3            1       89             66             23       94  28.1   \n",
       "4            0      137             40             35      168  43.1   \n",
       "\n",
       "   DiabetesPedigreeFunction  Age  Outcome  \n",
       "0                     0.627   50        1  \n",
       "1                     0.351   31        0  \n",
       "2                     0.672   32        1  \n",
       "3                     0.167   21        0  \n",
       "4                     2.288   33        1  "
      ]
     },
     "execution_count": 39,
     "metadata": {},
     "output_type": "execute_result"
    }
   ],
   "source": [
    "dataset = pd.read_csv('E:/diabetes.csv')\n",
    "dataset.head()"
   ]
  },
  {
   "cell_type": "code",
   "execution_count": 40,
   "metadata": {},
   "outputs": [],
   "source": [
    "feature_names = ['Pregnancies', 'BMI', 'DiabetesPedigreeFunction', 'Age']\n",
    "X = dataset[feature_names]\n",
    "y = dataset.Outcome"
   ]
  },
  {
   "cell_type": "code",
   "execution_count": 41,
   "metadata": {},
   "outputs": [],
   "source": [
    "from sklearn.model_selection import train_test_split\n",
    "X_train,X_test,y_train, y_test=train_test_split(X,y,random_state=0)"
   ]
  },
  {
   "cell_type": "code",
   "execution_count": 42,
   "metadata": {},
   "outputs": [
    {
     "data": {
      "text/plain": [
       "LogisticRegression()"
      ]
     },
     "execution_count": 42,
     "metadata": {},
     "output_type": "execute_result"
    }
   ],
   "source": [
    "from sklearn.linear_model import LinearRegression\n",
    "\n",
    "logreg=LogisticRegression()\n",
    "logreg.fit(X_train,y_train)"
   ]
  },
  {
   "cell_type": "code",
   "execution_count": 43,
   "metadata": {},
   "outputs": [],
   "source": [
    "y_pred_class=logreg.predict(X_test)"
   ]
  },
  {
   "cell_type": "code",
   "execution_count": 44,
   "metadata": {},
   "outputs": [
    {
     "name": "stdout",
     "output_type": "stream",
     "text": [
      "LR Accuracy :  0.7135416666666666\n"
     ]
    }
   ],
   "source": [
    "from sklearn.metrics import accuracy_score\n",
    "\n",
    "ac_lr=accuracy_score(y_test,y_pred_class)\n",
    "print ('LR Accuracy : ', ac_lr)\n",
    "\n"
   ]
  },
  {
   "cell_type": "code",
   "execution_count": 45,
   "metadata": {},
   "outputs": [
    {
     "data": {
      "image/png": "[encoded data removed]",
      "text/plain": [
       "<Figure size 432x288 with 2 Axes>"
      ]
     },
     "metadata": {},
     "output_type": "display_data"
    }
   ],
   "source": [
    "fig, ax = plt.subplots()\n",
    "visualizer = ClassificationReport(logreg, classes=[0, 1], ax=ax)\n",
    "ax.grid(False)\n",
    "\n",
    "visualizer.fit(X_train, y_train)  # Fit the training data to the visualizer\n",
    "visualizer.score(X_test, y_test)  # Evaluate the model on the test data\n",
    "g = visualizer.poof() "
   ]
  },
  {
   "cell_type": "code",
   "execution_count": 46,
   "metadata": {},
   "outputs": [],
   "source": [
    "import datetime\n",
    "import pandas as pd\n",
    "import seaborn as sns\n",
    "import numpy as np\n",
    "import sklearn\n",
    "from sklearn.model_selection import train_test_split\n",
    "from sklearn.linear_model import LogisticRegression\n",
    "from sklearn.ensemble import RandomForestClassifier\n",
    "from sklearn.dummy import DummyClassifier\n",
    "from sklearn.manifold import TSNE\n",
    "from sklearn.metrics import roc_auc_score\n",
    "from sklearn.metrics import make_scorer\n",
    "from sklearn.metrics import classification_report\n",
    "from sklearn.model_selection import cross_val_score\n",
    "from sklearn.model_selection import RepeatedKFold\n",
    "from sklearn.model_selection import ShuffleSplit\n",
    "from sklearn.model_selection import learning_curve\n",
    "from xgboost import XGBClassifier\n",
    "#import skopt\n",
    "#from skopt import BayesSearchCV\n",
    "\n",
    "from yellowbrick import ROCAUC\n",
    "from yellowbrick.classifier import ConfusionMatrix, ClassificationReport\n",
    "#from eli5 import explain_weights\n",
    "#from eli5.sklearn import PermutationImportance\n",
    "#import eli5\n",
    "#from lime import lime_tabular # via pip install git+https://github.com/marcotcr/lime.git\n",
    "\n",
    "import matplotlib.pyplot as plt\n",
    "import matplotlib as mpl\n",
    "%matplotlib inline"
   ]
  },
  {
   "cell_type": "code",
   "execution_count": 47,
   "metadata": {},
   "outputs": [
    {
     "data": {
      "image/png": "[encoded data removed]",
      "text/plain": [
       "<Figure size 432x288 with 2 Axes>"
      ]
     },
     "metadata": {
      "needs_background": "light"
     },
     "output_type": "display_data"
    }
   ],
   "source": [
    "fig, ax = plt.subplots()\n",
    "visualizer = ClassificationReport(logreg, classes=[0, 1], ax=ax)\n",
    "ax.grid(False)\n",
    "\n",
    "visualizer.fit(X_train, y_train)  # Fit the training data to the visualizer\n",
    "visualizer.score(X_test, y_test)  # Evaluate the model on the test data\n",
    "g = visualizer.poof()             # Draw/show/poof the data"
   ]
  },
  {
   "cell_type": "code",
   "execution_count": 48,
   "metadata": {},
   "outputs": [],
   "source": [
    "from sklearn.neighbors import KNeighborsClassifier\n",
    "classifier = KNeighborsClassifier(n_neighbors = 5, metric = 'minkowski', p = 2)\n",
    "classifier.fit(X_train, y_train)\n",
    "y_pred = classifier.predict(X_test)"
   ]
  },
  {
   "cell_type": "code",
   "execution_count": 49,
   "metadata": {},
   "outputs": [
    {
     "name": "stdout",
     "output_type": "stream",
     "text": [
      "K_mean Accuracy :  0.6666666666666666\n"
     ]
    }
   ],
   "source": [
    "from sklearn.metrics import accuracy_score\n",
    "\n",
    "ac_kmean= accuracy_score(y_test,y_pred)\n",
    "print ('K_mean Accuracy : ', ac_kmean)"
   ]
  },
  {
   "cell_type": "code",
   "execution_count": 50,
   "metadata": {},
   "outputs": [
    {
     "data": {
      "image/png": "[encoded data removed]",
      "text/plain": [
       "<Figure size 432x288 with 2 Axes>"
      ]
     },
     "metadata": {
      "needs_background": "light"
     },
     "output_type": "display_data"
    }
   ],
   "source": [
    "fig, ax = plt.subplots()\n",
    "visualizer = ClassificationReport(classifier, classes=[0, 1], ax=ax)\n",
    "ax.grid(False)\n",
    "\n",
    "visualizer.fit(X_train, y_train)  # Fit the training data to the visualizer\n",
    "visualizer.score(X_test, y_test)  # Evaluate the model on the test data\n",
    "g = visualizer.poof()             # Draw/show/poof the data"
   ]
  },
  {
   "cell_type": "code",
   "execution_count": 19,
   "metadata": {},
   "outputs": [
    {
     "data": {
      "text/plain": [
       "DecisionTreeClassifier(criterion='entropy', random_state=0)"
      ]
     },
     "execution_count": 19,
     "metadata": {},
     "output_type": "execute_result"
    }
   ],
   "source": [
    "from sklearn.tree import DecisionTreeClassifier\n",
    "classifierdt = DecisionTreeClassifier(criterion = 'entropy', random_state = 0)\n",
    "classifierdt.fit(X_train, y_train)"
   ]
  },
  {
   "cell_type": "code",
   "execution_count": 20,
   "metadata": {},
   "outputs": [],
   "source": [
    "y_preddt = classifierdt.predict(X_test)\n"
   ]
  },
  {
   "cell_type": "code",
   "execution_count": 21,
   "metadata": {},
   "outputs": [
    {
     "name": "stdout",
     "output_type": "stream",
     "text": [
      "Decision tree Accuracy :  0.6354166666666666\n"
     ]
    }
   ],
   "source": [
    "from sklearn.metrics import accuracy_score\n",
    "\n",
    "ac_dt= accuracy_score(y_test,y_preddt)\n",
    "print ('Decision tree Accuracy : ', ac_dt)\n"
   ]
  },
  {
   "cell_type": "code",
   "execution_count": 23,
   "metadata": {},
   "outputs": [
    {
     "data": {
      "image/png": "[encoded data removed]",
      "text/plain": [
       "<Figure size 432x288 with 2 Axes>"
      ]
     },
     "metadata": {
      "needs_background": "light"
     },
     "output_type": "display_data"
    }
   ],
   "source": [
    "fig, ax = plt.subplots()\n",
    "visualizer = ClassificationReport(classifierdt, classes=[0, 1], ax=ax)\n",
    "ax.grid(False)\n",
    "\n",
    "visualizer.fit(X_train, y_train)  # Fit the training data to the visualizer\n",
    "visualizer.score(X_test, y_test)  # Evaluate the model on the test data\n",
    "g = visualizer.poof() "
   ]
  },
  {
   "cell_type": "code",
   "execution_count": 24,
   "metadata": {},
   "outputs": [
    {
     "data": {
      "text/plain": [
       "RandomForestClassifier(criterion='entropy', n_estimators=10, random_state=0)"
      ]
     },
     "execution_count": 24,
     "metadata": {},
     "output_type": "execute_result"
    }
   ],
   "source": [
    "from sklearn.ensemble import RandomForestClassifier\n",
    "classifierrf = RandomForestClassifier(n_estimators = 10, criterion = 'entropy', random_state = 0)\n",
    "classifierrf.fit(X_train, y_train)"
   ]
  },
  {
   "cell_type": "code",
   "execution_count": 25,
   "metadata": {},
   "outputs": [],
   "source": [
    "y_predrf = classifierrf.predict(X_test)\n"
   ]
  },
  {
   "cell_type": "code",
   "execution_count": 26,
   "metadata": {},
   "outputs": [
    {
     "name": "stdout",
     "output_type": "stream",
     "text": [
      "Random Forest Accuracy :  0.6770833333333334\n"
     ]
    }
   ],
   "source": [
    "from sklearn.metrics import accuracy_score\n",
    "\n",
    "ac_rf= accuracy_score(y_test,y_predrf)\n",
    "print ('Random Forest Accuracy : ', ac_rf)"
   ]
  },
  {
   "cell_type": "code",
   "execution_count": 28,
   "metadata": {},
   "outputs": [
    {
     "data": {
      "image/png": "[encoded data removed]",
      "text/plain": [
       "<Figure size 432x288 with 2 Axes>"
      ]
     },
     "metadata": {
      "needs_background": "light"
     },
     "output_type": "display_data"
    }
   ],
   "source": [
    "fig, ax = plt.subplots()\n",
    "visualizer = ClassificationReport(classifierrf, classes=[0, 1], ax=ax)\n",
    "ax.grid(False)\n",
    "\n",
    "visualizer.fit(X_train, y_train)  # Fit the training data to the visualizer\n",
    "visualizer.score(X_test, y_test)  # Evaluate the model on the test data\n",
    "g = visualizer.poof() "
   ]
  },
  {
   "cell_type": "code",
   "execution_count": 29,
   "metadata": {},
   "outputs": [
    {
     "data": {
      "text/plain": [
       "SVC(kernel='linear', random_state=0)"
      ]
     },
     "execution_count": 29,
     "metadata": {},
     "output_type": "execute_result"
    }
   ],
   "source": [
    "from sklearn.svm import SVC\n",
    "classifiersv = SVC(kernel = 'linear', random_state = 0)\n",
    "classifiersv.fit(X_train, y_train)\n"
   ]
  },
  {
   "cell_type": "code",
   "execution_count": 30,
   "metadata": {},
   "outputs": [],
   "source": [
    "y_predsv = classifiersv.predict(X_test)\n"
   ]
  },
  {
   "cell_type": "code",
   "execution_count": 31,
   "metadata": {},
   "outputs": [
    {
     "name": "stdout",
     "output_type": "stream",
     "text": [
      "SVM Accuracy :  0.7135416666666666\n"
     ]
    }
   ],
   "source": [
    "from sklearn.metrics import accuracy_score\n",
    "\n",
    "ac_svm= accuracy_score(y_test,y_predsv)\n",
    "print ('SVM Accuracy : ', ac_svm)"
   ]
  },
  {
   "cell_type": "code",
   "execution_count": 32,
   "metadata": {},
   "outputs": [
    {
     "data": {
      "image/png": "[encoded data removed]",
      "text/plain": [
       "<Figure size 432x288 with 2 Axes>"
      ]
     },
     "metadata": {
      "needs_background": "light"
     },
     "output_type": "display_data"
    }
   ],
   "source": [
    "fig, ax = plt.subplots()\n",
    "visualizer = ClassificationReport(classifiersv, classes=[0, 1], ax=ax)\n",
    "ax.grid(False)\n",
    "\n",
    "visualizer.fit(X_train, y_train)  # Fit the training data to the visualizer\n",
    "visualizer.score(X_test, y_test)  # Evaluate the model on the test data\n",
    "g = visualizer.poof() "
   ]
  },
  {
   "cell_type": "code",
   "execution_count": 33,
   "metadata": {},
   "outputs": [
    {
     "data": {
      "text/plain": [
       "XGBClassifier(base_score=0.5, booster='gbtree', colsample_bylevel=1,\n",
       "              colsample_bynode=1, colsample_bytree=1, gamma=0, gpu_id=-1,\n",
       "              importance_type='gain', interaction_constraints='',\n",
       "              learning_rate=0.300000012, max_delta_step=0, max_depth=6,\n",
       "              min_child_weight=1, missing=nan, monotone_constraints='()',\n",
       "              n_estimators=100, n_jobs=0, num_parallel_tree=1, random_state=0,\n",
       "              reg_alpha=0, reg_lambda=1, scale_pos_weight=1, subsample=1,\n",
       "              tree_method='exact', validate_parameters=1, verbosity=None)"
      ]
     },
     "execution_count": 33,
     "metadata": {},
     "output_type": "execute_result"
    }
   ],
   "source": [
    "from xgboost import XGBClassifier\n",
    "\n",
    "# fit model to training data\n",
    "xgb_model = XGBClassifier(random_state = 0 )\n",
    "xgb_model.fit(X_train, y_train)"
   ]
  },
  {
   "cell_type": "code",
   "execution_count": 34,
   "metadata": {},
   "outputs": [
    {
     "ename": "NameError",
     "evalue": "name 'f1_score' is not defined",
     "output_type": "error",
     "traceback": [
      "\u001b[1;31m---------------------------------------------------------------------------\u001b[0m",
      "\u001b[1;31mNameError\u001b[0m                                 Traceback (most recent call last)",
      "\u001b[1;32m<ipython-input-34-701a208fb611>\u001b[0m in \u001b[0;36m<module>\u001b[1;34m\u001b[0m\n\u001b[0;32m      2\u001b[0m \u001b[1;33m\u001b[0m\u001b[0m\n\u001b[0;32m      3\u001b[0m \u001b[0mxgb_ac\u001b[0m \u001b[1;33m=\u001b[0m \u001b[0maccuracy_score\u001b[0m\u001b[1;33m(\u001b[0m\u001b[0my_test\u001b[0m\u001b[1;33m,\u001b[0m \u001b[0my_predxgb\u001b[0m\u001b[1;33m)\u001b[0m\u001b[1;33m\u001b[0m\u001b[1;33m\u001b[0m\u001b[0m\n\u001b[1;32m----> 4\u001b[1;33m \u001b[0mxgb_fscore\u001b[0m \u001b[1;33m=\u001b[0m \u001b[0mf1_score\u001b[0m\u001b[1;33m(\u001b[0m\u001b[0my_test\u001b[0m \u001b[1;33m,\u001b[0m\u001b[0my_predxgb\u001b[0m\u001b[1;33m)\u001b[0m\u001b[1;33m\u001b[0m\u001b[1;33m\u001b[0m\u001b[0m\n\u001b[0m\u001b[0;32m      5\u001b[0m \u001b[1;33m\u001b[0m\u001b[0m\n\u001b[0;32m      6\u001b[0m \u001b[0mprint\u001b[0m\u001b[1;33m(\u001b[0m\u001b[1;34m\"XGB Baseline Model Accuracy:\"\u001b[0m\u001b[1;33m,\u001b[0m \u001b[0mxgb_ac\u001b[0m\u001b[1;33m)\u001b[0m\u001b[1;33m\u001b[0m\u001b[1;33m\u001b[0m\u001b[0m\n",
      "\u001b[1;31mNameError\u001b[0m: name 'f1_score' is not defined"
     ]
    }
   ],
   "source": [
    "y_predxgb = xgb_model.predict(X_test)\n",
    "\n",
    "xgb_ac = accuracy_score(y_test, y_predxgb)\n",
    "xgb_fscore = f1_score(y_test ,y_predxgb)\n",
    "\n",
    "print(\"XGB Baseline Model Accuracy:\", xgb_ac)\n",
    "print(\"XGB Baseline Model F1 Score:\", xgb_fscore)"
   ]
  },
  {
   "cell_type": "code",
   "execution_count": 35,
   "metadata": {},
   "outputs": [
    {
     "data": {
      "text/plain": [
       "GradientBoostingClassifier()"
      ]
     },
     "execution_count": 35,
     "metadata": {},
     "output_type": "execute_result"
    }
   ],
   "source": [
    "from sklearn.datasets import make_classification\n",
    "from sklearn.ensemble import GradientBoostingClassifier\n",
    "# define the model\n",
    "model = GradientBoostingClassifier()\n",
    "# fit the model on the whole dataset\n",
    "model.fit(X, y)\n"
   ]
  },
  {
   "cell_type": "code",
   "execution_count": 36,
   "metadata": {},
   "outputs": [
    {
     "name": "stdout",
     "output_type": "stream",
     "text": [
      "gradiant boost Accuracy :  0.8541666666666666\n"
     ]
    }
   ],
   "source": [
    "y_predgbm = model.predict(X_test)\n",
    "\n",
    "from sklearn.metrics import accuracy_score\n",
    "\n",
    "ac_gbm= accuracy_score(y_test,y_predgbm)\n",
    "print ('gradiant boost Accuracy : ', ac_gbm)"
   ]
  },
  {
   "cell_type": "code",
   "execution_count": 37,
   "metadata": {},
   "outputs": [
    {
     "data": {
      "image/png": "[encoded data removed]",
      "text/plain": [
       "<Figure size 432x288 with 2 Axes>"
      ]
     },
     "metadata": {
      "needs_background": "light"
     },
     "output_type": "display_data"
    }
   ],
   "source": [
    "fig, ax = plt.subplots()\n",
    "visualizer = ClassificationReport(model, classes=[0, 1], ax=ax)\n",
    "ax.grid(False)\n",
    "\n",
    "visualizer.fit(X_train, y_train)  # Fit the training data to the visualizer\n",
    "visualizer.score(X_test, y_test)  # Evaluate the model on the test data\n",
    "g = visualizer.poof() "
   ]
  },
  {
   "cell_type": "code",
   "execution_count": 125,
   "metadata": {},
   "outputs": [],
   "source": [
    "#confusion matrix for LR"
   ]
  },
  {
   "cell_type": "code",
   "execution_count": 126,
   "metadata": {},
   "outputs": [
    {
     "name": "stdout",
     "output_type": "stream",
     "text": [
      "[[118  12]\n",
      " [ 44  18]]\n"
     ]
    }
   ],
   "source": [
    "#first argument is the actual values and second argument is the predicted values\n",
    "print (metrics.confusion_matrix(y_test,y_pred_class))"
   ]
  },
  {
   "cell_type": "code",
   "execution_count": 127,
   "metadata": {},
   "outputs": [],
   "source": [
    "#confusion matrix for K_mean"
   ]
  },
  {
   "cell_type": "code",
   "execution_count": 128,
   "metadata": {},
   "outputs": [
    {
     "name": "stdout",
     "output_type": "stream",
     "text": [
      "[[103  27]\n",
      " [ 37  25]]\n"
     ]
    }
   ],
   "source": [
    "print (metrics.confusion_matrix(y_test,y_pred))"
   ]
  },
  {
   "cell_type": "code",
   "execution_count": 129,
   "metadata": {},
   "outputs": [],
   "source": [
    "# confusion matrix for Decision Tree"
   ]
  },
  {
   "cell_type": "code",
   "execution_count": 130,
   "metadata": {},
   "outputs": [
    {
     "name": "stdout",
     "output_type": "stream",
     "text": [
      "[[92 38]\n",
      " [32 30]]\n"
     ]
    }
   ],
   "source": [
    "print (metrics.confusion_matrix(y_test,y_preddt))\n"
   ]
  },
  {
   "cell_type": "code",
   "execution_count": 131,
   "metadata": {},
   "outputs": [],
   "source": [
    "# confusion matrix for Random forest"
   ]
  },
  {
   "cell_type": "code",
   "execution_count": 132,
   "metadata": {},
   "outputs": [
    {
     "name": "stdout",
     "output_type": "stream",
     "text": [
      "[[108  22]\n",
      " [ 40  22]]\n"
     ]
    }
   ],
   "source": [
    "print (metrics.confusion_matrix(y_test,y_predrf))\n"
   ]
  },
  {
   "cell_type": "code",
   "execution_count": 133,
   "metadata": {},
   "outputs": [],
   "source": [
    "# confusion matrix for SVM"
   ]
  },
  {
   "cell_type": "code",
   "execution_count": 134,
   "metadata": {},
   "outputs": [
    {
     "name": "stdout",
     "output_type": "stream",
     "text": [
      "[[117  13]\n",
      " [ 42  20]]\n"
     ]
    }
   ],
   "source": [
    "print (metrics.confusion_matrix(y_test,y_predsv))\n",
    "\n"
   ]
  },
  {
   "cell_type": "code",
   "execution_count": 135,
   "metadata": {},
   "outputs": [],
   "source": [
    "# confusion matrix for XGBOOST"
   ]
  },
  {
   "cell_type": "code",
   "execution_count": 136,
   "metadata": {},
   "outputs": [
    {
     "name": "stdout",
     "output_type": "stream",
     "text": [
      "[[105  25]\n",
      " [ 33  29]]\n"
     ]
    }
   ],
   "source": [
    "print (metrics.confusion_matrix(y_test,y_predxgb))\n",
    "\n"
   ]
  },
  {
   "cell_type": "code",
   "execution_count": 137,
   "metadata": {},
   "outputs": [],
   "source": [
    "# confusion matrix for Gradiant Boost Model"
   ]
  },
  {
   "cell_type": "code",
   "execution_count": 138,
   "metadata": {},
   "outputs": [
    {
     "name": "stdout",
     "output_type": "stream",
     "text": [
      "[[122   8]\n",
      " [ 20  42]]\n"
     ]
    }
   ],
   "source": [
    "print (metrics.confusion_matrix(y_test,y_predgbm))\n"
   ]
  },
  {
   "cell_type": "code",
   "execution_count": 139,
   "metadata": {},
   "outputs": [
    {
     "name": "stdout",
     "output_type": "stream",
     "text": [
      "True [1 0 0 1 0 0 1 1 0 0 1 1 0 0 0 0 1 0 0 0 1 1 0 0 0]\n",
      "pred [1 0 0 0 0 0 1 1 0 1 0 1 0 0 0 0 0 0 0 0 0 0 0 0 0]\n"
     ]
    }
   ],
   "source": [
    "# printing the first 25 actual and predicted responses in LR\n",
    "print ('True',y_test.values[0:25])\n",
    "print ('pred',y_pred_class[0:25])\n"
   ]
  },
  {
   "cell_type": "code",
   "execution_count": 140,
   "metadata": {},
   "outputs": [
    {
     "name": "stdout",
     "output_type": "stream",
     "text": [
      "True [1 0 0 1 0 0 1 1 0 0 1 1 0 0 0 0 1 0 0 0 1 1 0 0 0]\n",
      "pred [0 0 0 1 0 0 0 1 0 1 1 0 0 0 0 0 1 0 0 1 1 0 0 1 0]\n"
     ]
    }
   ],
   "source": [
    "# printing the first 25 actual and predicted responses in K_mean\n",
    "print ('True',y_test.values[0:25])\n",
    "print ('pred',y_pred[0:25])"
   ]
  },
  {
   "cell_type": "code",
   "execution_count": 141,
   "metadata": {},
   "outputs": [
    {
     "name": "stdout",
     "output_type": "stream",
     "text": [
      "True [1 0 0 1 0 0 1 1 0 0 1 1 0 0 0 0 1 0 0 0 1 1 0 0 0]\n",
      "pred [1 1 0 0 0 0 1 1 1 1 1 0 0 1 1 1 1 0 1 1 0 1 0 1 0]\n"
     ]
    }
   ],
   "source": [
    "# printing the first 25 actual and predicted responses in Decision Tree\n",
    "print ('True',y_test.values[0:25])\n",
    "print ('pred',y_preddt[0:25])"
   ]
  },
  {
   "cell_type": "code",
   "execution_count": 142,
   "metadata": {},
   "outputs": [
    {
     "name": "stdout",
     "output_type": "stream",
     "text": [
      "True [1 0 0 1 0 0 1 1 0 0 1 1 0 0 0 0 1 0 0 0 1 1 0 0 0]\n",
      "pred [0 0 0 0 0 0 1 0 0 1 0 1 0 0 1 1 1 0 1 0 0 0 0 1 0]\n"
     ]
    }
   ],
   "source": [
    "# printing the first 25 actual and predicted responses in Random Forest\n",
    "print ('True',y_test.values[0:25])\n",
    "print ('pred',y_predrf[0:25])"
   ]
  },
  {
   "cell_type": "code",
   "execution_count": 143,
   "metadata": {},
   "outputs": [
    {
     "name": "stdout",
     "output_type": "stream",
     "text": [
      "True [1 0 0 1 0 0 1 1 0 0 1 1 0 0 0 0 1 0 0 0 1 1 0 0 0]\n",
      "pred [1 0 0 0 0 0 1 1 0 1 0 1 0 0 0 0 0 0 0 0 1 0 0 0 0]\n"
     ]
    }
   ],
   "source": [
    "# printing the first 25 actual and predicted responses in SVM\n",
    "print ('True',y_test.values[0:25])\n",
    "print ('pred',y_predsv[0:25])"
   ]
  },
  {
   "cell_type": "code",
   "execution_count": 144,
   "metadata": {},
   "outputs": [
    {
     "name": "stdout",
     "output_type": "stream",
     "text": [
      "True [1 0 0 1 0 0 1 1 0 0 1 1 0 0 0 0 1 0 0 0 1 1 0 0 0]\n",
      "pred [1 0 0 0 0 0 1 1 0 1 0 1 0 0 1 1 1 0 1 0 0 0 0 1 0]\n"
     ]
    }
   ],
   "source": [
    "# printing the first 25 actual and predicted responses in XGBOOST\n",
    "print ('True',y_test.values[0:25])\n",
    "print ('pred',y_predxgb[0:25])"
   ]
  },
  {
   "cell_type": "code",
   "execution_count": 145,
   "metadata": {},
   "outputs": [
    {
     "name": "stdout",
     "output_type": "stream",
     "text": [
      "True [1 0 0 1 0 0 1 1 0 0 1 1 0 0 0 0 1 0 0 0 1 1 0 0 0]\n",
      "pred [1 0 0 1 0 0 1 1 0 0 1 1 0 0 1 0 1 0 0 0 1 1 0 1 0]\n"
     ]
    }
   ],
   "source": [
    "# printing the first 25 actual and predicted responses in GBM\n",
    "print ('True',y_test.values[0:25])\n",
    "print ('pred',y_predgbm[0:25])"
   ]
  },
  {
   "cell_type": "code",
   "execution_count": 146,
   "metadata": {},
   "outputs": [],
   "source": [
    "#save confusion matrix and slice into four pieces in LR\n",
    "from sklearn.metrics import confusion_matrix\n",
    "\n",
    "confusionlr=metrics.confusion_matrix(y_test,y_pred_class)\n",
    "TP=confusionlr[1,1]\n",
    "TN=confusionlr[0,0]\n",
    "FP=confusionlr[0,1]\n",
    "FN=confusionlr[1,0]"
   ]
  },
  {
   "cell_type": "raw",
   "metadata": {},
   "source": [
    "![large confusion matrix](images/09_confusion_matrix_2.png)"
   ]
  },
  {
   "cell_type": "markdown",
   "metadata": {},
   "source": [
    "# Sensitivity :When the actual value is positive, how often is the prediction correct?\n",
    "\n",
    "How \"sensitive\" is the classifier to detecting positive instances?\n",
    "Also known as \"True Positive Rate\" or \"Recall\""
   ]
  },
  {
   "cell_type": "code",
   "execution_count": 147,
   "metadata": {},
   "outputs": [
    {
     "name": "stdout",
     "output_type": "stream",
     "text": [
      "0.2903225806451613\n",
      "LR Sensitivity: 0.2903225806451613\n"
     ]
    }
   ],
   "source": [
    "#LR Sensitivity\n",
    "print(TP / float(TP + FN))\n",
    "print('LR Sensitivity:',metrics.recall_score(y_test, y_pred_class))"
   ]
  },
  {
   "cell_type": "code",
   "execution_count": 148,
   "metadata": {},
   "outputs": [],
   "source": [
    "#save confusion matrix and slice into four pieces in Kmeans\n",
    "from sklearn.metrics import confusion_matrix\n",
    "\n",
    "confusionkm=metrics.confusion_matrix(y_test,y_pred)\n",
    "TP1=confusionkm[1,1]\n",
    "TN1=confusionkm[0,0]\n",
    "FP1=confusionkm[0,1]\n",
    "FN1=confusionkm[1,0]"
   ]
  },
  {
   "cell_type": "code",
   "execution_count": 149,
   "metadata": {},
   "outputs": [
    {
     "name": "stdout",
     "output_type": "stream",
     "text": [
      "0.4032258064516129\n",
      "Kmeans Sensitivity: 0.4032258064516129\n"
     ]
    }
   ],
   "source": [
    "#Kmeans Sensitivity\n",
    "print(TP1 / float(TP1 + FN1))\n",
    "print('Kmeans Sensitivity:' ,metrics.recall_score(y_test, y_pred))"
   ]
  },
  {
   "cell_type": "code",
   "execution_count": 150,
   "metadata": {},
   "outputs": [],
   "source": [
    "#save confusion matrix and slice into four pieces in DT\n",
    "from sklearn.metrics import confusion_matrix\n",
    "\n",
    "confusiondt=metrics.confusion_matrix(y_test,y_preddt)\n",
    "TP2=confusiondt[1,1]\n",
    "TN2=confusiondt[0,0]\n",
    "FP2=confusiondt[0,1]\n",
    "FN2=confusiondt[1,0]"
   ]
  },
  {
   "cell_type": "code",
   "execution_count": 151,
   "metadata": {},
   "outputs": [
    {
     "name": "stdout",
     "output_type": "stream",
     "text": [
      "0.4838709677419355\n",
      "DT Sensitivity: 0.4838709677419355\n"
     ]
    }
   ],
   "source": [
    "#DT Sensitivity\n",
    "print(TP2 / float(TP2 + FN2))\n",
    "print('DT Sensitivity:' , metrics.recall_score(y_test, y_preddt))"
   ]
  },
  {
   "cell_type": "code",
   "execution_count": 152,
   "metadata": {},
   "outputs": [],
   "source": [
    "#save confusion matrix and slice into four pieces in RF\n",
    "from sklearn.metrics import confusion_matrix\n",
    "\n",
    "confusionrf=metrics.confusion_matrix(y_test,y_predrf)\n",
    "TP3=confusionrf[1,1]\n",
    "TN3=confusionrf[0,0]\n",
    "FP3=confusionrf[0,1]\n",
    "FN3=confusionrf[1,0]"
   ]
  },
  {
   "cell_type": "code",
   "execution_count": 153,
   "metadata": {},
   "outputs": [
    {
     "name": "stdout",
     "output_type": "stream",
     "text": [
      "0.3548387096774194\n",
      "RF Sensitivity: 0.3548387096774194\n"
     ]
    }
   ],
   "source": [
    "#RF Sensitivity\n",
    "print(TP3 / float(TP3 + FN3))\n",
    "print('RF Sensitivity:',metrics.recall_score(y_test, y_predrf))"
   ]
  },
  {
   "cell_type": "code",
   "execution_count": 154,
   "metadata": {},
   "outputs": [],
   "source": [
    "#save confusion matrix and slice into four pieces in XGBOOST\n",
    "from sklearn.metrics import confusion_matrix\n",
    "\n",
    "confusionxgb=metrics.confusion_matrix(y_test,y_predxgb)\n",
    "TP4=confusionxgb[1,1]\n",
    "TN4=confusionxgb[0,0]\n",
    "FP4=confusionxgb[0,1]\n",
    "FN4=confusionxgb[1,0]"
   ]
  },
  {
   "cell_type": "code",
   "execution_count": 155,
   "metadata": {},
   "outputs": [
    {
     "name": "stdout",
     "output_type": "stream",
     "text": [
      "0.46774193548387094\n",
      "XGB Sensitivity: 0.46774193548387094\n"
     ]
    }
   ],
   "source": [
    "#RF Sensitivity\n",
    "print(TP4 / float(TP4 + FN4))\n",
    "print('XGB Sensitivity:',metrics.recall_score(y_test, y_predxgb))"
   ]
  },
  {
   "cell_type": "code",
   "execution_count": 156,
   "metadata": {},
   "outputs": [],
   "source": [
    "#save confusion matrix and slice into four pieces in XGBOOST\n",
    "from sklearn.metrics import confusion_matrix\n",
    "\n",
    "confusiongbm=metrics.confusion_matrix(y_test,y_predgbm)\n",
    "TP5=confusiongbm[1,1]\n",
    "TN5=confusiongbm[0,0]\n",
    "FP5=confusiongbm[0,1]\n",
    "FN5=confusiongbm[1,0]"
   ]
  },
  {
   "cell_type": "code",
   "execution_count": 157,
   "metadata": {},
   "outputs": [
    {
     "name": "stdout",
     "output_type": "stream",
     "text": [
      "0.6774193548387096\n",
      "GBM Sensitivity: 0.6774193548387096\n"
     ]
    }
   ],
   "source": [
    "#GBM Sensitivity\n",
    "print(TP5 / float(TP5 + FN5))\n",
    "print('GBM Sensitivity:',metrics.recall_score(y_test, y_predgbm))"
   ]
  },
  {
   "cell_type": "code",
   "execution_count": 170,
   "metadata": {},
   "outputs": [],
   "source": [
    "#save confusion matrix and slice into four pieces in XGBOOST\n",
    "from sklearn.metrics import confusion_matrix\n",
    "\n",
    "confusionsv=metrics.confusion_matrix(y_test,y_predsv)\n",
    "TP6=confusionsv[1,1]\n",
    "TN6=confusionsv[0,0]\n",
    "FP6=confusionsv[0,1]\n",
    "FN6=confusionsv[1,0]"
   ]
  },
  {
   "cell_type": "code",
   "execution_count": 171,
   "metadata": {},
   "outputs": [
    {
     "name": "stdout",
     "output_type": "stream",
     "text": [
      "0.3225806451612903\n",
      "SVM Sensitivity: 0.3225806451612903\n"
     ]
    }
   ],
   "source": [
    "#SVM Sensitivity\n",
    "print(TP6 / float(TP6 + FN6))\n",
    "print('SVM Sensitivity:',metrics.recall_score(y_test, y_predsv))"
   ]
  },
  {
   "cell_type": "code",
   "execution_count": 172,
   "metadata": {},
   "outputs": [
    {
     "name": "stdout",
     "output_type": "stream",
     "text": [
      "LR SPECIFITY: 0.9076923076923077\n"
     ]
    }
   ],
   "source": [
    "print('LR SPECIFITY:',TN / float(TN + FP))\n"
   ]
  },
  {
   "cell_type": "code",
   "execution_count": 173,
   "metadata": {},
   "outputs": [
    {
     "name": "stdout",
     "output_type": "stream",
     "text": [
      "kmeans SPECIFITY: 0.7923076923076923\n"
     ]
    }
   ],
   "source": [
    "print('kmeans SPECIFITY:',TN1 / float(TN1 + FP1))\n"
   ]
  },
  {
   "cell_type": "code",
   "execution_count": 174,
   "metadata": {},
   "outputs": [
    {
     "name": "stdout",
     "output_type": "stream",
     "text": [
      "DT SPECIFITY: 0.7076923076923077\n"
     ]
    }
   ],
   "source": [
    "print('DT SPECIFITY:',TN2 / float(TN2 + FP2))\n"
   ]
  },
  {
   "cell_type": "code",
   "execution_count": 175,
   "metadata": {},
   "outputs": [
    {
     "name": "stdout",
     "output_type": "stream",
     "text": [
      "RF SPECIFITY: 0.8307692307692308\n"
     ]
    }
   ],
   "source": [
    "print('RF SPECIFITY:',TN3 / float(TN3 + FP3))\n"
   ]
  },
  {
   "cell_type": "code",
   "execution_count": 176,
   "metadata": {
    "scrolled": true
   },
   "outputs": [
    {
     "name": "stdout",
     "output_type": "stream",
     "text": [
      "XGBoost SPECIFITY: 0.8076923076923077\n"
     ]
    }
   ],
   "source": [
    "print('XGBoost SPECIFITY:',TN4 / float(TN4 + FP4))\n"
   ]
  },
  {
   "cell_type": "code",
   "execution_count": 177,
   "metadata": {},
   "outputs": [
    {
     "name": "stdout",
     "output_type": "stream",
     "text": [
      "GBM SPECIFITY: 0.9384615384615385\n"
     ]
    }
   ],
   "source": [
    "print('GBM SPECIFITY:',TN5 / float(TN5 + FP5))\n"
   ]
  },
  {
   "cell_type": "code",
   "execution_count": 178,
   "metadata": {},
   "outputs": [
    {
     "name": "stdout",
     "output_type": "stream",
     "text": [
      "SVM SPECIFITY: 0.9\n"
     ]
    }
   ],
   "source": [
    "print('SVM SPECIFITY:',TN6 / float(TN6 + FP6))\n"
   ]
  },
  {
   "cell_type": "code",
   "execution_count": 179,
   "metadata": {},
   "outputs": [],
   "source": [
    "# store the predicted probabilities for class 1\n",
    "y_pred_prob = logreg.predict_proba(X_test)[:, 1]"
   ]
  },
  {
   "cell_type": "code",
   "execution_count": 180,
   "metadata": {},
   "outputs": [],
   "source": [
    "# store the predicted probabilities for class 1\n",
    "y_pred_prob1 = classifier.predict_proba(X_test)[:, 1]"
   ]
  },
  {
   "cell_type": "code",
   "execution_count": 181,
   "metadata": {},
   "outputs": [],
   "source": [
    "# store the predicted probabilities for class 1\n",
    "y_pred_prob2 = classifierdt.predict_proba(X_test)[:, 1]"
   ]
  },
  {
   "cell_type": "code",
   "execution_count": 182,
   "metadata": {},
   "outputs": [],
   "source": [
    "# store the predicted probabilities for class 1\n",
    "y_pred_prob3 = classifierrf.predict_proba(X_test)[:, 1]"
   ]
  },
  {
   "cell_type": "code",
   "execution_count": 183,
   "metadata": {},
   "outputs": [],
   "source": [
    "# store the predicted probabilities for class 1\n",
    "y_pred_prob4 = xgb_model.predict_proba(X_test)[:, 1]"
   ]
  },
  {
   "cell_type": "code",
   "execution_count": 185,
   "metadata": {},
   "outputs": [
    {
     "name": "stdout",
     "output_type": "stream",
     "text": [
      "[0]\tvalidation_0-logloss:0.68959\n",
      "[1]\tvalidation_0-logloss:0.68601\n",
      "[2]\tvalidation_0-logloss:0.68261\n",
      "[3]\tvalidation_0-logloss:0.67762\n",
      "[4]\tvalidation_0-logloss:0.67387\n",
      "[5]\tvalidation_0-logloss:0.67044\n",
      "[6]\tvalidation_0-logloss:0.66753\n",
      "[7]\tvalidation_0-logloss:0.66313\n",
      "[8]\tvalidation_0-logloss:0.66011\n",
      "[9]\tvalidation_0-logloss:0.65677\n",
      "[10]\tvalidation_0-logloss:0.65268\n",
      "[11]\tvalidation_0-logloss:0.64966\n",
      "[12]\tvalidation_0-logloss:0.64674\n",
      "[13]\tvalidation_0-logloss:0.64296\n",
      "[14]\tvalidation_0-logloss:0.63941\n",
      "[15]\tvalidation_0-logloss:0.63592\n",
      "[16]\tvalidation_0-logloss:0.63296\n",
      "[17]\tvalidation_0-logloss:0.63042\n",
      "[18]\tvalidation_0-logloss:0.62830\n",
      "[19]\tvalidation_0-logloss:0.62666\n",
      "[20]\tvalidation_0-logloss:0.62475\n",
      "[21]\tvalidation_0-logloss:0.62183\n",
      "[22]\tvalidation_0-logloss:0.61964\n",
      "[23]\tvalidation_0-logloss:0.61727\n",
      "[24]\tvalidation_0-logloss:0.61535\n",
      "[25]\tvalidation_0-logloss:0.61316\n",
      "[26]\tvalidation_0-logloss:0.61127\n",
      "[27]\tvalidation_0-logloss:0.61005\n",
      "[28]\tvalidation_0-logloss:0.60924\n",
      "[29]\tvalidation_0-logloss:0.60782\n",
      "[30]\tvalidation_0-logloss:0.60619\n",
      "[31]\tvalidation_0-logloss:0.60481\n",
      "[32]\tvalidation_0-logloss:0.60424\n",
      "[33]\tvalidation_0-logloss:0.60266\n",
      "[34]\tvalidation_0-logloss:0.60174\n",
      "[35]\tvalidation_0-logloss:0.60010\n",
      "[36]\tvalidation_0-logloss:0.59864\n",
      "[37]\tvalidation_0-logloss:0.59745\n",
      "[38]\tvalidation_0-logloss:0.59614\n",
      "[39]\tvalidation_0-logloss:0.59491\n",
      "[40]\tvalidation_0-logloss:0.59352\n",
      "[41]\tvalidation_0-logloss:0.59171\n",
      "[42]\tvalidation_0-logloss:0.59086\n",
      "[43]\tvalidation_0-logloss:0.58957\n",
      "[44]\tvalidation_0-logloss:0.58917\n",
      "[45]\tvalidation_0-logloss:0.58808\n",
      "[46]\tvalidation_0-logloss:0.58811\n",
      "[47]\tvalidation_0-logloss:0.58782\n",
      "[48]\tvalidation_0-logloss:0.58703\n",
      "[49]\tvalidation_0-logloss:0.58630\n",
      "[50]\tvalidation_0-logloss:0.58542\n",
      "[51]\tvalidation_0-logloss:0.58510\n",
      "[52]\tvalidation_0-logloss:0.58432\n",
      "[53]\tvalidation_0-logloss:0.58376\n",
      "[54]\tvalidation_0-logloss:0.58307\n",
      "[55]\tvalidation_0-logloss:0.58281\n",
      "[56]\tvalidation_0-logloss:0.58294\n",
      "[57]\tvalidation_0-logloss:0.58239\n",
      "[58]\tvalidation_0-logloss:0.58223\n",
      "[59]\tvalidation_0-logloss:0.58197\n",
      "[60]\tvalidation_0-logloss:0.58170\n",
      "[61]\tvalidation_0-logloss:0.58153\n",
      "[62]\tvalidation_0-logloss:0.58144\n",
      "[63]\tvalidation_0-logloss:0.58102\n",
      "[64]\tvalidation_0-logloss:0.58117\n",
      "[65]\tvalidation_0-logloss:0.58072\n",
      "[66]\tvalidation_0-logloss:0.58069\n",
      "[67]\tvalidation_0-logloss:0.58070\n",
      "[68]\tvalidation_0-logloss:0.58055\n",
      "[69]\tvalidation_0-logloss:0.58059\n",
      "[70]\tvalidation_0-logloss:0.58048\n",
      "[71]\tvalidation_0-logloss:0.58078\n",
      "[72]\tvalidation_0-logloss:0.58106\n",
      "[73]\tvalidation_0-logloss:0.58135\n",
      "[74]\tvalidation_0-logloss:0.58105\n",
      "[75]\tvalidation_0-logloss:0.58115\n",
      "[76]\tvalidation_0-logloss:0.58146\n",
      "[77]\tvalidation_0-logloss:0.58155\n",
      "[78]\tvalidation_0-logloss:0.58188\n",
      "[79]\tvalidation_0-logloss:0.58169\n",
      "[80]\tvalidation_0-logloss:0.58161\n",
      "[81]\tvalidation_0-logloss:0.58148\n",
      "[82]\tvalidation_0-logloss:0.58099\n",
      "[83]\tvalidation_0-logloss:0.58094\n",
      "[84]\tvalidation_0-logloss:0.58094\n",
      "[85]\tvalidation_0-logloss:0.58127\n",
      "[86]\tvalidation_0-logloss:0.58152\n",
      "[87]\tvalidation_0-logloss:0.58150\n",
      "[88]\tvalidation_0-logloss:0.58108\n",
      "[89]\tvalidation_0-logloss:0.58077\n",
      "[90]\tvalidation_0-logloss:0.58067\n",
      "[91]\tvalidation_0-logloss:0.58036\n",
      "[92]\tvalidation_0-logloss:0.58023\n",
      "[93]\tvalidation_0-logloss:0.58032\n",
      "[94]\tvalidation_0-logloss:0.58011\n",
      "[95]\tvalidation_0-logloss:0.58004\n",
      "[96]\tvalidation_0-logloss:0.58020\n",
      "[97]\tvalidation_0-logloss:0.58021\n",
      "[98]\tvalidation_0-logloss:0.58030\n",
      "[99]\tvalidation_0-logloss:0.58002\n",
      "[100]\tvalidation_0-logloss:0.57971\n",
      "[101]\tvalidation_0-logloss:0.57942\n",
      "[102]\tvalidation_0-logloss:0.57954\n",
      "[103]\tvalidation_0-logloss:0.57946\n",
      "[104]\tvalidation_0-logloss:0.57939\n",
      "[105]\tvalidation_0-logloss:0.57913\n",
      "[106]\tvalidation_0-logloss:0.57890\n",
      "[107]\tvalidation_0-logloss:0.57917\n",
      "[108]\tvalidation_0-logloss:0.57916\n",
      "[109]\tvalidation_0-logloss:0.57922\n",
      "[110]\tvalidation_0-logloss:0.57957\n",
      "[111]\tvalidation_0-logloss:0.57929\n",
      "[112]\tvalidation_0-logloss:0.57961\n",
      "[113]\tvalidation_0-logloss:0.57942\n",
      "[114]\tvalidation_0-logloss:0.57940\n",
      "[115]\tvalidation_0-logloss:0.57940\n",
      "[116]\tvalidation_0-logloss:0.57909\n",
      "[117]\tvalidation_0-logloss:0.57894\n",
      "[118]\tvalidation_0-logloss:0.57896\n",
      "[119]\tvalidation_0-logloss:0.57895\n",
      "[120]\tvalidation_0-logloss:0.57883\n",
      "[121]\tvalidation_0-logloss:0.57895\n",
      "[122]\tvalidation_0-logloss:0.57877\n",
      "[123]\tvalidation_0-logloss:0.57875\n",
      "[124]\tvalidation_0-logloss:0.57924\n",
      "[125]\tvalidation_0-logloss:0.57916\n",
      "[126]\tvalidation_0-logloss:0.57967\n",
      "[127]\tvalidation_0-logloss:0.57946\n",
      "[128]\tvalidation_0-logloss:0.57946\n",
      "[129]\tvalidation_0-logloss:0.57937\n",
      "[130]\tvalidation_0-logloss:0.57978\n",
      "[131]\tvalidation_0-logloss:0.57994\n",
      "[132]\tvalidation_0-logloss:0.57977\n",
      "[133]\tvalidation_0-logloss:0.58008\n",
      "[134]\tvalidation_0-logloss:0.58040\n",
      "[135]\tvalidation_0-logloss:0.58058\n",
      "[136]\tvalidation_0-logloss:0.58041\n",
      "[137]\tvalidation_0-logloss:0.58073\n",
      "[138]\tvalidation_0-logloss:0.58068\n",
      "[139]\tvalidation_0-logloss:0.58059\n",
      "[140]\tvalidation_0-logloss:0.58100\n",
      "[141]\tvalidation_0-logloss:0.58100\n",
      "[142]\tvalidation_0-logloss:0.58149\n",
      "[143]\tvalidation_0-logloss:0.58172\n",
      "[144]\tvalidation_0-logloss:0.58211\n",
      "[145]\tvalidation_0-logloss:0.58213\n",
      "[146]\tvalidation_0-logloss:0.58219\n",
      "[147]\tvalidation_0-logloss:0.58257\n",
      "[148]\tvalidation_0-logloss:0.58296\n",
      "[149]\tvalidation_0-logloss:0.58338\n",
      "[150]\tvalidation_0-logloss:0.58347\n",
      "[151]\tvalidation_0-logloss:0.58387\n",
      "[152]\tvalidation_0-logloss:0.58444\n",
      "[153]\tvalidation_0-logloss:0.58484\n",
      "[154]\tvalidation_0-logloss:0.58562\n",
      "[155]\tvalidation_0-logloss:0.58641\n",
      "[156]\tvalidation_0-logloss:0.58654\n",
      "[157]\tvalidation_0-logloss:0.58727\n",
      "[158]\tvalidation_0-logloss:0.58716\n",
      "[159]\tvalidation_0-logloss:0.58762\n",
      "[160]\tvalidation_0-logloss:0.58795\n",
      "[161]\tvalidation_0-logloss:0.58827\n",
      "[162]\tvalidation_0-logloss:0.58882\n",
      "[163]\tvalidation_0-logloss:0.58937\n",
      "[164]\tvalidation_0-logloss:0.58973\n",
      "[165]\tvalidation_0-logloss:0.59016\n",
      "[166]\tvalidation_0-logloss:0.59059\n",
      "[167]\tvalidation_0-logloss:0.59045\n",
      "[168]\tvalidation_0-logloss:0.59058\n",
      "[169]\tvalidation_0-logloss:0.59056\n",
      "[170]\tvalidation_0-logloss:0.59074\n",
      "[171]\tvalidation_0-logloss:0.59107\n",
      "[172]\tvalidation_0-logloss:0.59140\n",
      "[173]\tvalidation_0-logloss:0.59178\n",
      "[174]\tvalidation_0-logloss:0.59229\n",
      "[175]\tvalidation_0-logloss:0.59249\n",
      "[176]\tvalidation_0-logloss:0.59285\n",
      "[177]\tvalidation_0-logloss:0.59291\n",
      "[178]\tvalidation_0-logloss:0.59305\n",
      "[179]\tvalidation_0-logloss:0.59343\n",
      "[180]\tvalidation_0-logloss:0.59352\n",
      "[181]\tvalidation_0-logloss:0.59395\n",
      "[182]\tvalidation_0-logloss:0.59382\n",
      "[183]\tvalidation_0-logloss:0.59417\n",
      "[184]\tvalidation_0-logloss:0.59450\n",
      "[185]\tvalidation_0-logloss:0.59459\n",
      "[186]\tvalidation_0-logloss:0.59498\n",
      "[187]\tvalidation_0-logloss:0.59532\n",
      "[188]\tvalidation_0-logloss:0.59538\n",
      "[189]\tvalidation_0-logloss:0.59551\n",
      "[190]\tvalidation_0-logloss:0.59602\n",
      "[191]\tvalidation_0-logloss:0.59619\n",
      "[192]\tvalidation_0-logloss:0.59606\n",
      "[193]\tvalidation_0-logloss:0.59645\n",
      "[194]\tvalidation_0-logloss:0.59663\n",
      "[195]\tvalidation_0-logloss:0.59644\n",
      "[196]\tvalidation_0-logloss:0.59663\n",
      "[197]\tvalidation_0-logloss:0.59703\n",
      "[198]\tvalidation_0-logloss:0.59740\n",
      "[199]\tvalidation_0-logloss:0.59758\n",
      "[200]\tvalidation_0-logloss:0.59799\n",
      "[201]\tvalidation_0-logloss:0.59835\n",
      "[202]\tvalidation_0-logloss:0.59866\n",
      "[203]\tvalidation_0-logloss:0.59935\n",
      "[204]\tvalidation_0-logloss:0.59974\n",
      "[205]\tvalidation_0-logloss:0.60010\n",
      "[206]\tvalidation_0-logloss:0.60043\n",
      "[207]\tvalidation_0-logloss:0.60093\n",
      "[208]\tvalidation_0-logloss:0.60126\n",
      "[209]\tvalidation_0-logloss:0.60202\n",
      "[210]\tvalidation_0-logloss:0.60215\n",
      "[211]\tvalidation_0-logloss:0.60240\n",
      "[212]\tvalidation_0-logloss:0.60289\n",
      "[213]\tvalidation_0-logloss:0.60328\n",
      "[214]\tvalidation_0-logloss:0.60366\n",
      "[215]\tvalidation_0-logloss:0.60397\n",
      "[216]\tvalidation_0-logloss:0.60441\n",
      "[217]\tvalidation_0-logloss:0.60522\n",
      "[218]\tvalidation_0-logloss:0.60597\n",
      "[219]\tvalidation_0-logloss:0.60623\n",
      "[220]\tvalidation_0-logloss:0.60659\n",
      "[221]\tvalidation_0-logloss:0.60721\n",
      "[222]\tvalidation_0-logloss:0.60742\n",
      "[223]\tvalidation_0-logloss:0.60767\n",
      "[224]\tvalidation_0-logloss:0.60773\n",
      "[225]\tvalidation_0-logloss:0.60779\n",
      "[226]\tvalidation_0-logloss:0.60787\n",
      "[227]\tvalidation_0-logloss:0.60831\n",
      "[228]\tvalidation_0-logloss:0.60837\n",
      "[229]\tvalidation_0-logloss:0.60821\n",
      "[230]\tvalidation_0-logloss:0.60883\n",
      "[231]\tvalidation_0-logloss:0.60927\n",
      "[232]\tvalidation_0-logloss:0.60935\n",
      "[233]\tvalidation_0-logloss:0.60972\n",
      "[234]\tvalidation_0-logloss:0.61035\n",
      "[235]\tvalidation_0-logloss:0.61099\n",
      "[236]\tvalidation_0-logloss:0.61084\n",
      "[237]\tvalidation_0-logloss:0.61107\n"
     ]
    },
    {
     "name": "stdout",
     "output_type": "stream",
     "text": [
      "[238]\tvalidation_0-logloss:0.61123\n",
      "[239]\tvalidation_0-logloss:0.61109\n",
      "[240]\tvalidation_0-logloss:0.61132\n",
      "[241]\tvalidation_0-logloss:0.61125\n",
      "[242]\tvalidation_0-logloss:0.61108\n",
      "[243]\tvalidation_0-logloss:0.61162\n",
      "[244]\tvalidation_0-logloss:0.61186\n",
      "[245]\tvalidation_0-logloss:0.61216\n",
      "[246]\tvalidation_0-logloss:0.61246\n",
      "[247]\tvalidation_0-logloss:0.61290\n",
      "[248]\tvalidation_0-logloss:0.61323\n",
      "[249]\tvalidation_0-logloss:0.61356\n",
      "[250]\tvalidation_0-logloss:0.61391\n",
      "[251]\tvalidation_0-logloss:0.61416\n",
      "[252]\tvalidation_0-logloss:0.61434\n",
      "[253]\tvalidation_0-logloss:0.61488\n",
      "[254]\tvalidation_0-logloss:0.61549\n",
      "[255]\tvalidation_0-logloss:0.61583\n",
      "[256]\tvalidation_0-logloss:0.61575\n",
      "[257]\tvalidation_0-logloss:0.61562\n",
      "[258]\tvalidation_0-logloss:0.61588\n",
      "[259]\tvalidation_0-logloss:0.61576\n",
      "[260]\tvalidation_0-logloss:0.61628\n",
      "[261]\tvalidation_0-logloss:0.61617\n",
      "[262]\tvalidation_0-logloss:0.61629\n",
      "[263]\tvalidation_0-logloss:0.61692\n",
      "[264]\tvalidation_0-logloss:0.61699\n",
      "[265]\tvalidation_0-logloss:0.61752\n",
      "[266]\tvalidation_0-logloss:0.61798\n",
      "[267]\tvalidation_0-logloss:0.61787\n",
      "[268]\tvalidation_0-logloss:0.61828\n",
      "[269]\tvalidation_0-logloss:0.61850\n",
      "[270]\tvalidation_0-logloss:0.61906\n",
      "[271]\tvalidation_0-logloss:0.61897\n",
      "[272]\tvalidation_0-logloss:0.61886\n",
      "[273]\tvalidation_0-logloss:0.61916\n",
      "[274]\tvalidation_0-logloss:0.61945\n",
      "[275]\tvalidation_0-logloss:0.62029\n",
      "[276]\tvalidation_0-logloss:0.62035\n",
      "[277]\tvalidation_0-logloss:0.62031\n",
      "[278]\tvalidation_0-logloss:0.62072\n",
      "[279]\tvalidation_0-logloss:0.62083\n",
      "[280]\tvalidation_0-logloss:0.62098\n",
      "[281]\tvalidation_0-logloss:0.62094\n",
      "[282]\tvalidation_0-logloss:0.62098\n",
      "[283]\tvalidation_0-logloss:0.62142\n",
      "[284]\tvalidation_0-logloss:0.62140\n",
      "[285]\tvalidation_0-logloss:0.62136\n",
      "[286]\tvalidation_0-logloss:0.62150\n",
      "[287]\tvalidation_0-logloss:0.62147\n",
      "[288]\tvalidation_0-logloss:0.62211\n",
      "[289]\tvalidation_0-logloss:0.62234\n",
      "[290]\tvalidation_0-logloss:0.62258\n",
      "[291]\tvalidation_0-logloss:0.62302\n",
      "[292]\tvalidation_0-logloss:0.62372\n",
      "[293]\tvalidation_0-logloss:0.62444\n",
      "[294]\tvalidation_0-logloss:0.62442\n",
      "[295]\tvalidation_0-logloss:0.62435\n",
      "[296]\tvalidation_0-logloss:0.62434\n",
      "[297]\tvalidation_0-logloss:0.62460\n",
      "[298]\tvalidation_0-logloss:0.62494\n",
      "[299]\tvalidation_0-logloss:0.62510\n",
      "[300]\tvalidation_0-logloss:0.62591\n",
      "[301]\tvalidation_0-logloss:0.62585\n",
      "[302]\tvalidation_0-logloss:0.62663\n",
      "[303]\tvalidation_0-logloss:0.62737\n",
      "[304]\tvalidation_0-logloss:0.62821\n",
      "[305]\tvalidation_0-logloss:0.62833\n",
      "[306]\tvalidation_0-logloss:0.62825\n",
      "[307]\tvalidation_0-logloss:0.62858\n",
      "[308]\tvalidation_0-logloss:0.62926\n",
      "[309]\tvalidation_0-logloss:0.62904\n",
      "[310]\tvalidation_0-logloss:0.62917\n",
      "[311]\tvalidation_0-logloss:0.62972\n",
      "[312]\tvalidation_0-logloss:0.63036\n",
      "[313]\tvalidation_0-logloss:0.63088\n",
      "[314]\tvalidation_0-logloss:0.63102\n",
      "[315]\tvalidation_0-logloss:0.63131\n",
      "[316]\tvalidation_0-logloss:0.63187\n",
      "[317]\tvalidation_0-logloss:0.63179\n",
      "[318]\tvalidation_0-logloss:0.63240\n",
      "[319]\tvalidation_0-logloss:0.63311\n",
      "[320]\tvalidation_0-logloss:0.63320\n",
      "[321]\tvalidation_0-logloss:0.63307\n",
      "[322]\tvalidation_0-logloss:0.63347\n",
      "[323]\tvalidation_0-logloss:0.63362\n",
      "[324]\tvalidation_0-logloss:0.63378\n",
      "[325]\tvalidation_0-logloss:0.63394\n",
      "[326]\tvalidation_0-logloss:0.63388\n",
      "[327]\tvalidation_0-logloss:0.63403\n",
      "[328]\tvalidation_0-logloss:0.63472\n",
      "[329]\tvalidation_0-logloss:0.63472\n",
      "[330]\tvalidation_0-logloss:0.63488\n",
      "[331]\tvalidation_0-logloss:0.63504\n",
      "[332]\tvalidation_0-logloss:0.63521\n",
      "[333]\tvalidation_0-logloss:0.63565\n",
      "[334]\tvalidation_0-logloss:0.63585\n",
      "[335]\tvalidation_0-logloss:0.63647\n",
      "[336]\tvalidation_0-logloss:0.63699\n",
      "[337]\tvalidation_0-logloss:0.63727\n",
      "[338]\tvalidation_0-logloss:0.63773\n",
      "[339]\tvalidation_0-logloss:0.63785\n",
      "[340]\tvalidation_0-logloss:0.63758\n",
      "[341]\tvalidation_0-logloss:0.63772\n",
      "[342]\tvalidation_0-logloss:0.63788\n",
      "[343]\tvalidation_0-logloss:0.63808\n",
      "[344]\tvalidation_0-logloss:0.63829\n",
      "[345]\tvalidation_0-logloss:0.63887\n",
      "[346]\tvalidation_0-logloss:0.63902\n",
      "[347]\tvalidation_0-logloss:0.63930\n",
      "[348]\tvalidation_0-logloss:0.63965\n",
      "[349]\tvalidation_0-logloss:0.63985\n",
      "[350]\tvalidation_0-logloss:0.63972\n",
      "[351]\tvalidation_0-logloss:0.63992\n",
      "[352]\tvalidation_0-logloss:0.64028\n",
      "[353]\tvalidation_0-logloss:0.64044\n",
      "[354]\tvalidation_0-logloss:0.64089\n",
      "[355]\tvalidation_0-logloss:0.64088\n",
      "[356]\tvalidation_0-logloss:0.64134\n",
      "[357]\tvalidation_0-logloss:0.64153\n",
      "[358]\tvalidation_0-logloss:0.64190\n",
      "[359]\tvalidation_0-logloss:0.64192\n",
      "[360]\tvalidation_0-logloss:0.64214\n",
      "[361]\tvalidation_0-logloss:0.64257\n",
      "[362]\tvalidation_0-logloss:0.64288\n",
      "[363]\tvalidation_0-logloss:0.64343\n",
      "[364]\tvalidation_0-logloss:0.64344\n",
      "[365]\tvalidation_0-logloss:0.64375\n",
      "[366]\tvalidation_0-logloss:0.64391\n",
      "[367]\tvalidation_0-logloss:0.64440\n",
      "[368]\tvalidation_0-logloss:0.64465\n",
      "[369]\tvalidation_0-logloss:0.64499\n",
      "[370]\tvalidation_0-logloss:0.64498\n",
      "[371]\tvalidation_0-logloss:0.64533\n",
      "[372]\tvalidation_0-logloss:0.64526\n",
      "[373]\tvalidation_0-logloss:0.64557\n",
      "[374]\tvalidation_0-logloss:0.64565\n",
      "[375]\tvalidation_0-logloss:0.64587\n",
      "[376]\tvalidation_0-logloss:0.64580\n",
      "[377]\tvalidation_0-logloss:0.64574\n",
      "[378]\tvalidation_0-logloss:0.64627\n",
      "[379]\tvalidation_0-logloss:0.64628\n",
      "[380]\tvalidation_0-logloss:0.64647\n",
      "[381]\tvalidation_0-logloss:0.64653\n",
      "[382]\tvalidation_0-logloss:0.64651\n",
      "[383]\tvalidation_0-logloss:0.64660\n",
      "[384]\tvalidation_0-logloss:0.64687\n",
      "[385]\tvalidation_0-logloss:0.64703\n",
      "[386]\tvalidation_0-logloss:0.64675\n",
      "[387]\tvalidation_0-logloss:0.64704\n",
      "[388]\tvalidation_0-logloss:0.64753\n",
      "[389]\tvalidation_0-logloss:0.64751\n",
      "[390]\tvalidation_0-logloss:0.64738\n",
      "[391]\tvalidation_0-logloss:0.64786\n",
      "[392]\tvalidation_0-logloss:0.64799\n",
      "[393]\tvalidation_0-logloss:0.64860\n",
      "[394]\tvalidation_0-logloss:0.64908\n",
      "[395]\tvalidation_0-logloss:0.64920\n",
      "[396]\tvalidation_0-logloss:0.64922\n",
      "[397]\tvalidation_0-logloss:0.64926\n",
      "[398]\tvalidation_0-logloss:0.64967\n",
      "[399]\tvalidation_0-logloss:0.64979\n",
      "[400]\tvalidation_0-logloss:0.65012\n",
      "[401]\tvalidation_0-logloss:0.65031\n",
      "[402]\tvalidation_0-logloss:0.65034\n",
      "[403]\tvalidation_0-logloss:0.65031\n",
      "[404]\tvalidation_0-logloss:0.65050\n",
      "[405]\tvalidation_0-logloss:0.65082\n",
      "[406]\tvalidation_0-logloss:0.65094\n",
      "[407]\tvalidation_0-logloss:0.65084\n",
      "[408]\tvalidation_0-logloss:0.65140\n",
      "[409]\tvalidation_0-logloss:0.65151\n",
      "[410]\tvalidation_0-logloss:0.65166\n",
      "[411]\tvalidation_0-logloss:0.65187\n",
      "[412]\tvalidation_0-logloss:0.65217\n",
      "[413]\tvalidation_0-logloss:0.65237\n",
      "[414]\tvalidation_0-logloss:0.65252\n",
      "[415]\tvalidation_0-logloss:0.65262\n",
      "[416]\tvalidation_0-logloss:0.65292\n",
      "[417]\tvalidation_0-logloss:0.65322\n",
      "[418]\tvalidation_0-logloss:0.65348\n",
      "[419]\tvalidation_0-logloss:0.65377\n",
      "[420]\tvalidation_0-logloss:0.65403\n",
      "[421]\tvalidation_0-logloss:0.65402\n",
      "[422]\tvalidation_0-logloss:0.65436\n",
      "[423]\tvalidation_0-logloss:0.65462\n",
      "[424]\tvalidation_0-logloss:0.65484\n",
      "[425]\tvalidation_0-logloss:0.65511\n",
      "[426]\tvalidation_0-logloss:0.65540\n",
      "[427]\tvalidation_0-logloss:0.65549\n",
      "[428]\tvalidation_0-logloss:0.65548\n",
      "[429]\tvalidation_0-logloss:0.65578\n",
      "[430]\tvalidation_0-logloss:0.65557\n",
      "[431]\tvalidation_0-logloss:0.65567\n",
      "[432]\tvalidation_0-logloss:0.65589\n",
      "[433]\tvalidation_0-logloss:0.65573\n",
      "[434]\tvalidation_0-logloss:0.65583\n",
      "[435]\tvalidation_0-logloss:0.65578\n",
      "[436]\tvalidation_0-logloss:0.65586\n",
      "[437]\tvalidation_0-logloss:0.65640\n",
      "[438]\tvalidation_0-logloss:0.65652\n",
      "[439]\tvalidation_0-logloss:0.65668\n",
      "[440]\tvalidation_0-logloss:0.65680\n",
      "[441]\tvalidation_0-logloss:0.65718\n",
      "[442]\tvalidation_0-logloss:0.65727\n",
      "[443]\tvalidation_0-logloss:0.65747\n",
      "[444]\tvalidation_0-logloss:0.65786\n",
      "[445]\tvalidation_0-logloss:0.65780\n",
      "[446]\tvalidation_0-logloss:0.65819\n",
      "[447]\tvalidation_0-logloss:0.65853\n",
      "[448]\tvalidation_0-logloss:0.65871\n",
      "[449]\tvalidation_0-logloss:0.65929\n",
      "[450]\tvalidation_0-logloss:0.65958\n",
      "[451]\tvalidation_0-logloss:0.65970\n",
      "[452]\tvalidation_0-logloss:0.65991\n",
      "[453]\tvalidation_0-logloss:0.65975\n",
      "[454]\tvalidation_0-logloss:0.65992\n",
      "[455]\tvalidation_0-logloss:0.66002\n",
      "[456]\tvalidation_0-logloss:0.66023\n",
      "[457]\tvalidation_0-logloss:0.66008\n",
      "[458]\tvalidation_0-logloss:0.66058\n",
      "[459]\tvalidation_0-logloss:0.66097\n",
      "[460]\tvalidation_0-logloss:0.66076\n",
      "[461]\tvalidation_0-logloss:0.66092\n",
      "[462]\tvalidation_0-logloss:0.66101\n",
      "[463]\tvalidation_0-logloss:0.66102\n",
      "[464]\tvalidation_0-logloss:0.66114\n",
      "[465]\tvalidation_0-logloss:0.66106\n",
      "[466]\tvalidation_0-logloss:0.66099\n",
      "[467]\tvalidation_0-logloss:0.66112\n",
      "[468]\tvalidation_0-logloss:0.66111\n",
      "[469]\tvalidation_0-logloss:0.66128\n",
      "[470]\tvalidation_0-logloss:0.66136\n",
      "[471]\tvalidation_0-logloss:0.66185\n",
      "[472]\tvalidation_0-logloss:0.66204\n"
     ]
    },
    {
     "name": "stdout",
     "output_type": "stream",
     "text": [
      "[473]\tvalidation_0-logloss:0.66222\n",
      "[474]\tvalidation_0-logloss:0.66213\n",
      "[475]\tvalidation_0-logloss:0.66256\n",
      "[476]\tvalidation_0-logloss:0.66275\n",
      "[477]\tvalidation_0-logloss:0.66267\n",
      "[478]\tvalidation_0-logloss:0.66294\n",
      "[479]\tvalidation_0-logloss:0.66318\n",
      "[480]\tvalidation_0-logloss:0.66389\n",
      "[481]\tvalidation_0-logloss:0.66370\n",
      "[482]\tvalidation_0-logloss:0.66393\n",
      "[483]\tvalidation_0-logloss:0.66376\n",
      "[484]\tvalidation_0-logloss:0.66402\n",
      "[485]\tvalidation_0-logloss:0.66430\n",
      "[486]\tvalidation_0-logloss:0.66458\n",
      "[487]\tvalidation_0-logloss:0.66445\n",
      "[488]\tvalidation_0-logloss:0.66512\n",
      "[489]\tvalidation_0-logloss:0.66520\n",
      "[490]\tvalidation_0-logloss:0.66531\n",
      "[491]\tvalidation_0-logloss:0.66604\n",
      "[492]\tvalidation_0-logloss:0.66611\n",
      "[493]\tvalidation_0-logloss:0.66626\n",
      "[494]\tvalidation_0-logloss:0.66638\n",
      "[495]\tvalidation_0-logloss:0.66710\n",
      "[496]\tvalidation_0-logloss:0.66757\n",
      "[497]\tvalidation_0-logloss:0.66790\n",
      "[498]\tvalidation_0-logloss:0.66814\n",
      "[499]\tvalidation_0-logloss:0.66805\n"
     ]
    }
   ],
   "source": [
    "clf=XGBClassifier(max_depth=10,colsample_bytree=0.8,learning_rate=0.02,n_estimators=500,nthread=-1)\n",
    "clf.fit(X_train,(y_train),eval_metric=\"logloss\",eval_set=[(X_test, y_test)])\n",
    "y_pred_prob5=clf.predict_proba(X_test)     \n",
    "\n",
    "#store the predicted probabilities for class 1\n",
    "#y_pred_prob5 = model.predict_proba(X_test)[:, 1]"
   ]
  },
  {
   "cell_type": "code",
   "execution_count": 186,
   "metadata": {},
   "outputs": [
    {
     "data": {
      "text/plain": [
       "array([0.27798749, 0.15743123, 0.21956522, 0.52603554, 0.42774727,\n",
       "       0.18478334, 0.52609022, 0.47426641, 0.26484398, 0.46306544])"
      ]
     },
     "execution_count": 186,
     "metadata": {},
     "output_type": "execute_result"
    }
   ],
   "source": [
    "from sklearn.calibration import CalibratedClassifierCV\n",
    "svm = SVC()\n",
    "classifiersv = CalibratedClassifierCV(svm)\n",
    "classifiersv.fit(X_train, y_train)\n",
    "CalibratedClassifierCV(base_estimator=SVC(C=1.0, cache_size=200, class_weight=None, coef0=0.0,\n",
    "  decision_function_shape='ovr', degree=3, gamma='auto', kernel='rbf',\n",
    "  max_iter=-1, probability=False, random_state=None, shrinking=True,\n",
    "  tol=0.001, verbose=False),\n",
    "            cv=3, method='sigmoid')\n",
    "classifiersv.predict_proba(X_test)[0:10,1]\n",
    "#classifiersv.predict_proba(X_test)[0:10, 1]\n"
   ]
  },
  {
   "cell_type": "code",
   "execution_count": 187,
   "metadata": {},
   "outputs": [],
   "source": [
    "y_pred_prob6 = classifiersv.predict_proba(X_test)[:, 1]\n"
   ]
  },
  {
   "cell_type": "code",
   "execution_count": 1,
   "metadata": {},
   "outputs": [],
   "source": [
    "%matplotlib inline\n",
    "import matplotlib.pyplot as plt\n",
    "\n",
    "# adjust the font size \n",
    "plt.rcParams['font.size'] = 12\n"
   ]
  },
  {
   "cell_type": "code",
   "execution_count": 11,
   "metadata": {},
   "outputs": [],
   "source": [
    "import numpy as np\n",
    "import pandas as pd\n",
    "from sklearn.linear_model import LogisticRegression\n",
    "\n",
    "dataset = pd.read_csv('E:/diabetes.csv')\n",
    "dataset.head()\n",
    "from sklearn.model_selection import train_test_split\n",
    "feature_names = ['Pregnancies', 'BMI', 'DiabetesPedigreeFunction', 'Age']\n",
    "X = dataset[feature_names]\n",
    "y = dataset.Outcome\n",
    "X_train,X_test,y_train, y_test=train_test_split(X,y,random_state=0)"
   ]
  },
  {
   "cell_type": "code",
   "execution_count": 13,
   "metadata": {},
   "outputs": [
    {
     "name": "stderr",
     "output_type": "stream",
     "text": [
      "C:\\Users\\sepideh\\Anaconda3\\lib\\site-packages\\sklearn\\linear_model\\logistic.py:432: FutureWarning: Default solver will be changed to 'lbfgs' in 0.22. Specify a solver to silence this warning.\n",
      "  FutureWarning)\n"
     ]
    },
    {
     "data": {
      "text/plain": [
       "Text(0, 0.5, 'Frequency')"
      ]
     },
     "execution_count": 13,
     "metadata": {},
     "output_type": "execute_result"
    },
    {
     "data": {
      "image/png": "[encoded data removed]",
      "text/plain": [
       "<Figure size 432x288 with 1 Axes>"
      ]
     },
     "metadata": {
      "needs_background": "light"
     },
     "output_type": "display_data"
    }
   ],
   "source": [
    "from sklearn.linear_model import LinearRegression\n",
    "\n",
    "logreg=LogisticRegression()\n",
    "logreg.fit(X_train,y_train)\n",
    "y_pred_prob = logreg.predict_proba(X_test)[:, 1]\n",
    "\n",
    "plt.hist(y_pred_prob, bins=4)\n",
    "\n",
    "# x-axis limit from 0 to 1\n",
    "plt.xlim(0,1)\n",
    "plt.title('Histogram of predicted probabilities')\n",
    "plt.xlabel('Predicted probability of diabetes')\n",
    "plt.ylabel('Frequency')"
   ]
  },
  {
   "cell_type": "code",
   "execution_count": 18,
   "metadata": {},
   "outputs": [
    {
     "data": {
      "text/plain": [
       "Text(0, 0.5, 'Frequency')"
      ]
     },
     "execution_count": 18,
     "metadata": {},
     "output_type": "execute_result"
    },
    {
     "data": {
      "image/png": "[encoded data removed]",
      "text/plain": [
       "<Figure size 432x288 with 1 Axes>"
      ]
     },
     "metadata": {
      "needs_background": "light"
     },
     "output_type": "display_data"
    }
   ],
   "source": [
    "%matplotlib inline\n",
    "import matplotlib.pyplot as plt\n",
    "\n",
    "# adjust the font size \n",
    "plt.rcParams['font.size'] = 12\n",
    "import numpy as np\n",
    "import pandas as pd\n",
    "from sklearn.neighbors import KNeighborsClassifier\n",
    "\n",
    "from sklearn.tree import DecisionTreeClassifier\n",
    "from sklearn.ensemble import RandomForestClassifier\n",
    "from sklearn.ensemble import GradientBoostingClassifier\n",
    "from sklearn.cluster import KMeans\n",
    "\n",
    "\n",
    "dataset = pd.read_csv('E:/diabetes.csv')\n",
    "dataset.head()\n",
    "from sklearn.model_selection import train_test_split\n",
    "feature_names = ['Pregnancies', 'BMI', 'DiabetesPedigreeFunction', 'Age']\n",
    "X = dataset[feature_names]\n",
    "y = dataset.Outcome\n",
    "X_train,X_test,y_train, y_test=train_test_split(X,y,random_state=0)\n",
    "\n",
    "from sklearn.neighbors import KNeighborsClassifier\n",
    "classifier = KNeighborsClassifier(n_neighbors = 5, metric = 'minkowski', p = 2)\n",
    "classifier.fit(X_train, y_train)\n",
    "y_pred = classifier.predict(X_test)\n",
    "y_pred_prob1 = classifier.predict_proba(X_test)[:, 1]\n",
    "\n",
    "plt.hist(y_pred_prob1, bins=4)\n",
    "\n",
    "# x-axis limit from 0 to 1\n",
    "plt.xlim(0,1)\n",
    "plt.title('Histogram of predicted probabilities')\n",
    "plt.xlabel('Predicted probability of diabetes')\n",
    "plt.ylabel('Frequency')\n"
   ]
  },
  {
   "cell_type": "code",
   "execution_count": 21,
   "metadata": {},
   "outputs": [
    {
     "data": {
      "text/plain": [
       "Text(0, 0.5, 'Frequency')"
      ]
     },
     "execution_count": 21,
     "metadata": {},
     "output_type": "execute_result"
    },
    {
     "data": {
      "image/png": "[encoded data removed]",
      "text/plain": [
       "<Figure size 432x288 with 1 Axes>"
      ]
     },
     "metadata": {
      "needs_background": "light"
     },
     "output_type": "display_data"
    }
   ],
   "source": [
    "%matplotlib inline\n",
    "import matplotlib.pyplot as plt\n",
    "\n",
    "# adjust the font size \n",
    "plt.rcParams['font.size'] = 12\n",
    "import numpy as np\n",
    "import pandas as pd\n",
    "from sklearn.neighbors import KNeighborsClassifier\n",
    "\n",
    "from sklearn.tree import DecisionTreeClassifier\n",
    "from sklearn.ensemble import RandomForestClassifier\n",
    "from sklearn.ensemble import GradientBoostingClassifier\n",
    "from sklearn.cluster import KMeans\n",
    "\n",
    "\n",
    "dataset = pd.read_csv('E:/diabetes.csv')\n",
    "dataset.head()\n",
    "from sklearn.model_selection import train_test_split\n",
    "feature_names = ['Pregnancies', 'BMI', 'DiabetesPedigreeFunction', 'Age']\n",
    "X = dataset[feature_names]\n",
    "y = dataset.Outcome\n",
    "X_train,X_test,y_train, y_test=train_test_split(X,y,random_state=0)\n",
    "\n",
    "\n",
    "\n",
    "from sklearn.tree import DecisionTreeClassifier\n",
    "from sklearn.tree import DecisionTreeClassifier\n",
    "classifierdt = DecisionTreeClassifier(criterion = 'entropy', random_state = 0)\n",
    "classifierdt.fit(X_train, y_train)\n",
    "\n",
    "y_preddt = classifierdt.predict(X_test)\n",
    "\n",
    "\n",
    "\n",
    "\n",
    "y_pred_prob2 = classifierdt.predict_proba(X_test)[:, 1]\n",
    "plt.hist(y_pred_prob2, bins=4)\n",
    "\n",
    "# x-axis limit from 0 to 1\n",
    "plt.xlim(0,1)\n",
    "plt.title('Histogram of predicted probabilities')\n",
    "plt.xlabel('Predicted probability of diabetes')\n",
    "plt.ylabel('Frequency')\n"
   ]
  },
  {
   "cell_type": "code",
   "execution_count": 28,
   "metadata": {},
   "outputs": [
    {
     "name": "stderr",
     "output_type": "stream",
     "text": [
      "C:\\Users\\sepideh\\Anaconda3\\lib\\site-packages\\sklearn\\model_selection\\_split.py:1978: FutureWarning: The default value of cv will change from 3 to 5 in version 0.22. Specify it explicitly to silence this warning.\n",
      "  warnings.warn(CV_WARNING, FutureWarning)\n",
      "C:\\Users\\sepideh\\Anaconda3\\lib\\site-packages\\sklearn\\svm\\base.py:193: FutureWarning: The default value of gamma will change from 'auto' to 'scale' in version 0.22 to account better for unscaled features. Set gamma explicitly to 'auto' or 'scale' to avoid this warning.\n",
      "  \"avoid this warning.\", FutureWarning)\n",
      "C:\\Users\\sepideh\\Anaconda3\\lib\\site-packages\\sklearn\\svm\\base.py:193: FutureWarning: The default value of gamma will change from 'auto' to 'scale' in version 0.22 to account better for unscaled features. Set gamma explicitly to 'auto' or 'scale' to avoid this warning.\n",
      "  \"avoid this warning.\", FutureWarning)\n",
      "C:\\Users\\sepideh\\Anaconda3\\lib\\site-packages\\sklearn\\svm\\base.py:193: FutureWarning: The default value of gamma will change from 'auto' to 'scale' in version 0.22 to account better for unscaled features. Set gamma explicitly to 'auto' or 'scale' to avoid this warning.\n",
      "  \"avoid this warning.\", FutureWarning)\n"
     ]
    },
    {
     "data": {
      "text/plain": [
       "array([0.27798749, 0.15743123, 0.21956522, 0.52603554, 0.42774727,\n",
       "       0.18478334, 0.52609022, 0.47426641, 0.26484398, 0.46306544])"
      ]
     },
     "execution_count": 28,
     "metadata": {},
     "output_type": "execute_result"
    }
   ],
   "source": [
    "from sklearn.calibration import CalibratedClassifierCV\n",
    "svm = SVC()\n",
    "classifiersv = CalibratedClassifierCV(svm)\n",
    "classifiersv.fit(X_train, y_train)\n",
    "CalibratedClassifierCV(base_estimator=SVC(C=1.0, cache_size=200, class_weight=None, coef0=0.0,\n",
    "  decision_function_shape='ovr', degree=3, gamma='auto', kernel='rbf',\n",
    "  max_iter=-1, probability=True, random_state=None, shrinking=True,\n",
    "  tol=0.001, verbose=False),\n",
    "            cv=3, method='sigmoid')\n",
    "classifiersv.predict_proba(X_test)[0:10,1]\n",
    "#classifiersv.predict_proba(X_test)[0:10, 1]\n"
   ]
  },
  {
   "cell_type": "code",
   "execution_count": 32,
   "metadata": {},
   "outputs": [
    {
     "name": "stderr",
     "output_type": "stream",
     "text": [
      "C:\\Users\\sepideh\\Anaconda3\\lib\\site-packages\\sklearn\\svm\\base.py:193: FutureWarning: The default value of gamma will change from 'auto' to 'scale' in version 0.22 to account better for unscaled features. Set gamma explicitly to 'auto' or 'scale' to avoid this warning.\n",
      "  \"avoid this warning.\", FutureWarning)\n"
     ]
    },
    {
     "ename": "AttributeError",
     "evalue": "predict_proba is not available when  probability=False",
     "output_type": "error",
     "traceback": [
      "\u001b[1;31m---------------------------------------------------------------------------\u001b[0m",
      "\u001b[1;31mAttributeError\u001b[0m                            Traceback (most recent call last)",
      "\u001b[1;32m<ipython-input-32-decc19f7ec8e>\u001b[0m in \u001b[0;36m<module>\u001b[1;34m\u001b[0m\n\u001b[0;32m     13\u001b[0m  tol=0.001, verbose=False)\n\u001b[0;32m     14\u001b[0m \u001b[1;33m\u001b[0m\u001b[0m\n\u001b[1;32m---> 15\u001b[1;33m \u001b[0mclf\u001b[0m\u001b[1;33m.\u001b[0m\u001b[0mpredict_proba\u001b[0m\u001b[1;33m(\u001b[0m\u001b[0mX_test\u001b[0m\u001b[1;33m)\u001b[0m\u001b[1;33m\u001b[0m\u001b[1;33m\u001b[0m\u001b[0m\n\u001b[0m",
      "\u001b[1;32m~\\Anaconda3\\lib\\site-packages\\sklearn\\svm\\base.py\u001b[0m in \u001b[0;36mpredict_proba\u001b[1;34m(self)\u001b[0m\n\u001b[0;32m    614\u001b[0m         \u001b[0mdatasets\u001b[0m\u001b[1;33m.\u001b[0m\u001b[1;33m\u001b[0m\u001b[1;33m\u001b[0m\u001b[0m\n\u001b[0;32m    615\u001b[0m         \"\"\"\n\u001b[1;32m--> 616\u001b[1;33m         \u001b[0mself\u001b[0m\u001b[1;33m.\u001b[0m\u001b[0m_check_proba\u001b[0m\u001b[1;33m(\u001b[0m\u001b[1;33m)\u001b[0m\u001b[1;33m\u001b[0m\u001b[1;33m\u001b[0m\u001b[0m\n\u001b[0m\u001b[0;32m    617\u001b[0m         \u001b[1;32mreturn\u001b[0m \u001b[0mself\u001b[0m\u001b[1;33m.\u001b[0m\u001b[0m_predict_proba\u001b[0m\u001b[1;33m\u001b[0m\u001b[1;33m\u001b[0m\u001b[0m\n\u001b[0;32m    618\u001b[0m \u001b[1;33m\u001b[0m\u001b[0m\n",
      "\u001b[1;32m~\\Anaconda3\\lib\\site-packages\\sklearn\\svm\\base.py\u001b[0m in \u001b[0;36m_check_proba\u001b[1;34m(self)\u001b[0m\n\u001b[0;32m    581\u001b[0m     \u001b[1;32mdef\u001b[0m \u001b[0m_check_proba\u001b[0m\u001b[1;33m(\u001b[0m\u001b[0mself\u001b[0m\u001b[1;33m)\u001b[0m\u001b[1;33m:\u001b[0m\u001b[1;33m\u001b[0m\u001b[1;33m\u001b[0m\u001b[0m\n\u001b[0;32m    582\u001b[0m         \u001b[1;32mif\u001b[0m \u001b[1;32mnot\u001b[0m \u001b[0mself\u001b[0m\u001b[1;33m.\u001b[0m\u001b[0mprobability\u001b[0m\u001b[1;33m:\u001b[0m\u001b[1;33m\u001b[0m\u001b[1;33m\u001b[0m\u001b[0m\n\u001b[1;32m--> 583\u001b[1;33m             raise AttributeError(\"predict_proba is not available when \"\n\u001b[0m\u001b[0;32m    584\u001b[0m                                  \" probability=False\")\n\u001b[0;32m    585\u001b[0m         \u001b[1;32mif\u001b[0m \u001b[0mself\u001b[0m\u001b[1;33m.\u001b[0m\u001b[0m_impl\u001b[0m \u001b[1;32mnot\u001b[0m \u001b[1;32min\u001b[0m \u001b[1;33m(\u001b[0m\u001b[1;34m'c_svc'\u001b[0m\u001b[1;33m,\u001b[0m \u001b[1;34m'nu_svc'\u001b[0m\u001b[1;33m)\u001b[0m\u001b[1;33m:\u001b[0m\u001b[1;33m\u001b[0m\u001b[1;33m\u001b[0m\u001b[0m\n",
      "\u001b[1;31mAttributeError\u001b[0m: predict_proba is not available when  probability=False"
     ]
    }
   ],
   "source": [
    " >>> from sklearn import svm\n",
    "\n",
    ">>> clf = svm.SVC()\n",
    "\n",
    ">>> clf.fit(X_test, y_test)\n",
    "\n",
    "SVC(C=1.0, cache_size=200, class_weight=None, coef0=0.0,\n",
    "\n",
    "  decision_function_shape='ovr', degree=3, gamma='auto', kernel='rbf',\n",
    "\n",
    "  max_iter=-1, probability=True, random_state=None, shrinking=True,\n",
    "\n",
    "  tol=0.001, verbose=False)\n",
    "\n",
    ">>> clf.predict_proba(X_test)"
   ]
  },
  {
   "cell_type": "code",
   "execution_count": 33,
   "metadata": {},
   "outputs": [
    {
     "ename": "AttributeError",
     "evalue": "predict_proba is not available when  probability=False",
     "output_type": "error",
     "traceback": [
      "\u001b[1;31m---------------------------------------------------------------------------\u001b[0m",
      "\u001b[1;31mAttributeError\u001b[0m                            Traceback (most recent call last)",
      "\u001b[1;32m<ipython-input-33-0fdf485d986c>\u001b[0m in \u001b[0;36m<module>\u001b[1;34m\u001b[0m\n\u001b[0;32m     33\u001b[0m \u001b[1;33m\u001b[0m\u001b[0m\n\u001b[0;32m     34\u001b[0m \u001b[1;33m\u001b[0m\u001b[0m\n\u001b[1;32m---> 35\u001b[1;33m \u001b[0my_pred_prob6\u001b[0m \u001b[1;33m=\u001b[0m \u001b[0mclassifiersv\u001b[0m\u001b[1;33m.\u001b[0m\u001b[0mpredict_proba\u001b[0m\u001b[1;33m(\u001b[0m\u001b[0mX_test\u001b[0m\u001b[1;33m)\u001b[0m\u001b[1;33m[\u001b[0m\u001b[1;33m:\u001b[0m\u001b[1;33m,\u001b[0m \u001b[1;36m1\u001b[0m\u001b[1;33m]\u001b[0m\u001b[1;33m\u001b[0m\u001b[1;33m\u001b[0m\u001b[0m\n\u001b[0m\u001b[0;32m     36\u001b[0m \u001b[0mplt\u001b[0m\u001b[1;33m.\u001b[0m\u001b[0mhist\u001b[0m\u001b[1;33m(\u001b[0m\u001b[0my_pred_prob6\u001b[0m\u001b[1;33m,\u001b[0m \u001b[0mbins\u001b[0m\u001b[1;33m=\u001b[0m\u001b[1;36m4\u001b[0m\u001b[1;33m)\u001b[0m\u001b[1;33m\u001b[0m\u001b[1;33m\u001b[0m\u001b[0m\n\u001b[0;32m     37\u001b[0m \u001b[1;33m\u001b[0m\u001b[0m\n",
      "\u001b[1;32m~\\Anaconda3\\lib\\site-packages\\sklearn\\svm\\base.py\u001b[0m in \u001b[0;36mpredict_proba\u001b[1;34m(self)\u001b[0m\n\u001b[0;32m    614\u001b[0m         \u001b[0mdatasets\u001b[0m\u001b[1;33m.\u001b[0m\u001b[1;33m\u001b[0m\u001b[1;33m\u001b[0m\u001b[0m\n\u001b[0;32m    615\u001b[0m         \"\"\"\n\u001b[1;32m--> 616\u001b[1;33m         \u001b[0mself\u001b[0m\u001b[1;33m.\u001b[0m\u001b[0m_check_proba\u001b[0m\u001b[1;33m(\u001b[0m\u001b[1;33m)\u001b[0m\u001b[1;33m\u001b[0m\u001b[1;33m\u001b[0m\u001b[0m\n\u001b[0m\u001b[0;32m    617\u001b[0m         \u001b[1;32mreturn\u001b[0m \u001b[0mself\u001b[0m\u001b[1;33m.\u001b[0m\u001b[0m_predict_proba\u001b[0m\u001b[1;33m\u001b[0m\u001b[1;33m\u001b[0m\u001b[0m\n\u001b[0;32m    618\u001b[0m \u001b[1;33m\u001b[0m\u001b[0m\n",
      "\u001b[1;32m~\\Anaconda3\\lib\\site-packages\\sklearn\\svm\\base.py\u001b[0m in \u001b[0;36m_check_proba\u001b[1;34m(self)\u001b[0m\n\u001b[0;32m    581\u001b[0m     \u001b[1;32mdef\u001b[0m \u001b[0m_check_proba\u001b[0m\u001b[1;33m(\u001b[0m\u001b[0mself\u001b[0m\u001b[1;33m)\u001b[0m\u001b[1;33m:\u001b[0m\u001b[1;33m\u001b[0m\u001b[1;33m\u001b[0m\u001b[0m\n\u001b[0;32m    582\u001b[0m         \u001b[1;32mif\u001b[0m \u001b[1;32mnot\u001b[0m \u001b[0mself\u001b[0m\u001b[1;33m.\u001b[0m\u001b[0mprobability\u001b[0m\u001b[1;33m:\u001b[0m\u001b[1;33m\u001b[0m\u001b[1;33m\u001b[0m\u001b[0m\n\u001b[1;32m--> 583\u001b[1;33m             raise AttributeError(\"predict_proba is not available when \"\n\u001b[0m\u001b[0;32m    584\u001b[0m                                  \" probability=False\")\n\u001b[0;32m    585\u001b[0m         \u001b[1;32mif\u001b[0m \u001b[0mself\u001b[0m\u001b[1;33m.\u001b[0m\u001b[0m_impl\u001b[0m \u001b[1;32mnot\u001b[0m \u001b[1;32min\u001b[0m \u001b[1;33m(\u001b[0m\u001b[1;34m'c_svc'\u001b[0m\u001b[1;33m,\u001b[0m \u001b[1;34m'nu_svc'\u001b[0m\u001b[1;33m)\u001b[0m\u001b[1;33m:\u001b[0m\u001b[1;33m\u001b[0m\u001b[1;33m\u001b[0m\u001b[0m\n",
      "\u001b[1;31mAttributeError\u001b[0m: predict_proba is not available when  probability=False"
     ]
    }
   ],
   "source": [
    "%matplotlib inline\n",
    "import matplotlib.pyplot as plt\n",
    "\n",
    "# adjust the font size \n",
    "plt.rcParams['font.size'] = 12\n",
    "import numpy as np\n",
    "import pandas as pd\n",
    "from sklearn.neighbors import KNeighborsClassifier\n",
    "\n",
    "from sklearn.tree import DecisionTreeClassifier\n",
    "from sklearn.ensemble import RandomForestClassifier\n",
    "from sklearn.ensemble import GradientBoostingClassifier\n",
    "from sklearn.cluster import KMeans\n",
    "\n",
    "\n",
    "dataset = pd.read_csv('E:/diabetes.csv')\n",
    "dataset.head()\n",
    "from sklearn.model_selection import train_test_split\n",
    "feature_names = ['Pregnancies', 'BMI', 'DiabetesPedigreeFunction', 'Age']\n",
    "X = dataset[feature_names]\n",
    "y = dataset.Outcome\n",
    "X_train,X_test,y_train, y_test=train_test_split(X,y,random_state=0)\n",
    "\n",
    "\n",
    "from sklearn.svm import SVC\n",
    "classifiersv = SVC(kernel = 'linear', random_state = 0)\n",
    "classifiersv.fit(X_train, y_train)\n",
    "\n",
    "\n",
    "y_predsv = classifiersv.predict(X_test)\n",
    "\n",
    "\n",
    "\n",
    "\n",
    "y_pred_prob6 = classifiersv.predict_proba(X_test)[:, 1]\n",
    "plt.hist(y_pred_prob6, bins=4)\n",
    "\n",
    "# x-axis limit from 0 to 1\n",
    "plt.xlim(0,1)\n",
    "plt.title('Histogram of predicted probabilities')\n",
    "plt.xlabel('Predicted probability of diabetes')\n",
    "plt.ylabel('Frequency')"
   ]
  },
  {
   "cell_type": "code",
   "execution_count": null,
   "metadata": {},
   "outputs": [],
   "source": []
  },
  {
   "cell_type": "markdown",
   "metadata": {},
   "source": [
    "# ROC Curves and Area Under the Curve (AUC)\n"
   ]
  },
  {
   "cell_type": "code",
   "execution_count": null,
   "metadata": {},
   "outputs": [],
   "source": []
  },
  {
   "cell_type": "code",
   "execution_count": null,
   "metadata": {},
   "outputs": [],
   "source": []
  },
  {
   "cell_type": "code",
   "execution_count": 189,
   "metadata": {},
   "outputs": [
    {
     "data": {
      "image/png": "[encoded data removed]",
      "text/plain": [
       "<Figure size 432x288 with 1 Axes>"
      ]
     },
     "metadata": {
      "needs_background": "light"
     },
     "output_type": "display_data"
    }
   ],
   "source": [
    "# IMPORTANT: first argument is true values, second argument is predicted probabilities\n",
    "fpr, tpr, thresholds = metrics.roc_curve(y_test, y_pred_prob)\n",
    "fpr1, tpr1, thresholds1 = metrics.roc_curve(y_test, y_pred_prob1)\n",
    "fpr2, tpr2, thresholds2 = metrics.roc_curve(y_test, y_pred_prob2)\n",
    "fpr3, tpr3, thresholds3 = metrics.roc_curve(y_test, y_pred_prob3)\n",
    "fpr4, tpr4, thresholds4 = metrics.roc_curve(y_test, y_pred_prob4)\n",
    "#fpr0, tpr0, thresholds5 = metrics.roc_curve(y_test, y_pred_prob0)\n",
    "fpr6, tpr6, thresholds6 = metrics.roc_curve(y_test, y_pred_prob6)\n",
    "\n",
    "plt.plot(fpr, tpr)\n",
    "plt.plot(fpr1, tpr1)\n",
    "plt.plot(fpr2, tpr2)\n",
    "plt.plot(fpr3, tpr3)\n",
    "plt.plot(fpr4, tpr4)\n",
    "#plt.plot(fpr0, tpr0)\n",
    "plt.plot(fpr6, tpr6)\n",
    "plt.xlim([0.0, 1.0])\n",
    "plt.ylim([0.0, 1.0])\n",
    "plt.title('ROC curve for diabetes classifier')\n",
    "plt.xlabel('False Positive Rate (1 - Specificity)')\n",
    "plt.ylabel('True Positive Rate (Sensitivity)')\n",
    "plt.grid(True)"
   ]
  },
  {
   "cell_type": "markdown",
   "metadata": {},
   "source": [
    "# AUC is the percentage of the ROC plot that is underneath the curve:\n"
   ]
  },
  {
   "cell_type": "code",
   "execution_count": 190,
   "metadata": {},
   "outputs": [
    {
     "name": "stdout",
     "output_type": "stream",
     "text": [
      "0.7497518610421836\n"
     ]
    }
   ],
   "source": [
    "# IMPORTANT: first argument is true values, second argument is predicted probabilities\n",
    "print(metrics.roc_auc_score(y_test, y_pred_prob))"
   ]
  },
  {
   "cell_type": "code",
   "execution_count": 191,
   "metadata": {
    "scrolled": true
   },
   "outputs": [
    {
     "name": "stdout",
     "output_type": "stream",
     "text": [
      "0.5957816377171214\n"
     ]
    }
   ],
   "source": [
    "# IMPORTANT: first argument is true values, second argument is predicted probabilities\n",
    "print(metrics.roc_auc_score(y_test, y_pred_prob1))"
   ]
  },
  {
   "cell_type": "code",
   "execution_count": 192,
   "metadata": {},
   "outputs": [
    {
     "name": "stdout",
     "output_type": "stream",
     "text": [
      "0.5957816377171214\n"
     ]
    }
   ],
   "source": [
    "# IMPORTANT: first argument is true values, second argument is predicted probabilities\n",
    "print(metrics.roc_auc_score(y_test, y_pred_prob2))"
   ]
  },
  {
   "cell_type": "code",
   "execution_count": 193,
   "metadata": {},
   "outputs": [
    {
     "name": "stdout",
     "output_type": "stream",
     "text": [
      "0.6923076923076923\n"
     ]
    }
   ],
   "source": [
    "# IMPORTANT: first argument is true values, second argument is predicted probabilities\n",
    "print(metrics.roc_auc_score(y_test, y_pred_prob3))"
   ]
  },
  {
   "cell_type": "code",
   "execution_count": 194,
   "metadata": {},
   "outputs": [
    {
     "name": "stdout",
     "output_type": "stream",
     "text": [
      "0.7214640198511166\n"
     ]
    }
   ],
   "source": [
    "# IMPORTANT: first argument is true values, second argument is predicted probabilities\n",
    "print(metrics.roc_auc_score(y_test, y_pred_prob4))"
   ]
  },
  {
   "cell_type": "code",
   "execution_count": 196,
   "metadata": {},
   "outputs": [
    {
     "name": "stdout",
     "output_type": "stream",
     "text": [
      "0.7084367245657568\n"
     ]
    }
   ],
   "source": [
    "# IMPORTANT: first argument is true values, second argument is predicted probabilities\n",
    "print(metrics.roc_auc_score(y_test, y_pred_prob6))"
   ]
  },
  {
   "cell_type": "markdown",
   "metadata": {},
   "source": [
    "# Positive predictive value"
   ]
  },
  {
   "cell_type": "code",
   "execution_count": 197,
   "metadata": {},
   "outputs": [
    {
     "name": "stdout",
     "output_type": "stream",
     "text": [
      "0.6\n",
      "ppv lr: 0.6\n"
     ]
    }
   ],
   "source": [
    "print(TP / float(TP + FP))\n",
    "print('ppv lr:',metrics.precision_score(y_test, y_pred_class))\n"
   ]
  },
  {
   "cell_type": "code",
   "execution_count": 198,
   "metadata": {},
   "outputs": [
    {
     "name": "stdout",
     "output_type": "stream",
     "text": [
      "0.4807692307692308\n",
      "ppv Kmeans: 0.4807692307692308\n"
     ]
    }
   ],
   "source": [
    "print(TP1 / float(TP1 + FP1))\n",
    "print('ppv Kmeans:',metrics.precision_score(y_test, y_pred))\n"
   ]
  },
  {
   "cell_type": "code",
   "execution_count": 199,
   "metadata": {},
   "outputs": [
    {
     "name": "stdout",
     "output_type": "stream",
     "text": [
      "0.4411764705882353\n",
      "ppv DT: 0.4411764705882353\n"
     ]
    }
   ],
   "source": [
    "print(TP2 / float(TP2 + FP2))\n",
    "print('ppv DT:',metrics.precision_score(y_test, y_preddt))\n"
   ]
  },
  {
   "cell_type": "code",
   "execution_count": 200,
   "metadata": {},
   "outputs": [
    {
     "name": "stdout",
     "output_type": "stream",
     "text": [
      "0.5\n",
      "ppv RF: 0.5\n"
     ]
    }
   ],
   "source": [
    "print(TP3 / float(TP3 + FP3))\n",
    "print('ppv RF:',metrics.precision_score(y_test, y_predrf))\n"
   ]
  },
  {
   "cell_type": "code",
   "execution_count": 206,
   "metadata": {},
   "outputs": [
    {
     "name": "stdout",
     "output_type": "stream",
     "text": [
      "0.5370370370370371\n",
      "ppv XGBOOST: 0.5370370370370371\n"
     ]
    }
   ],
   "source": [
    "print(TP4 / float(TP4 + FP4))\n",
    "print('ppv XGBOOST:',metrics.precision_score(y_test, y_predxgb))"
   ]
  },
  {
   "cell_type": "code",
   "execution_count": 205,
   "metadata": {},
   "outputs": [
    {
     "name": "stdout",
     "output_type": "stream",
     "text": [
      "0.84\n",
      "ppv GBM: 0.84\n"
     ]
    }
   ],
   "source": [
    "print(TP5 / float(TP5 + FP5))\n",
    "print('ppv GBM:',metrics.precision_score(y_test, y_predgbm))\n"
   ]
  },
  {
   "cell_type": "code",
   "execution_count": 204,
   "metadata": {},
   "outputs": [
    {
     "name": "stdout",
     "output_type": "stream",
     "text": [
      "0.6060606060606061\n",
      "ppv GBM: 0.6060606060606061\n"
     ]
    }
   ],
   "source": [
    "print(TP6 / float(TP6 + FP6))\n",
    "print('ppv SVM:',metrics.precision_score(y_test, y_predsv))\n"
   ]
  },
  {
   "cell_type": "markdown",
   "metadata": {},
   "source": [
    "# Negative predictive value (NPV)\n"
   ]
  },
  {
   "cell_type": "code",
   "execution_count": 207,
   "metadata": {},
   "outputs": [
    {
     "name": "stdout",
     "output_type": "stream",
     "text": [
      "NPV LR: 0.7283950617283951\n"
     ]
    }
   ],
   "source": [
    "print('NPV LR:',TN / float(TN + FN))\n"
   ]
  },
  {
   "cell_type": "code",
   "execution_count": 208,
   "metadata": {},
   "outputs": [
    {
     "name": "stdout",
     "output_type": "stream",
     "text": [
      "NPV Kmeans: 0.7357142857142858\n"
     ]
    }
   ],
   "source": [
    "print('NPV Kmeans:',TN1 / float(TN1 + FN1))\n"
   ]
  },
  {
   "cell_type": "code",
   "execution_count": 209,
   "metadata": {},
   "outputs": [
    {
     "name": "stdout",
     "output_type": "stream",
     "text": [
      "NPV DT: 0.7419354838709677\n"
     ]
    }
   ],
   "source": [
    "print('NPV DT:',TN2 / float(TN2 + FN2))\n"
   ]
  },
  {
   "cell_type": "code",
   "execution_count": 210,
   "metadata": {},
   "outputs": [
    {
     "name": "stdout",
     "output_type": "stream",
     "text": [
      "NPV RF: 0.7297297297297297\n"
     ]
    }
   ],
   "source": [
    "print('NPV RF:',TN3 / float(TN3 + FN3))\n"
   ]
  },
  {
   "cell_type": "code",
   "execution_count": 211,
   "metadata": {},
   "outputs": [
    {
     "name": "stdout",
     "output_type": "stream",
     "text": [
      "NPV XGB: 0.7608695652173914\n"
     ]
    }
   ],
   "source": [
    "print('NPV XGB:',TN4 / float(TN4 + FN4))\n"
   ]
  },
  {
   "cell_type": "code",
   "execution_count": 212,
   "metadata": {},
   "outputs": [
    {
     "name": "stdout",
     "output_type": "stream",
     "text": [
      "NPV GBM: 0.8591549295774648\n"
     ]
    }
   ],
   "source": [
    "print('NPV GBM:',TN5 / float(TN5 + FN5))\n"
   ]
  },
  {
   "cell_type": "code",
   "execution_count": 213,
   "metadata": {},
   "outputs": [
    {
     "name": "stdout",
     "output_type": "stream",
     "text": [
      "NPV SVM: 0.7358490566037735\n"
     ]
    }
   ],
   "source": [
    "print('NPV SVM:',TN6 / float(TN6 + FN6))\n"
   ]
  },
  {
   "cell_type": "code",
   "execution_count": 221,
   "metadata": {},
   "outputs": [
    {
     "name": "stdout",
     "output_type": "stream",
     "text": [
      "              precision    recall  f1-score   support\n",
      "\n",
      "           0       0.73      0.91      0.81       130\n",
      "           1       0.60      0.29      0.39        62\n",
      "\n",
      "    accuracy                           0.71       192\n",
      "   macro avg       0.66      0.60      0.60       192\n",
      "weighted avg       0.69      0.71      0.67       192\n",
      "\n"
     ]
    }
   ],
   "source": [
    "from sklearn.metrics import classification_report\n",
    "print(classification_report(y_test, y_pred_class))"
   ]
  },
  {
   "cell_type": "code",
   "execution_count": 223,
   "metadata": {},
   "outputs": [],
   "source": [
    "from sklearn.metrics import precision_recall_curve\n",
    "precision, recall, tresholds= precision_recall_curve(y_test, y_pred_class)"
   ]
  },
  {
   "cell_type": "code",
   "execution_count": 224,
   "metadata": {},
   "outputs": [
    {
     "data": {
      "text/plain": [
       "array([0.32291667, 0.6       , 1.        ])"
      ]
     },
     "execution_count": 224,
     "metadata": {},
     "output_type": "execute_result"
    }
   ],
   "source": [
    "precision"
   ]
  },
  {
   "cell_type": "code",
   "execution_count": 231,
   "metadata": {},
   "outputs": [
    {
     "data": {
      "image/png": "[encoded data removed]",
      "text/plain": [
       "<Figure size 432x288 with 1 Axes>"
      ]
     },
     "metadata": {
      "needs_background": "light"
     },
     "output_type": "display_data"
    }
   ],
   "source": [
    "from sklearn.metrics import precision_recall_curve\n",
    "precision, recall, tresholds= precision_recall_curve(y_test, y_pred_class)\n",
    "plt.plot(precision, recall)\n",
    "precision1, recall1, tresholds1= precision_recall_curve(y_test, y_pred)\n",
    "plt.plot(precision1, recall1)\n",
    "precision2, recall2, tresholds2= precision_recall_curve(y_test, y_preddt)\n",
    "plt.plot(precision2, recall2)\n",
    "precision3, recall3, tresholds3= precision_recall_curve(y_test, y_predrf)\n",
    "plt.plot(precision3, recall3)\n",
    "precision4, recall4, tresholds4= precision_recall_curve(y_test, y_predsv)\n",
    "plt.plot(precision4, recall4)\n",
    "precision5, recall5, tresholds5= precision_recall_curve(y_test, y_predxgb)\n",
    "plt.plot(precision5, recall5)\n",
    "precision6, recall6, tresholds6= precision_recall_curve(y_test, y_predgbm)\n",
    "plt.plot(precision6, recall6)\n",
    "plt.xlim([0.0, 1.0])\n",
    "plt.ylim([0.0, 1.0])\n",
    "plt.title('precision_recall_curve')\n",
    "plt.xlabel('Recall')\n",
    "plt.ylabel('Precision')\n",
    "plt.grid(True)"
   ]
  },
  {
   "cell_type": "code",
   "execution_count": 232,
   "metadata": {},
   "outputs": [],
   "source": [
    "def execute(X_train,y_train,X_test,y_test):\n",
    "    tree=DecisionTreeClassifier(class_weight='balanced')\n",
    "    tree_y_score=tree.fit(X_train,y_train).predict(X_test)\n",
    "    tree_ap_score=average_percision_score(y_test,tree_y_score)\n",
    "    precision,recall,_=precision_recall_curve(y_test,tree_y_score)\n",
    "    values={'ap_score':tree_ap_score,'precision':precision,'recall':recall}\n",
    "    return values"
   ]
  },
  {
   "cell_type": "code",
   "execution_count": 233,
   "metadata": {},
   "outputs": [],
   "source": [
    "def roc_aupr_score(y_train, y_test, average=\"macro\"):\n",
    "    def _binary_roc_aupr_score(y_train, y_test):\n",
    "        precision, recall, pr_thresholds = precision_recall_curve(y_train, y_test)\n",
    "        return auc(precision, recall, reorder=True)\n",
    "        return auc(recall, precision, reorder=True)"
   ]
  },
  {
   "cell_type": "code",
   "execution_count": null,
   "metadata": {},
   "outputs": [],
   "source": []
  },
  {
   "cell_type": "code",
   "execution_count": null,
   "metadata": {},
   "outputs": [],
   "source": []
  }
 ],
 "metadata": {
  "kernelspec": {
   "display_name": "Python 3",
   "language": "python",
   "name": "python3"
  },
  "language_info": {
   "codemirror_mode": {
    "name": "ipython",
    "version": 3
   },
   "file_extension": ".py",
   "mimetype": "text/x-python",
   "name": "python",
   "nbconvert_exporter": "python",
   "pygments_lexer": "ipython3",
   "version": "3.7.4"
  }
 },
 "nbformat": 4,
 "nbformat_minor": 2
}
